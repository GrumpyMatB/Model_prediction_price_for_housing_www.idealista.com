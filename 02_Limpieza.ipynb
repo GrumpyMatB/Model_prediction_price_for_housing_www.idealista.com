{
 "cells": [
  {
   "cell_type": "markdown",
   "metadata": {},
   "source": [
    "# Librerías"
   ]
  },
  {
   "cell_type": "code",
   "execution_count": 655,
   "metadata": {},
   "outputs": [],
   "source": [
    "import pandas as pd\n",
    "import numpy as np\n",
    "from ast import literal_eval  # Para convertir str a una lista organizada\n",
    "import re"
   ]
  },
  {
   "cell_type": "markdown",
   "metadata": {},
   "source": [
    "# Lectura de base de datos"
   ]
  },
  {
   "cell_type": "code",
   "execution_count": 656,
   "metadata": {},
   "outputs": [
    {
     "data": {
      "text/html": [
       "<div>\n",
       "<style scoped>\n",
       "    .dataframe tbody tr th:only-of-type {\n",
       "        vertical-align: middle;\n",
       "    }\n",
       "\n",
       "    .dataframe tbody tr th {\n",
       "        vertical-align: top;\n",
       "    }\n",
       "\n",
       "    .dataframe thead th {\n",
       "        text-align: right;\n",
       "    }\n",
       "</style>\n",
       "<table border=\"1\" class=\"dataframe\">\n",
       "  <thead>\n",
       "    <tr style=\"text-align: right;\">\n",
       "      <th></th>\n",
       "      <th>Titulo</th>\n",
       "      <th>Localización</th>\n",
       "      <th>precio</th>\n",
       "      <th>caracteristicas básicas</th>\n",
       "      <th>Equipamento</th>\n",
       "    </tr>\n",
       "  </thead>\n",
       "  <tbody>\n",
       "    <tr>\n",
       "      <th>0</th>\n",
       "      <td>Chalet pareado en venta en Josep Albages</td>\n",
       "      <td>Sant Llorenç Savall</td>\n",
       "      <td>269000</td>\n",
       "      <td>['Chalet pareado', '3 plantas', '254 m² constr...</td>\n",
       "      <td>['Jardín', 'Consumo: \\n174 kWh/m² año', 'Emisi...</td>\n",
       "    </tr>\n",
       "    <tr>\n",
       "      <th>1</th>\n",
       "      <td>Chalet pareado en venta en Josep Albages</td>\n",
       "      <td>Sant Llorenç Savall</td>\n",
       "      <td>269000</td>\n",
       "      <td>['Chalet pareado', '3 plantas', '254 m² constr...</td>\n",
       "      <td>['Jardín', 'Consumo: \\n174 kWh/m² año', 'Emisi...</td>\n",
       "    </tr>\n",
       "    <tr>\n",
       "      <th>2</th>\n",
       "      <td>Casa de pueblo en venta en calle Nou</td>\n",
       "      <td>Sant Llorenç Savall</td>\n",
       "      <td>92000</td>\n",
       "      <td>['Casa de pueblo', '4 plantas', '241 m² constr...</td>\n",
       "      <td>['Consumo: \\n208 kWh/m² año', 'Emisiones: \\n43...</td>\n",
       "    </tr>\n",
       "    <tr>\n",
       "      <th>3</th>\n",
       "      <td>Casa o chalet independiente en venta en Avets</td>\n",
       "      <td>Sant Llorenç Savall</td>\n",
       "      <td>245000</td>\n",
       "      <td>['Casa o chalet independiente', '2 plantas', '...</td>\n",
       "      <td>['Piscina', 'Jardín', 'Consumo: \\n174 kWh/m² a...</td>\n",
       "    </tr>\n",
       "    <tr>\n",
       "      <th>4</th>\n",
       "      <td>Casa o chalet independiente en venta en aveni...</td>\n",
       "      <td>Sant Llorenç Savall</td>\n",
       "      <td>360000</td>\n",
       "      <td>['Casa o chalet independiente', '1 planta', '2...</td>\n",
       "      <td>['Piscina', 'Jardín', 'Consumo: \\n99 kWh/m² añ...</td>\n",
       "    </tr>\n",
       "  </tbody>\n",
       "</table>\n",
       "</div>"
      ],
      "text/plain": [
       "                                              Titulo         Localización  \\\n",
       "0           Chalet pareado en venta en Josep Albages  Sant Llorenç Savall   \n",
       "1           Chalet pareado en venta en Josep Albages  Sant Llorenç Savall   \n",
       "2               Casa de pueblo en venta en calle Nou  Sant Llorenç Savall   \n",
       "3      Casa o chalet independiente en venta en Avets  Sant Llorenç Savall   \n",
       "4   Casa o chalet independiente en venta en aveni...  Sant Llorenç Savall   \n",
       "\n",
       "   precio                            caracteristicas básicas  \\\n",
       "0  269000  ['Chalet pareado', '3 plantas', '254 m² constr...   \n",
       "1  269000  ['Chalet pareado', '3 plantas', '254 m² constr...   \n",
       "2   92000  ['Casa de pueblo', '4 plantas', '241 m² constr...   \n",
       "3  245000  ['Casa o chalet independiente', '2 plantas', '...   \n",
       "4  360000  ['Casa o chalet independiente', '1 planta', '2...   \n",
       "\n",
       "                                         Equipamento  \n",
       "0  ['Jardín', 'Consumo: \\n174 kWh/m² año', 'Emisi...  \n",
       "1  ['Jardín', 'Consumo: \\n174 kWh/m² año', 'Emisi...  \n",
       "2  ['Consumo: \\n208 kWh/m² año', 'Emisiones: \\n43...  \n",
       "3  ['Piscina', 'Jardín', 'Consumo: \\n174 kWh/m² a...  \n",
       "4  ['Piscina', 'Jardín', 'Consumo: \\n99 kWh/m² añ...  "
      ]
     },
     "execution_count": 656,
     "metadata": {},
     "output_type": "execute_result"
    }
   ],
   "source": [
    "df_casas = pd.read_csv(\"01_casas_idealista.csv\", encoding = \"utf-16\", sep=\";\")\n",
    "df_casas.head()"
   ]
  },
  {
   "cell_type": "code",
   "execution_count": 657,
   "metadata": {},
   "outputs": [
    {
     "data": {
      "text/plain": [
       "\"['Chalet pareado', '3 plantas', '254 m² construidos, 165 m² útiles', '5 habitaciones', '4 baños', 'Parcela de 268 m²', 'Terraza y balcón', 'Plaza de garaje incluida en el precio', 'Segunda mano/buen estado', 'Armarios empotrados', 'Trastero', 'Orientación sur, este', 'Construido en 1995', 'Calefacción individual']\""
      ]
     },
     "execution_count": 657,
     "metadata": {},
     "output_type": "execute_result"
    }
   ],
   "source": [
    "df_casas[\"caracteristicas básicas\"][0]"
   ]
  },
  {
   "cell_type": "markdown",
   "metadata": {},
   "source": [
    "# Convertir str a una lista organizada\n",
    "En nuestra base de datos tenemos que las columnas de \"Caracteristicas básicas\" y \"Equipamento\" tienen datos str pero que en realidad son listas, las tenemos que convertir de str a unas listas organizadas más faciles de manejar"
   ]
  },
  {
   "cell_type": "code",
   "execution_count": 658,
   "metadata": {},
   "outputs": [
    {
     "data": {
      "text/html": [
       "<div>\n",
       "<style scoped>\n",
       "    .dataframe tbody tr th:only-of-type {\n",
       "        vertical-align: middle;\n",
       "    }\n",
       "\n",
       "    .dataframe tbody tr th {\n",
       "        vertical-align: top;\n",
       "    }\n",
       "\n",
       "    .dataframe thead th {\n",
       "        text-align: right;\n",
       "    }\n",
       "</style>\n",
       "<table border=\"1\" class=\"dataframe\">\n",
       "  <thead>\n",
       "    <tr style=\"text-align: right;\">\n",
       "      <th></th>\n",
       "      <th>Titulo</th>\n",
       "      <th>Localización</th>\n",
       "      <th>precio</th>\n",
       "      <th>caracteristicas básicas</th>\n",
       "      <th>Equipamento</th>\n",
       "    </tr>\n",
       "  </thead>\n",
       "  <tbody>\n",
       "    <tr>\n",
       "      <th>0</th>\n",
       "      <td>Chalet pareado en venta en Josep Albages</td>\n",
       "      <td>Sant Llorenç Savall</td>\n",
       "      <td>269000</td>\n",
       "      <td>[Chalet pareado, 3 plantas, 254 m² construidos...</td>\n",
       "      <td>[Jardín, Consumo: \\n174 kWh/m² año, Emisiones:...</td>\n",
       "    </tr>\n",
       "    <tr>\n",
       "      <th>1</th>\n",
       "      <td>Chalet pareado en venta en Josep Albages</td>\n",
       "      <td>Sant Llorenç Savall</td>\n",
       "      <td>269000</td>\n",
       "      <td>[Chalet pareado, 3 plantas, 254 m² construidos...</td>\n",
       "      <td>[Jardín, Consumo: \\n174 kWh/m² año, Emisiones:...</td>\n",
       "    </tr>\n",
       "    <tr>\n",
       "      <th>2</th>\n",
       "      <td>Casa de pueblo en venta en calle Nou</td>\n",
       "      <td>Sant Llorenç Savall</td>\n",
       "      <td>92000</td>\n",
       "      <td>[Casa de pueblo, 4 plantas, 241 m² construidos...</td>\n",
       "      <td>[Consumo: \\n208 kWh/m² año, Emisiones: \\n43 kg...</td>\n",
       "    </tr>\n",
       "    <tr>\n",
       "      <th>3</th>\n",
       "      <td>Casa o chalet independiente en venta en Avets</td>\n",
       "      <td>Sant Llorenç Savall</td>\n",
       "      <td>245000</td>\n",
       "      <td>[Casa o chalet independiente, 2 plantas, 249 m...</td>\n",
       "      <td>[Piscina, Jardín, Consumo: \\n174 kWh/m² año, E...</td>\n",
       "    </tr>\n",
       "    <tr>\n",
       "      <th>4</th>\n",
       "      <td>Casa o chalet independiente en venta en aveni...</td>\n",
       "      <td>Sant Llorenç Savall</td>\n",
       "      <td>360000</td>\n",
       "      <td>[Casa o chalet independiente, 1 planta, 241 m²...</td>\n",
       "      <td>[Piscina, Jardín, Consumo: \\n99 kWh/m² año, Em...</td>\n",
       "    </tr>\n",
       "  </tbody>\n",
       "</table>\n",
       "</div>"
      ],
      "text/plain": [
       "                                              Titulo         Localización  \\\n",
       "0           Chalet pareado en venta en Josep Albages  Sant Llorenç Savall   \n",
       "1           Chalet pareado en venta en Josep Albages  Sant Llorenç Savall   \n",
       "2               Casa de pueblo en venta en calle Nou  Sant Llorenç Savall   \n",
       "3      Casa o chalet independiente en venta en Avets  Sant Llorenç Savall   \n",
       "4   Casa o chalet independiente en venta en aveni...  Sant Llorenç Savall   \n",
       "\n",
       "   precio                            caracteristicas básicas  \\\n",
       "0  269000  [Chalet pareado, 3 plantas, 254 m² construidos...   \n",
       "1  269000  [Chalet pareado, 3 plantas, 254 m² construidos...   \n",
       "2   92000  [Casa de pueblo, 4 plantas, 241 m² construidos...   \n",
       "3  245000  [Casa o chalet independiente, 2 plantas, 249 m...   \n",
       "4  360000  [Casa o chalet independiente, 1 planta, 241 m²...   \n",
       "\n",
       "                                         Equipamento  \n",
       "0  [Jardín, Consumo: \\n174 kWh/m² año, Emisiones:...  \n",
       "1  [Jardín, Consumo: \\n174 kWh/m² año, Emisiones:...  \n",
       "2  [Consumo: \\n208 kWh/m² año, Emisiones: \\n43 kg...  \n",
       "3  [Piscina, Jardín, Consumo: \\n174 kWh/m² año, E...  \n",
       "4  [Piscina, Jardín, Consumo: \\n99 kWh/m² año, Em...  "
      ]
     },
     "execution_count": 658,
     "metadata": {},
     "output_type": "execute_result"
    }
   ],
   "source": [
    "df_casas = pd.read_csv(\"casas_idealista.csv\", encoding = \"utf-16\", sep=\";\", converters={\"caracteristicas básicas\": literal_eval, \"Equipamento\": literal_eval})\n",
    "df_casas.head()"
   ]
  },
  {
   "cell_type": "code",
   "execution_count": 659,
   "metadata": {},
   "outputs": [
    {
     "data": {
      "text/plain": [
       "['Chalet pareado',\n",
       " '3 plantas',\n",
       " '254 m² construidos, 165 m² útiles',\n",
       " '5 habitaciones',\n",
       " '4 baños',\n",
       " 'Parcela de 268 m²',\n",
       " 'Terraza y balcón',\n",
       " 'Plaza de garaje incluida en el precio',\n",
       " 'Segunda mano/buen estado',\n",
       " 'Armarios empotrados',\n",
       " 'Trastero',\n",
       " 'Orientación sur, este',\n",
       " 'Construido en 1995',\n",
       " 'Calefacción individual']"
      ]
     },
     "execution_count": 659,
     "metadata": {},
     "output_type": "execute_result"
    }
   ],
   "source": [
    "df_casas[\"caracteristicas básicas\"][0]"
   ]
  },
  {
   "cell_type": "markdown",
   "metadata": {},
   "source": [
    "# Definición de funciones\n",
    "\n",
    "# 1. Match_property"
   ]
  },
  {
   "cell_type": "code",
   "execution_count": 660,
   "metadata": {},
   "outputs": [],
   "source": [
    "'''property --> se refiere a la propiedad en la que quiero buscar alguna palabra, en este caso \"con trastero\"\n",
    "   patterns --> se refiere a la palabra que quiero buscar dentro de la propeidad, en este caso \"con\" y será una lista '''\n",
    "\n",
    "def match_property(property, patterns):\n",
    "    for pat in patterns:\n",
    "        match_prop = re.search(pat, property) # Buscar el patrón en el property que le estoy dando\n",
    "        \n",
    "        if match_prop:                        # \"if match_prop\": quiere decir, si match_prop es verdad entonces, dame un True, sino un False\n",
    "            return True\n",
    "    return False"
   ]
  },
  {
   "cell_type": "code",
   "execution_count": 661,
   "metadata": {},
   "outputs": [
    {
     "data": {
      "text/plain": [
       "True"
      ]
     },
     "execution_count": 661,
     "metadata": {},
     "output_type": "execute_result"
    }
   ],
   "source": [
    "'''Prueba de la función creada\n",
    "   ¿Está \"con\" en \"con trastero?\" en caso de estar imprimir True, sino imprimir False'''\n",
    "\n",
    "match_property(\"con trastero\", [\"con\"])"
   ]
  },
  {
   "cell_type": "markdown",
   "metadata": {},
   "source": [
    "Esta función será util ya que si le proporciono una lista con varios elementos le puedo decir, cuando encuentres la palabra \"con\" en esta lista, acá debes actuar\n",
    "\n",
    "# 2. Check_property --> cumple la misma función que match_property pero me arroja 0 o 1"
   ]
  },
  {
   "cell_type": "code",
   "execution_count": 662,
   "metadata": {},
   "outputs": [],
   "source": [
    "def check_property(property, patterns):\n",
    "    for pat in patterns:\n",
    "        check = re.search(pat, property) # Buscar el patrón en el property que le estoy dando\n",
    "        \n",
    "        if check:                        # \"if check\": quiere decir, si check es verdad entonces, dame un 1, sino un 0\n",
    "            return 1\n",
    "    return 0"
   ]
  },
  {
   "cell_type": "code",
   "execution_count": 663,
   "metadata": {},
   "outputs": [
    {
     "data": {
      "text/plain": [
       "1"
      ]
     },
     "execution_count": 663,
     "metadata": {},
     "output_type": "execute_result"
    }
   ],
   "source": [
    "'''Prueba de la función creada\n",
    "   ¿Está \"con\" en \"con trastero?\" en caso de estar imprimir 1 si no imprimir 0'''\n",
    "\n",
    "check_property(\"con trastero\", [\"con\"])"
   ]
  },
  {
   "cell_type": "markdown",
   "metadata": {},
   "source": [
    "# 3. Get_number --> Me busca los numeros en un str"
   ]
  },
  {
   "cell_type": "code",
   "execution_count": 664,
   "metadata": {},
   "outputs": [],
   "source": [
    "def get_number(property):\n",
    "    nums = re.findall(r\"\\d+\", property)\n",
    "    if len(nums) == 2:\n",
    "        return int(nums[0]+nums[1])  # \"40.000\" -> \"40\" + \"000\" -> \"40000\" -> 40000\n",
    "    else:\n",
    "        return int(nums[0])"
   ]
  },
  {
   "cell_type": "code",
   "execution_count": 665,
   "metadata": {},
   "outputs": [
    {
     "data": {
      "text/plain": [
       "['2']"
      ]
     },
     "execution_count": 665,
     "metadata": {},
     "output_type": "execute_result"
    }
   ],
   "source": [
    "re.findall(r\"\\d+\", \"2 baños\")"
   ]
  },
  {
   "cell_type": "code",
   "execution_count": 666,
   "metadata": {},
   "outputs": [
    {
     "data": {
      "text/plain": [
       "2"
      ]
     },
     "execution_count": 666,
     "metadata": {},
     "output_type": "execute_result"
    }
   ],
   "source": [
    "get_number(\"2 baños\")"
   ]
  },
  {
   "cell_type": "code",
   "execution_count": 667,
   "metadata": {},
   "outputs": [
    {
     "data": {
      "text/plain": [
       "40000"
      ]
     },
     "execution_count": 667,
     "metadata": {},
     "output_type": "execute_result"
    }
   ],
   "source": [
    "get_number(\"40.000 de precio\")"
   ]
  },
  {
   "cell_type": "markdown",
   "metadata": {},
   "source": [
    "# 4. Get_ascensor"
   ]
  },
  {
   "cell_type": "code",
   "execution_count": 668,
   "metadata": {},
   "outputs": [],
   "source": [
    "'''Features --> es la lista de caracteristica que le voy dar a mi función'''\n",
    "\n",
    "def get_ascensor(features):\n",
    "    for prop in features:\n",
    "        \n",
    "        '''.lower() --> lo hace todo minuscula\n",
    "           .strip() --> le quita los espacios\n",
    "           \n",
    "           Primero estoy buscando donde aparece con ascensor, si aparece voy a activarlo y voy a buscar que tenga un \"con\", si lo tiene me\n",
    "           pone un 1 y si no tiene con me aparece un 0 \n",
    "           \n",
    "           Resumen: Si el elemento prop en minus y sin espacios coincide con \"ascensor\" aplicar check_property'''\n",
    "           \n",
    "        if match_property(prop.lower().strip(), [\"ascensor\"]):   \n",
    "            return(check_property(prop.lower().strip(), [\"con\"]))"
   ]
  },
  {
   "cell_type": "code",
   "execution_count": 669,
   "metadata": {},
   "outputs": [
    {
     "data": {
      "text/plain": [
       "True"
      ]
     },
     "execution_count": 669,
     "metadata": {},
     "output_type": "execute_result"
    }
   ],
   "source": [
    "'''Buscamos si aparece la palabra \"ascensor\" en minuscula y sin espacios, si aparece True, sino False'''\n",
    "match_property(\"con ascensor\".lower().strip(), [\"ascensor\"])"
   ]
  },
  {
   "cell_type": "code",
   "execution_count": 670,
   "metadata": {},
   "outputs": [
    {
     "data": {
      "text/plain": [
       "1"
      ]
     },
     "execution_count": 670,
     "metadata": {},
     "output_type": "execute_result"
    }
   ],
   "source": [
    "'''Luego Buscamos si aparece la palabra \"con\" en minuscula y sin espacios, si aparece 1, sino 0'''\n",
    "check_property(\"con ascensor\".lower().strip(), [\"con\"])"
   ]
  },
  {
   "cell_type": "code",
   "execution_count": 671,
   "metadata": {},
   "outputs": [
    {
     "name": "stdout",
     "output_type": "stream",
     "text": [
      "con ascensor de dar 1\n",
      "sin ascensor de dar 0\n"
     ]
    }
   ],
   "source": [
    "var_1 = get_ascensor([\"con ascensor\"])\n",
    "var_2 = get_ascensor([\"sin ascensor\"])\n",
    "print(\"con ascensor de dar \" + str(var_1))\n",
    "print(\"sin ascensor de dar \" + str(var_2))"
   ]
  },
  {
   "cell_type": "markdown",
   "metadata": {},
   "source": [
    "# 5. Get_baños\n",
    "\n",
    "Esta función nos sirve para lo mismo pero nos va a devolver el numero que esté en un str, entonces si el str es 2 baños, vamos a obtener el numero 2"
   ]
  },
  {
   "cell_type": "code",
   "execution_count": 672,
   "metadata": {},
   "outputs": [],
   "source": [
    "def get_baños(features):\n",
    "    for prop in features:\n",
    "        if match_property(prop.lower().strip(), [\"baño\"]):\n",
    "            return(get_number(prop.lower().strip()))"
   ]
  },
  {
   "cell_type": "code",
   "execution_count": 673,
   "metadata": {},
   "outputs": [
    {
     "data": {
      "text/plain": [
       "3"
      ]
     },
     "execution_count": 673,
     "metadata": {},
     "output_type": "execute_result"
    }
   ],
   "source": [
    "get_baños([\"3 baños\"])"
   ]
  },
  {
   "cell_type": "markdown",
   "metadata": {},
   "source": [
    "# 6. Get_año"
   ]
  },
  {
   "cell_type": "code",
   "execution_count": 674,
   "metadata": {},
   "outputs": [
    {
     "data": {
      "text/plain": [
       "['Casa o chalet independiente',\n",
       " '1 planta',\n",
       " '240 m² construidos, 160 m² útiles',\n",
       " '3 habitaciones',\n",
       " '3 baños',\n",
       " 'Plaza de garaje incluida en el precio',\n",
       " 'Segunda mano/buen estado',\n",
       " 'Armarios empotrados',\n",
       " 'Trastero',\n",
       " 'Construido en 2008',\n",
       " 'Calefacción individual: Gas natural']"
      ]
     },
     "execution_count": 674,
     "metadata": {},
     "output_type": "execute_result"
    }
   ],
   "source": [
    "df_casas[\"caracteristicas básicas\"][34]"
   ]
  },
  {
   "cell_type": "code",
   "execution_count": 675,
   "metadata": {},
   "outputs": [],
   "source": [
    "def get_año(features):\n",
    "    for prop in features:\n",
    "        if match_property(prop.lower().strip(), [\"construido en\"]):\n",
    "            return(int(get_number(prop.lower().strip())))"
   ]
  },
  {
   "cell_type": "code",
   "execution_count": 676,
   "metadata": {},
   "outputs": [
    {
     "data": {
      "text/plain": [
       "2008"
      ]
     },
     "execution_count": 676,
     "metadata": {},
     "output_type": "execute_result"
    }
   ],
   "source": [
    "get_año([\"Construido en 2008\"])"
   ]
  },
  {
   "cell_type": "markdown",
   "metadata": {},
   "source": [
    "# 7. Get_trastero"
   ]
  },
  {
   "cell_type": "code",
   "execution_count": 677,
   "metadata": {},
   "outputs": [],
   "source": [
    "def get_trastero(features):\n",
    "    for prop in features:\n",
    "        if match_property(prop.lower().strip(), [\"trastero\"]):\n",
    "            return 1\n",
    "        return 0"
   ]
  },
  {
   "cell_type": "code",
   "execution_count": 678,
   "metadata": {},
   "outputs": [],
   "source": [
    "def get_trastero(features):\n",
    "    value = 0\n",
    "    for prop in features:\n",
    "        if match_property(prop.lower().strip(), [\"trastero\"]):\n",
    "            value += 1\n",
    "    return (value)"
   ]
  },
  {
   "cell_type": "code",
   "execution_count": 679,
   "metadata": {},
   "outputs": [
    {
     "data": {
      "text/plain": [
       "1"
      ]
     },
     "execution_count": 679,
     "metadata": {},
     "output_type": "execute_result"
    }
   ],
   "source": [
    "get_trastero([\"trastero\"])"
   ]
  },
  {
   "cell_type": "markdown",
   "metadata": {},
   "source": [
    "# 8. Get_orientación"
   ]
  },
  {
   "cell_type": "code",
   "execution_count": 680,
   "metadata": {},
   "outputs": [
    {
     "data": {
      "text/plain": [
       "['Casa o chalet independiente',\n",
       " '3 plantas',\n",
       " '240 m² construidos, 165 m² útiles',\n",
       " '3 habitaciones',\n",
       " '3 baños',\n",
       " 'Plaza de garaje incluida en el precio',\n",
       " 'Segunda mano/buen estado',\n",
       " 'Armarios empotrados',\n",
       " 'Trastero',\n",
       " 'Orientación sur, oeste',\n",
       " 'Construido en 2008',\n",
       " 'Calefacción individual: Gas propano/butano']"
      ]
     },
     "execution_count": 680,
     "metadata": {},
     "output_type": "execute_result"
    }
   ],
   "source": [
    "df_casas[\"caracteristicas básicas\"][26]"
   ]
  },
  {
   "cell_type": "code",
   "execution_count": 681,
   "metadata": {},
   "outputs": [],
   "source": [
    "def get_orientación(features):\n",
    "    for prop in features:\n",
    "        if match_property(prop.lower().strip(), [\"orientación\"]):\n",
    "            return(prop.split(\" \", maxsplit=1)[1].strip().split(\", \")[0])"
   ]
  },
  {
   "cell_type": "code",
   "execution_count": 682,
   "metadata": {},
   "outputs": [
    {
     "data": {
      "text/plain": [
       "'sur'"
      ]
     },
     "execution_count": 682,
     "metadata": {},
     "output_type": "execute_result"
    }
   ],
   "source": [
    "get_orientación(['Orientación sur, oeste'])"
   ]
  },
  {
   "cell_type": "code",
   "execution_count": 683,
   "metadata": {},
   "outputs": [
    {
     "name": "stdout",
     "output_type": "stream",
     "text": [
      "['Orientación', 'sur, oeste']\n",
      "sur, oeste\n",
      "['sur', 'oeste']\n",
      "sur\n"
     ]
    }
   ],
   "source": [
    "'''Split por espacio, cuando tenga un str separado por espacio o una coma o lo que sea entonces me separa el str en una lista'''\n",
    "one = \"Orientación sur, oeste\".split(\" \", maxsplit=1)\n",
    "print(one)\n",
    "\n",
    "'''Seleccionar el segundo elemento'''\n",
    "two = \"Orientación sur, oeste\".split(\" \", maxsplit=1)[1]\n",
    "print(two)\n",
    "\n",
    "'''Corregir los espacios y separar las dos orientaciones separadas por comas en otra lista'''\n",
    "three = \"Orientación sur, oeste\".split(\" \", maxsplit=1)[1].strip().split(\", \")\n",
    "print(three)\n",
    "\n",
    "'''Seleccionar el primer elemeto'''\n",
    "four = \"Orientación sur, oeste\".split(\" \", maxsplit=1)[1].strip().split(\", \")[0]\n",
    "print(four)"
   ]
  },
  {
   "cell_type": "markdown",
   "metadata": {},
   "source": [
    "# 9. Get_piso"
   ]
  },
  {
   "cell_type": "code",
   "execution_count": 684,
   "metadata": {},
   "outputs": [],
   "source": [
    "def get_piso(features):\n",
    "    for prop in features:\n",
    "        if match_property(prop.lower().strip(), [\"bajo\", \"planta\", \"interior\", \"exterior\"]):\n",
    "            return(prop)"
   ]
  },
  {
   "cell_type": "markdown",
   "metadata": {},
   "source": [
    "# 10. Get_habitaciones"
   ]
  },
  {
   "cell_type": "code",
   "execution_count": 685,
   "metadata": {},
   "outputs": [],
   "source": [
    "def get_habitaciones(features):\n",
    "    for prop in features:\n",
    "        if match_property(prop.lower().strip(), [\"habitaciones\"]):\n",
    "            return(get_number(prop.lower().strip()))"
   ]
  },
  {
   "cell_type": "code",
   "execution_count": 686,
   "metadata": {},
   "outputs": [],
   "source": [
    "def get_habitaciones(features):\n",
    "    for prop in features:\n",
    "        if match_property(prop.lower().strip(), [\"habitaciones\"]):\n",
    "            try:\n",
    "                habitaciones = get_number(prop.lower().strip())\n",
    "            except:\n",
    "                habitaciones = prop\n",
    "            return(habitaciones)"
   ]
  },
  {
   "cell_type": "code",
   "execution_count": 687,
   "metadata": {},
   "outputs": [
    {
     "data": {
      "text/plain": [
       "9"
      ]
     },
     "execution_count": 687,
     "metadata": {},
     "output_type": "execute_result"
    }
   ],
   "source": [
    "get_habitaciones([\"9 habitaciones o más\"])"
   ]
  },
  {
   "cell_type": "markdown",
   "metadata": {},
   "source": [
    "# 11. Get_metros_reales"
   ]
  },
  {
   "cell_type": "code",
   "execution_count": 688,
   "metadata": {},
   "outputs": [],
   "source": [
    "def get_metros_reales(features):\n",
    "    for prop in features:\n",
    "        if match_property(prop.lower().strip(), [\"m²\"]):\n",
    "            try:\n",
    "                metros = get_number(prop.lower().strip().split(\",\")[0])\n",
    "            except:\n",
    "                metros = prop\n",
    "            return(metros)"
   ]
  },
  {
   "cell_type": "markdown",
   "metadata": {},
   "source": [
    "# 12. Get_condición"
   ]
  },
  {
   "cell_type": "code",
   "execution_count": 689,
   "metadata": {},
   "outputs": [],
   "source": [
    "def get_condicion(features):\n",
    "    for prop in features:\n",
    "        if match_property(prop.lower().strip(), [\"segunda mano\", \"promoción de obra nueva\"]):\n",
    "            return(prop)"
   ]
  },
  {
   "cell_type": "markdown",
   "metadata": {},
   "source": [
    "# 13. Get_armario_empotrado"
   ]
  },
  {
   "cell_type": "code",
   "execution_count": 690,
   "metadata": {},
   "outputs": [],
   "source": [
    "def get_armario_empotrado(features):\n",
    "    value = 0\n",
    "    for prop in features:\n",
    "        if match_property(prop.lower().strip(), [\"armarios empotrados\"]):\n",
    "            value += 1\n",
    "    return(value)"
   ]
  },
  {
   "cell_type": "code",
   "execution_count": 691,
   "metadata": {},
   "outputs": [
    {
     "data": {
      "text/plain": [
       "['Chalet adosado',\n",
       " '1 planta',\n",
       " '169 m² construidos',\n",
       " '3 habitaciones',\n",
       " '3 baños',\n",
       " 'Terraza',\n",
       " 'Plaza de garaje incluida en el precio',\n",
       " 'Segunda mano/buen estado',\n",
       " 'Armarios empotrados',\n",
       " 'Orientación norte, oeste',\n",
       " 'Construido en 2008',\n",
       " 'Calefacción individual: Gas propano/butano']"
      ]
     },
     "execution_count": 691,
     "metadata": {},
     "output_type": "execute_result"
    }
   ],
   "source": [
    "df_casas[\"caracteristicas básicas\"][36]"
   ]
  },
  {
   "cell_type": "markdown",
   "metadata": {},
   "source": [
    "# 14. Get_terraza"
   ]
  },
  {
   "cell_type": "code",
   "execution_count": 692,
   "metadata": {},
   "outputs": [],
   "source": [
    "def get_terraza(features):\n",
    "    value = 0\n",
    "    for prop in features:\n",
    "        if match_property(prop.lower().strip(), [\"terraza\"]):\n",
    "            value += 1\n",
    "    return(value)"
   ]
  },
  {
   "cell_type": "markdown",
   "metadata": {},
   "source": [
    "# 15. Get_balcón"
   ]
  },
  {
   "cell_type": "code",
   "execution_count": 693,
   "metadata": {},
   "outputs": [],
   "source": [
    "def get_balcón(features):\n",
    "    value = 0\n",
    "    for prop in features:\n",
    "        if match_property(prop.lower().strip(), [\"balcón\"]):\n",
    "            value += 1\n",
    "    return(value)"
   ]
  },
  {
   "cell_type": "markdown",
   "metadata": {},
   "source": [
    "# 16. Get_jardín"
   ]
  },
  {
   "cell_type": "code",
   "execution_count": 694,
   "metadata": {},
   "outputs": [],
   "source": [
    "def get_jardin(features):\n",
    "    value = 0\n",
    "    for prop in features:\n",
    "        if match_property(prop.lower().strip(), [\"jardín\"]):\n",
    "            value += 1\n",
    "    return(value)"
   ]
  },
  {
   "cell_type": "markdown",
   "metadata": {},
   "source": [
    "# 17. Get_garaje"
   ]
  },
  {
   "cell_type": "code",
   "execution_count": 695,
   "metadata": {},
   "outputs": [],
   "source": [
    "def get_garaje(features):\n",
    "    value = 0\n",
    "    for prop in features:\n",
    "        if match_property(prop.lower().strip(), [\"garaje\"]):\n",
    "            value += 1\n",
    "    return(value)"
   ]
  },
  {
   "cell_type": "markdown",
   "metadata": {},
   "source": [
    "# 18. Get_calefacción"
   ]
  },
  {
   "cell_type": "code",
   "execution_count": 696,
   "metadata": {},
   "outputs": [],
   "source": [
    "def get_calefaccion(features):\n",
    "    value = 0\n",
    "    for prop in features:\n",
    "        if match_property(prop.lower().strip(), [\"calefacción\"]):\n",
    "            value += 1\n",
    "    return(value)"
   ]
  },
  {
   "cell_type": "markdown",
   "metadata": {},
   "source": [
    "# 19. Get_aire_acon"
   ]
  },
  {
   "cell_type": "code",
   "execution_count": 697,
   "metadata": {},
   "outputs": [],
   "source": [
    "def get_aire_acon(features):\n",
    "    value = 0\n",
    "    for prop in features:\n",
    "        if match_property(prop.lower().strip(), [\"aire acondicionado\"]):\n",
    "            value += 1\n",
    "    return(value)"
   ]
  },
  {
   "cell_type": "markdown",
   "metadata": {},
   "source": [
    "# Actualizar el DataFrame"
   ]
  },
  {
   "cell_type": "code",
   "execution_count": 698,
   "metadata": {},
   "outputs": [
    {
     "data": {
      "text/html": [
       "<div>\n",
       "<style scoped>\n",
       "    .dataframe tbody tr th:only-of-type {\n",
       "        vertical-align: middle;\n",
       "    }\n",
       "\n",
       "    .dataframe tbody tr th {\n",
       "        vertical-align: top;\n",
       "    }\n",
       "\n",
       "    .dataframe thead th {\n",
       "        text-align: right;\n",
       "    }\n",
       "</style>\n",
       "<table border=\"1\" class=\"dataframe\">\n",
       "  <thead>\n",
       "    <tr style=\"text-align: right;\">\n",
       "      <th></th>\n",
       "      <th>Titulo</th>\n",
       "      <th>Localización</th>\n",
       "      <th>precio</th>\n",
       "      <th>caracteristicas básicas</th>\n",
       "      <th>Equipamento</th>\n",
       "    </tr>\n",
       "  </thead>\n",
       "  <tbody>\n",
       "    <tr>\n",
       "      <th>0</th>\n",
       "      <td>Chalet pareado en venta en Josep Albages</td>\n",
       "      <td>Sant Llorenç Savall</td>\n",
       "      <td>269000</td>\n",
       "      <td>[Chalet pareado, 3 plantas, 254 m² construidos...</td>\n",
       "      <td>[Jardín, Consumo: \\n174 kWh/m² año, Emisiones:...</td>\n",
       "    </tr>\n",
       "    <tr>\n",
       "      <th>1</th>\n",
       "      <td>Chalet pareado en venta en Josep Albages</td>\n",
       "      <td>Sant Llorenç Savall</td>\n",
       "      <td>269000</td>\n",
       "      <td>[Chalet pareado, 3 plantas, 254 m² construidos...</td>\n",
       "      <td>[Jardín, Consumo: \\n174 kWh/m² año, Emisiones:...</td>\n",
       "    </tr>\n",
       "    <tr>\n",
       "      <th>2</th>\n",
       "      <td>Casa de pueblo en venta en calle Nou</td>\n",
       "      <td>Sant Llorenç Savall</td>\n",
       "      <td>92000</td>\n",
       "      <td>[Casa de pueblo, 4 plantas, 241 m² construidos...</td>\n",
       "      <td>[Consumo: \\n208 kWh/m² año, Emisiones: \\n43 kg...</td>\n",
       "    </tr>\n",
       "    <tr>\n",
       "      <th>3</th>\n",
       "      <td>Casa o chalet independiente en venta en Avets</td>\n",
       "      <td>Sant Llorenç Savall</td>\n",
       "      <td>245000</td>\n",
       "      <td>[Casa o chalet independiente, 2 plantas, 249 m...</td>\n",
       "      <td>[Piscina, Jardín, Consumo: \\n174 kWh/m² año, E...</td>\n",
       "    </tr>\n",
       "    <tr>\n",
       "      <th>4</th>\n",
       "      <td>Casa o chalet independiente en venta en aveni...</td>\n",
       "      <td>Sant Llorenç Savall</td>\n",
       "      <td>360000</td>\n",
       "      <td>[Casa o chalet independiente, 1 planta, 241 m²...</td>\n",
       "      <td>[Piscina, Jardín, Consumo: \\n99 kWh/m² año, Em...</td>\n",
       "    </tr>\n",
       "    <tr>\n",
       "      <th>...</th>\n",
       "      <td>...</td>\n",
       "      <td>...</td>\n",
       "      <td>...</td>\n",
       "      <td>...</td>\n",
       "      <td>...</td>\n",
       "    </tr>\n",
       "    <tr>\n",
       "      <th>64</th>\n",
       "      <td>Casa de pueblo en venta en calle Barcelona, 9</td>\n",
       "      <td>Sant Llorenç Savall</td>\n",
       "      <td>260000</td>\n",
       "      <td>[Casa de pueblo, 3 plantas, 160 m² construidos...</td>\n",
       "      <td>[Consumo: \\n128,9 kWh/m² año, Emisiones: \\n28 ...</td>\n",
       "    </tr>\n",
       "    <tr>\n",
       "      <th>65</th>\n",
       "      <td>Finca rústica en venta en carretera de sant f...</td>\n",
       "      <td>Sant Llorenç Savall</td>\n",
       "      <td>400000</td>\n",
       "      <td>[Finca rústica, 1 planta, 400 m² construidos, ...</td>\n",
       "      <td>[En trámite]</td>\n",
       "    </tr>\n",
       "    <tr>\n",
       "      <th>66</th>\n",
       "      <td>Estudio en venta en Sant Llorenç Savall</td>\n",
       "      <td>Vallès Occidental</td>\n",
       "      <td>78000</td>\n",
       "      <td>[48 m² construidos, Sin habitación, 1 baño, Se...</td>\n",
       "      <td>[No indicado]</td>\n",
       "    </tr>\n",
       "    <tr>\n",
       "      <th>67</th>\n",
       "      <td>Casa o chalet en venta en carretera de Monistrol</td>\n",
       "      <td>Sant Llorenç Savall</td>\n",
       "      <td>176300</td>\n",
       "      <td>[Casa o chalet, 329 m² construidos, 229 m² úti...</td>\n",
       "      <td>[Consumo:]</td>\n",
       "    </tr>\n",
       "    <tr>\n",
       "      <th>68</th>\n",
       "      <td>Casa o chalet en venta en calle del Romani</td>\n",
       "      <td>Sant Llorenç Savall</td>\n",
       "      <td>181100</td>\n",
       "      <td>[Casa o chalet, 63 m² construidos, 2 habitacio...</td>\n",
       "      <td>[No indicado]</td>\n",
       "    </tr>\n",
       "  </tbody>\n",
       "</table>\n",
       "<p>69 rows × 5 columns</p>\n",
       "</div>"
      ],
      "text/plain": [
       "                                               Titulo         Localización  \\\n",
       "0            Chalet pareado en venta en Josep Albages  Sant Llorenç Savall   \n",
       "1            Chalet pareado en venta en Josep Albages  Sant Llorenç Savall   \n",
       "2                Casa de pueblo en venta en calle Nou  Sant Llorenç Savall   \n",
       "3       Casa o chalet independiente en venta en Avets  Sant Llorenç Savall   \n",
       "4    Casa o chalet independiente en venta en aveni...  Sant Llorenç Savall   \n",
       "..                                                ...                  ...   \n",
       "64      Casa de pueblo en venta en calle Barcelona, 9  Sant Llorenç Savall   \n",
       "65   Finca rústica en venta en carretera de sant f...  Sant Llorenç Savall   \n",
       "66            Estudio en venta en Sant Llorenç Savall    Vallès Occidental   \n",
       "67   Casa o chalet en venta en carretera de Monistrol  Sant Llorenç Savall   \n",
       "68         Casa o chalet en venta en calle del Romani  Sant Llorenç Savall   \n",
       "\n",
       "    precio                            caracteristicas básicas  \\\n",
       "0   269000  [Chalet pareado, 3 plantas, 254 m² construidos...   \n",
       "1   269000  [Chalet pareado, 3 plantas, 254 m² construidos...   \n",
       "2    92000  [Casa de pueblo, 4 plantas, 241 m² construidos...   \n",
       "3   245000  [Casa o chalet independiente, 2 plantas, 249 m...   \n",
       "4   360000  [Casa o chalet independiente, 1 planta, 241 m²...   \n",
       "..     ...                                                ...   \n",
       "64  260000  [Casa de pueblo, 3 plantas, 160 m² construidos...   \n",
       "65  400000  [Finca rústica, 1 planta, 400 m² construidos, ...   \n",
       "66   78000  [48 m² construidos, Sin habitación, 1 baño, Se...   \n",
       "67  176300  [Casa o chalet, 329 m² construidos, 229 m² úti...   \n",
       "68  181100  [Casa o chalet, 63 m² construidos, 2 habitacio...   \n",
       "\n",
       "                                          Equipamento  \n",
       "0   [Jardín, Consumo: \\n174 kWh/m² año, Emisiones:...  \n",
       "1   [Jardín, Consumo: \\n174 kWh/m² año, Emisiones:...  \n",
       "2   [Consumo: \\n208 kWh/m² año, Emisiones: \\n43 kg...  \n",
       "3   [Piscina, Jardín, Consumo: \\n174 kWh/m² año, E...  \n",
       "4   [Piscina, Jardín, Consumo: \\n99 kWh/m² año, Em...  \n",
       "..                                                ...  \n",
       "64  [Consumo: \\n128,9 kWh/m² año, Emisiones: \\n28 ...  \n",
       "65                                       [En trámite]  \n",
       "66                                      [No indicado]  \n",
       "67                                         [Consumo:]  \n",
       "68                                      [No indicado]  \n",
       "\n",
       "[69 rows x 5 columns]"
      ]
     },
     "execution_count": 698,
     "metadata": {},
     "output_type": "execute_result"
    }
   ],
   "source": [
    "df_casas_1 = df_casas.copy()\n",
    "df_casas_1"
   ]
  },
  {
   "cell_type": "code",
   "execution_count": 699,
   "metadata": {},
   "outputs": [],
   "source": [
    "'''Vamos a aplicar las funciones creadas para las columnas correspondientes de mi DataFrame'''\n",
    "df_casas_1[\"ascensor\"] = df_casas_1[\"caracteristicas básicas\"].apply(get_ascensor)\n",
    "df_casas_1[\"baños\"] = df_casas_1[\"caracteristicas básicas\"].apply(get_baños)\n",
    "df_casas_1[\"año\"] = df_casas_1[\"caracteristicas básicas\"].apply(get_año)\n",
    "df_casas_1[\"trastero\"] = df_casas_1[\"caracteristicas básicas\"].apply(get_trastero)\n",
    "df_casas_1[\"orientación\"] = df_casas_1[\"caracteristicas básicas\"].apply(get_orientación)\n",
    "df_casas_1[\"piso\"] = df_casas_1[\"caracteristicas básicas\"].apply(get_piso)\n",
    "df_casas_1[\"habitaciones\"] = df_casas_1[\"caracteristicas básicas\"].apply(get_habitaciones)\n",
    "df_casas_1[\"metros reales\"] = df_casas_1[\"caracteristicas básicas\"].apply(get_metros_reales)\n",
    "df_casas_1[\"condición\"] = df_casas_1[\"caracteristicas básicas\"].apply(get_condicion)\n",
    "df_casas_1[\"armarios empotrados\"] = df_casas_1[\"caracteristicas básicas\"].apply(get_armario_empotrado)\n",
    "df_casas_1[\"terraza\"] = df_casas_1[\"caracteristicas básicas\"].apply(get_terraza)\n",
    "df_casas_1[\"balcón\"] = df_casas_1[\"caracteristicas básicas\"].apply(get_balcón)\n",
    "df_casas_1[\"jardín\"] = df_casas_1[\"caracteristicas básicas\"].apply(get_jardin)\n",
    "df_casas_1[\"garaje\"] = df_casas_1[\"caracteristicas básicas\"].apply(get_garaje)\n",
    "df_casas_1[\"calefacción\"] = df_casas_1[\"caracteristicas básicas\"].apply(get_calefaccion)\n",
    "\n",
    "'''Equipamento'''\n",
    "df_casas_1[\"aire acondicionado\"] = df_casas_1[\"Equipamento\"].apply(get_aire_acon)\n"
   ]
  },
  {
   "cell_type": "code",
   "execution_count": 700,
   "metadata": {},
   "outputs": [
    {
     "data": {
      "text/html": [
       "<div>\n",
       "<style scoped>\n",
       "    .dataframe tbody tr th:only-of-type {\n",
       "        vertical-align: middle;\n",
       "    }\n",
       "\n",
       "    .dataframe tbody tr th {\n",
       "        vertical-align: top;\n",
       "    }\n",
       "\n",
       "    .dataframe thead th {\n",
       "        text-align: right;\n",
       "    }\n",
       "</style>\n",
       "<table border=\"1\" class=\"dataframe\">\n",
       "  <thead>\n",
       "    <tr style=\"text-align: right;\">\n",
       "      <th></th>\n",
       "      <th>Titulo</th>\n",
       "      <th>Localización</th>\n",
       "      <th>precio</th>\n",
       "      <th>caracteristicas básicas</th>\n",
       "      <th>Equipamento</th>\n",
       "      <th>ascensor</th>\n",
       "      <th>baños</th>\n",
       "      <th>año</th>\n",
       "      <th>trastero</th>\n",
       "      <th>orientación</th>\n",
       "      <th>...</th>\n",
       "      <th>habitaciones</th>\n",
       "      <th>metros reales</th>\n",
       "      <th>condición</th>\n",
       "      <th>armarios empotrados</th>\n",
       "      <th>terraza</th>\n",
       "      <th>balcón</th>\n",
       "      <th>jardín</th>\n",
       "      <th>garaje</th>\n",
       "      <th>calefacción</th>\n",
       "      <th>aire acondicionado</th>\n",
       "    </tr>\n",
       "  </thead>\n",
       "  <tbody>\n",
       "    <tr>\n",
       "      <th>0</th>\n",
       "      <td>Chalet pareado en venta en Josep Albages</td>\n",
       "      <td>Sant Llorenç Savall</td>\n",
       "      <td>269000</td>\n",
       "      <td>[Chalet pareado, 3 plantas, 254 m² construidos...</td>\n",
       "      <td>[Jardín, Consumo: \\n174 kWh/m² año, Emisiones:...</td>\n",
       "      <td>NaN</td>\n",
       "      <td>4</td>\n",
       "      <td>1995.0</td>\n",
       "      <td>1</td>\n",
       "      <td>sur</td>\n",
       "      <td>...</td>\n",
       "      <td>5.0</td>\n",
       "      <td>254</td>\n",
       "      <td>Segunda mano/buen estado</td>\n",
       "      <td>1</td>\n",
       "      <td>1</td>\n",
       "      <td>1</td>\n",
       "      <td>0</td>\n",
       "      <td>1</td>\n",
       "      <td>1</td>\n",
       "      <td>0</td>\n",
       "    </tr>\n",
       "    <tr>\n",
       "      <th>1</th>\n",
       "      <td>Chalet pareado en venta en Josep Albages</td>\n",
       "      <td>Sant Llorenç Savall</td>\n",
       "      <td>269000</td>\n",
       "      <td>[Chalet pareado, 3 plantas, 254 m² construidos...</td>\n",
       "      <td>[Jardín, Consumo: \\n174 kWh/m² año, Emisiones:...</td>\n",
       "      <td>NaN</td>\n",
       "      <td>4</td>\n",
       "      <td>1995.0</td>\n",
       "      <td>1</td>\n",
       "      <td>sur</td>\n",
       "      <td>...</td>\n",
       "      <td>5.0</td>\n",
       "      <td>254</td>\n",
       "      <td>Segunda mano/buen estado</td>\n",
       "      <td>1</td>\n",
       "      <td>1</td>\n",
       "      <td>1</td>\n",
       "      <td>0</td>\n",
       "      <td>1</td>\n",
       "      <td>1</td>\n",
       "      <td>0</td>\n",
       "    </tr>\n",
       "    <tr>\n",
       "      <th>2</th>\n",
       "      <td>Casa de pueblo en venta en calle Nou</td>\n",
       "      <td>Sant Llorenç Savall</td>\n",
       "      <td>92000</td>\n",
       "      <td>[Casa de pueblo, 4 plantas, 241 m² construidos...</td>\n",
       "      <td>[Consumo: \\n208 kWh/m² año, Emisiones: \\n43 kg...</td>\n",
       "      <td>NaN</td>\n",
       "      <td>1</td>\n",
       "      <td>NaN</td>\n",
       "      <td>1</td>\n",
       "      <td>este</td>\n",
       "      <td>...</td>\n",
       "      <td>4.0</td>\n",
       "      <td>241</td>\n",
       "      <td>Segunda mano/para reformar</td>\n",
       "      <td>0</td>\n",
       "      <td>1</td>\n",
       "      <td>1</td>\n",
       "      <td>0</td>\n",
       "      <td>0</td>\n",
       "      <td>1</td>\n",
       "      <td>0</td>\n",
       "    </tr>\n",
       "    <tr>\n",
       "      <th>3</th>\n",
       "      <td>Casa o chalet independiente en venta en Avets</td>\n",
       "      <td>Sant Llorenç Savall</td>\n",
       "      <td>245000</td>\n",
       "      <td>[Casa o chalet independiente, 2 plantas, 249 m...</td>\n",
       "      <td>[Piscina, Jardín, Consumo: \\n174 kWh/m² año, E...</td>\n",
       "      <td>NaN</td>\n",
       "      <td>3</td>\n",
       "      <td>1995.0</td>\n",
       "      <td>1</td>\n",
       "      <td>este</td>\n",
       "      <td>...</td>\n",
       "      <td>3.0</td>\n",
       "      <td>249</td>\n",
       "      <td>Segunda mano/buen estado</td>\n",
       "      <td>0</td>\n",
       "      <td>1</td>\n",
       "      <td>0</td>\n",
       "      <td>0</td>\n",
       "      <td>0</td>\n",
       "      <td>1</td>\n",
       "      <td>0</td>\n",
       "    </tr>\n",
       "    <tr>\n",
       "      <th>4</th>\n",
       "      <td>Casa o chalet independiente en venta en aveni...</td>\n",
       "      <td>Sant Llorenç Savall</td>\n",
       "      <td>360000</td>\n",
       "      <td>[Casa o chalet independiente, 1 planta, 241 m²...</td>\n",
       "      <td>[Piscina, Jardín, Consumo: \\n99 kWh/m² año, Em...</td>\n",
       "      <td>NaN</td>\n",
       "      <td>5</td>\n",
       "      <td>1975.0</td>\n",
       "      <td>1</td>\n",
       "      <td>None</td>\n",
       "      <td>...</td>\n",
       "      <td>4.0</td>\n",
       "      <td>241</td>\n",
       "      <td>Segunda mano/buen estado</td>\n",
       "      <td>1</td>\n",
       "      <td>1</td>\n",
       "      <td>1</td>\n",
       "      <td>0</td>\n",
       "      <td>0</td>\n",
       "      <td>1</td>\n",
       "      <td>0</td>\n",
       "    </tr>\n",
       "    <tr>\n",
       "      <th>...</th>\n",
       "      <td>...</td>\n",
       "      <td>...</td>\n",
       "      <td>...</td>\n",
       "      <td>...</td>\n",
       "      <td>...</td>\n",
       "      <td>...</td>\n",
       "      <td>...</td>\n",
       "      <td>...</td>\n",
       "      <td>...</td>\n",
       "      <td>...</td>\n",
       "      <td>...</td>\n",
       "      <td>...</td>\n",
       "      <td>...</td>\n",
       "      <td>...</td>\n",
       "      <td>...</td>\n",
       "      <td>...</td>\n",
       "      <td>...</td>\n",
       "      <td>...</td>\n",
       "      <td>...</td>\n",
       "      <td>...</td>\n",
       "      <td>...</td>\n",
       "    </tr>\n",
       "    <tr>\n",
       "      <th>64</th>\n",
       "      <td>Casa de pueblo en venta en calle Barcelona, 9</td>\n",
       "      <td>Sant Llorenç Savall</td>\n",
       "      <td>260000</td>\n",
       "      <td>[Casa de pueblo, 3 plantas, 160 m² construidos...</td>\n",
       "      <td>[Consumo: \\n128,9 kWh/m² año, Emisiones: \\n28 ...</td>\n",
       "      <td>NaN</td>\n",
       "      <td>2</td>\n",
       "      <td>NaN</td>\n",
       "      <td>1</td>\n",
       "      <td>None</td>\n",
       "      <td>...</td>\n",
       "      <td>2.0</td>\n",
       "      <td>160</td>\n",
       "      <td>Segunda mano/buen estado</td>\n",
       "      <td>0</td>\n",
       "      <td>1</td>\n",
       "      <td>1</td>\n",
       "      <td>0</td>\n",
       "      <td>0</td>\n",
       "      <td>1</td>\n",
       "      <td>0</td>\n",
       "    </tr>\n",
       "    <tr>\n",
       "      <th>65</th>\n",
       "      <td>Finca rústica en venta en carretera de sant f...</td>\n",
       "      <td>Sant Llorenç Savall</td>\n",
       "      <td>400000</td>\n",
       "      <td>[Finca rústica, 1 planta, 400 m² construidos, ...</td>\n",
       "      <td>[En trámite]</td>\n",
       "      <td>NaN</td>\n",
       "      <td>3</td>\n",
       "      <td>NaN</td>\n",
       "      <td>0</td>\n",
       "      <td>None</td>\n",
       "      <td>...</td>\n",
       "      <td>5.0</td>\n",
       "      <td>400</td>\n",
       "      <td>Segunda mano/para reformar</td>\n",
       "      <td>0</td>\n",
       "      <td>1</td>\n",
       "      <td>0</td>\n",
       "      <td>0</td>\n",
       "      <td>0</td>\n",
       "      <td>0</td>\n",
       "      <td>0</td>\n",
       "    </tr>\n",
       "    <tr>\n",
       "      <th>66</th>\n",
       "      <td>Estudio en venta en Sant Llorenç Savall</td>\n",
       "      <td>Vallès Occidental</td>\n",
       "      <td>78000</td>\n",
       "      <td>[48 m² construidos, Sin habitación, 1 baño, Se...</td>\n",
       "      <td>[No indicado]</td>\n",
       "      <td>0.0</td>\n",
       "      <td>1</td>\n",
       "      <td>2007.0</td>\n",
       "      <td>0</td>\n",
       "      <td>None</td>\n",
       "      <td>...</td>\n",
       "      <td>NaN</td>\n",
       "      <td>48</td>\n",
       "      <td>Segunda mano/buen estado</td>\n",
       "      <td>0</td>\n",
       "      <td>0</td>\n",
       "      <td>0</td>\n",
       "      <td>0</td>\n",
       "      <td>0</td>\n",
       "      <td>1</td>\n",
       "      <td>0</td>\n",
       "    </tr>\n",
       "    <tr>\n",
       "      <th>67</th>\n",
       "      <td>Casa o chalet en venta en carretera de Monistrol</td>\n",
       "      <td>Sant Llorenç Savall</td>\n",
       "      <td>176300</td>\n",
       "      <td>[Casa o chalet, 329 m² construidos, 229 m² úti...</td>\n",
       "      <td>[Consumo:]</td>\n",
       "      <td>NaN</td>\n",
       "      <td>2</td>\n",
       "      <td>1973.0</td>\n",
       "      <td>0</td>\n",
       "      <td>None</td>\n",
       "      <td>...</td>\n",
       "      <td>4.0</td>\n",
       "      <td>329</td>\n",
       "      <td>Segunda mano/buen estado</td>\n",
       "      <td>0</td>\n",
       "      <td>0</td>\n",
       "      <td>0</td>\n",
       "      <td>0</td>\n",
       "      <td>0</td>\n",
       "      <td>0</td>\n",
       "      <td>0</td>\n",
       "    </tr>\n",
       "    <tr>\n",
       "      <th>68</th>\n",
       "      <td>Casa o chalet en venta en calle del Romani</td>\n",
       "      <td>Sant Llorenç Savall</td>\n",
       "      <td>181100</td>\n",
       "      <td>[Casa o chalet, 63 m² construidos, 2 habitacio...</td>\n",
       "      <td>[No indicado]</td>\n",
       "      <td>NaN</td>\n",
       "      <td>1</td>\n",
       "      <td>1983.0</td>\n",
       "      <td>0</td>\n",
       "      <td>None</td>\n",
       "      <td>...</td>\n",
       "      <td>2.0</td>\n",
       "      <td>63</td>\n",
       "      <td>Segunda mano/buen estado</td>\n",
       "      <td>1</td>\n",
       "      <td>0</td>\n",
       "      <td>0</td>\n",
       "      <td>0</td>\n",
       "      <td>0</td>\n",
       "      <td>0</td>\n",
       "      <td>0</td>\n",
       "    </tr>\n",
       "  </tbody>\n",
       "</table>\n",
       "<p>69 rows × 21 columns</p>\n",
       "</div>"
      ],
      "text/plain": [
       "                                               Titulo         Localización  \\\n",
       "0            Chalet pareado en venta en Josep Albages  Sant Llorenç Savall   \n",
       "1            Chalet pareado en venta en Josep Albages  Sant Llorenç Savall   \n",
       "2                Casa de pueblo en venta en calle Nou  Sant Llorenç Savall   \n",
       "3       Casa o chalet independiente en venta en Avets  Sant Llorenç Savall   \n",
       "4    Casa o chalet independiente en venta en aveni...  Sant Llorenç Savall   \n",
       "..                                                ...                  ...   \n",
       "64      Casa de pueblo en venta en calle Barcelona, 9  Sant Llorenç Savall   \n",
       "65   Finca rústica en venta en carretera de sant f...  Sant Llorenç Savall   \n",
       "66            Estudio en venta en Sant Llorenç Savall    Vallès Occidental   \n",
       "67   Casa o chalet en venta en carretera de Monistrol  Sant Llorenç Savall   \n",
       "68         Casa o chalet en venta en calle del Romani  Sant Llorenç Savall   \n",
       "\n",
       "    precio                            caracteristicas básicas  \\\n",
       "0   269000  [Chalet pareado, 3 plantas, 254 m² construidos...   \n",
       "1   269000  [Chalet pareado, 3 plantas, 254 m² construidos...   \n",
       "2    92000  [Casa de pueblo, 4 plantas, 241 m² construidos...   \n",
       "3   245000  [Casa o chalet independiente, 2 plantas, 249 m...   \n",
       "4   360000  [Casa o chalet independiente, 1 planta, 241 m²...   \n",
       "..     ...                                                ...   \n",
       "64  260000  [Casa de pueblo, 3 plantas, 160 m² construidos...   \n",
       "65  400000  [Finca rústica, 1 planta, 400 m² construidos, ...   \n",
       "66   78000  [48 m² construidos, Sin habitación, 1 baño, Se...   \n",
       "67  176300  [Casa o chalet, 329 m² construidos, 229 m² úti...   \n",
       "68  181100  [Casa o chalet, 63 m² construidos, 2 habitacio...   \n",
       "\n",
       "                                          Equipamento  ascensor  baños  \\\n",
       "0   [Jardín, Consumo: \\n174 kWh/m² año, Emisiones:...       NaN      4   \n",
       "1   [Jardín, Consumo: \\n174 kWh/m² año, Emisiones:...       NaN      4   \n",
       "2   [Consumo: \\n208 kWh/m² año, Emisiones: \\n43 kg...       NaN      1   \n",
       "3   [Piscina, Jardín, Consumo: \\n174 kWh/m² año, E...       NaN      3   \n",
       "4   [Piscina, Jardín, Consumo: \\n99 kWh/m² año, Em...       NaN      5   \n",
       "..                                                ...       ...    ...   \n",
       "64  [Consumo: \\n128,9 kWh/m² año, Emisiones: \\n28 ...       NaN      2   \n",
       "65                                       [En trámite]       NaN      3   \n",
       "66                                      [No indicado]       0.0      1   \n",
       "67                                         [Consumo:]       NaN      2   \n",
       "68                                      [No indicado]       NaN      1   \n",
       "\n",
       "       año  trastero orientación  ... habitaciones  metros reales  \\\n",
       "0   1995.0         1         sur  ...          5.0            254   \n",
       "1   1995.0         1         sur  ...          5.0            254   \n",
       "2      NaN         1        este  ...          4.0            241   \n",
       "3   1995.0         1        este  ...          3.0            249   \n",
       "4   1975.0         1        None  ...          4.0            241   \n",
       "..     ...       ...         ...  ...          ...            ...   \n",
       "64     NaN         1        None  ...          2.0            160   \n",
       "65     NaN         0        None  ...          5.0            400   \n",
       "66  2007.0         0        None  ...          NaN             48   \n",
       "67  1973.0         0        None  ...          4.0            329   \n",
       "68  1983.0         0        None  ...          2.0             63   \n",
       "\n",
       "                     condición armarios empotrados  terraza  balcón  jardín  \\\n",
       "0     Segunda mano/buen estado                   1        1       1       0   \n",
       "1     Segunda mano/buen estado                   1        1       1       0   \n",
       "2   Segunda mano/para reformar                   0        1       1       0   \n",
       "3     Segunda mano/buen estado                   0        1       0       0   \n",
       "4     Segunda mano/buen estado                   1        1       1       0   \n",
       "..                         ...                 ...      ...     ...     ...   \n",
       "64    Segunda mano/buen estado                   0        1       1       0   \n",
       "65  Segunda mano/para reformar                   0        1       0       0   \n",
       "66    Segunda mano/buen estado                   0        0       0       0   \n",
       "67    Segunda mano/buen estado                   0        0       0       0   \n",
       "68    Segunda mano/buen estado                   1        0       0       0   \n",
       "\n",
       "    garaje  calefacción  aire acondicionado  \n",
       "0        1            1                   0  \n",
       "1        1            1                   0  \n",
       "2        0            1                   0  \n",
       "3        0            1                   0  \n",
       "4        0            1                   0  \n",
       "..     ...          ...                 ...  \n",
       "64       0            1                   0  \n",
       "65       0            0                   0  \n",
       "66       0            1                   0  \n",
       "67       0            0                   0  \n",
       "68       0            0                   0  \n",
       "\n",
       "[69 rows x 21 columns]"
      ]
     },
     "execution_count": 700,
     "metadata": {},
     "output_type": "execute_result"
    }
   ],
   "source": [
    "df_casas_1"
   ]
  },
  {
   "cell_type": "code",
   "execution_count": 701,
   "metadata": {},
   "outputs": [],
   "source": [
    "df_casas_1.drop(columns = [\"caracteristicas básicas\", \"Equipamento\"], inplace = True)"
   ]
  },
  {
   "cell_type": "code",
   "execution_count": 702,
   "metadata": {},
   "outputs": [
    {
     "data": {
      "text/html": [
       "<div>\n",
       "<style scoped>\n",
       "    .dataframe tbody tr th:only-of-type {\n",
       "        vertical-align: middle;\n",
       "    }\n",
       "\n",
       "    .dataframe tbody tr th {\n",
       "        vertical-align: top;\n",
       "    }\n",
       "\n",
       "    .dataframe thead th {\n",
       "        text-align: right;\n",
       "    }\n",
       "</style>\n",
       "<table border=\"1\" class=\"dataframe\">\n",
       "  <thead>\n",
       "    <tr style=\"text-align: right;\">\n",
       "      <th></th>\n",
       "      <th>Titulo</th>\n",
       "      <th>Localización</th>\n",
       "      <th>precio</th>\n",
       "      <th>ascensor</th>\n",
       "      <th>baños</th>\n",
       "      <th>año</th>\n",
       "      <th>trastero</th>\n",
       "      <th>orientación</th>\n",
       "      <th>piso</th>\n",
       "      <th>habitaciones</th>\n",
       "      <th>metros reales</th>\n",
       "      <th>condición</th>\n",
       "      <th>armarios empotrados</th>\n",
       "      <th>terraza</th>\n",
       "      <th>balcón</th>\n",
       "      <th>jardín</th>\n",
       "      <th>garaje</th>\n",
       "      <th>calefacción</th>\n",
       "      <th>aire acondicionado</th>\n",
       "    </tr>\n",
       "  </thead>\n",
       "  <tbody>\n",
       "    <tr>\n",
       "      <th>0</th>\n",
       "      <td>Chalet pareado en venta en Josep Albages</td>\n",
       "      <td>Sant Llorenç Savall</td>\n",
       "      <td>269000</td>\n",
       "      <td>NaN</td>\n",
       "      <td>4</td>\n",
       "      <td>1995.0</td>\n",
       "      <td>1</td>\n",
       "      <td>sur</td>\n",
       "      <td>3 plantas</td>\n",
       "      <td>5.0</td>\n",
       "      <td>254</td>\n",
       "      <td>Segunda mano/buen estado</td>\n",
       "      <td>1</td>\n",
       "      <td>1</td>\n",
       "      <td>1</td>\n",
       "      <td>0</td>\n",
       "      <td>1</td>\n",
       "      <td>1</td>\n",
       "      <td>0</td>\n",
       "    </tr>\n",
       "    <tr>\n",
       "      <th>1</th>\n",
       "      <td>Chalet pareado en venta en Josep Albages</td>\n",
       "      <td>Sant Llorenç Savall</td>\n",
       "      <td>269000</td>\n",
       "      <td>NaN</td>\n",
       "      <td>4</td>\n",
       "      <td>1995.0</td>\n",
       "      <td>1</td>\n",
       "      <td>sur</td>\n",
       "      <td>3 plantas</td>\n",
       "      <td>5.0</td>\n",
       "      <td>254</td>\n",
       "      <td>Segunda mano/buen estado</td>\n",
       "      <td>1</td>\n",
       "      <td>1</td>\n",
       "      <td>1</td>\n",
       "      <td>0</td>\n",
       "      <td>1</td>\n",
       "      <td>1</td>\n",
       "      <td>0</td>\n",
       "    </tr>\n",
       "    <tr>\n",
       "      <th>2</th>\n",
       "      <td>Casa de pueblo en venta en calle Nou</td>\n",
       "      <td>Sant Llorenç Savall</td>\n",
       "      <td>92000</td>\n",
       "      <td>NaN</td>\n",
       "      <td>1</td>\n",
       "      <td>NaN</td>\n",
       "      <td>1</td>\n",
       "      <td>este</td>\n",
       "      <td>4 plantas</td>\n",
       "      <td>4.0</td>\n",
       "      <td>241</td>\n",
       "      <td>Segunda mano/para reformar</td>\n",
       "      <td>0</td>\n",
       "      <td>1</td>\n",
       "      <td>1</td>\n",
       "      <td>0</td>\n",
       "      <td>0</td>\n",
       "      <td>1</td>\n",
       "      <td>0</td>\n",
       "    </tr>\n",
       "    <tr>\n",
       "      <th>3</th>\n",
       "      <td>Casa o chalet independiente en venta en Avets</td>\n",
       "      <td>Sant Llorenç Savall</td>\n",
       "      <td>245000</td>\n",
       "      <td>NaN</td>\n",
       "      <td>3</td>\n",
       "      <td>1995.0</td>\n",
       "      <td>1</td>\n",
       "      <td>este</td>\n",
       "      <td>2 plantas</td>\n",
       "      <td>3.0</td>\n",
       "      <td>249</td>\n",
       "      <td>Segunda mano/buen estado</td>\n",
       "      <td>0</td>\n",
       "      <td>1</td>\n",
       "      <td>0</td>\n",
       "      <td>0</td>\n",
       "      <td>0</td>\n",
       "      <td>1</td>\n",
       "      <td>0</td>\n",
       "    </tr>\n",
       "    <tr>\n",
       "      <th>4</th>\n",
       "      <td>Casa o chalet independiente en venta en aveni...</td>\n",
       "      <td>Sant Llorenç Savall</td>\n",
       "      <td>360000</td>\n",
       "      <td>NaN</td>\n",
       "      <td>5</td>\n",
       "      <td>1975.0</td>\n",
       "      <td>1</td>\n",
       "      <td>None</td>\n",
       "      <td>1 planta</td>\n",
       "      <td>4.0</td>\n",
       "      <td>241</td>\n",
       "      <td>Segunda mano/buen estado</td>\n",
       "      <td>1</td>\n",
       "      <td>1</td>\n",
       "      <td>1</td>\n",
       "      <td>0</td>\n",
       "      <td>0</td>\n",
       "      <td>1</td>\n",
       "      <td>0</td>\n",
       "    </tr>\n",
       "    <tr>\n",
       "      <th>...</th>\n",
       "      <td>...</td>\n",
       "      <td>...</td>\n",
       "      <td>...</td>\n",
       "      <td>...</td>\n",
       "      <td>...</td>\n",
       "      <td>...</td>\n",
       "      <td>...</td>\n",
       "      <td>...</td>\n",
       "      <td>...</td>\n",
       "      <td>...</td>\n",
       "      <td>...</td>\n",
       "      <td>...</td>\n",
       "      <td>...</td>\n",
       "      <td>...</td>\n",
       "      <td>...</td>\n",
       "      <td>...</td>\n",
       "      <td>...</td>\n",
       "      <td>...</td>\n",
       "      <td>...</td>\n",
       "    </tr>\n",
       "    <tr>\n",
       "      <th>64</th>\n",
       "      <td>Casa de pueblo en venta en calle Barcelona, 9</td>\n",
       "      <td>Sant Llorenç Savall</td>\n",
       "      <td>260000</td>\n",
       "      <td>NaN</td>\n",
       "      <td>2</td>\n",
       "      <td>NaN</td>\n",
       "      <td>1</td>\n",
       "      <td>None</td>\n",
       "      <td>3 plantas</td>\n",
       "      <td>2.0</td>\n",
       "      <td>160</td>\n",
       "      <td>Segunda mano/buen estado</td>\n",
       "      <td>0</td>\n",
       "      <td>1</td>\n",
       "      <td>1</td>\n",
       "      <td>0</td>\n",
       "      <td>0</td>\n",
       "      <td>1</td>\n",
       "      <td>0</td>\n",
       "    </tr>\n",
       "    <tr>\n",
       "      <th>65</th>\n",
       "      <td>Finca rústica en venta en carretera de sant f...</td>\n",
       "      <td>Sant Llorenç Savall</td>\n",
       "      <td>400000</td>\n",
       "      <td>NaN</td>\n",
       "      <td>3</td>\n",
       "      <td>NaN</td>\n",
       "      <td>0</td>\n",
       "      <td>None</td>\n",
       "      <td>1 planta</td>\n",
       "      <td>5.0</td>\n",
       "      <td>400</td>\n",
       "      <td>Segunda mano/para reformar</td>\n",
       "      <td>0</td>\n",
       "      <td>1</td>\n",
       "      <td>0</td>\n",
       "      <td>0</td>\n",
       "      <td>0</td>\n",
       "      <td>0</td>\n",
       "      <td>0</td>\n",
       "    </tr>\n",
       "    <tr>\n",
       "      <th>66</th>\n",
       "      <td>Estudio en venta en Sant Llorenç Savall</td>\n",
       "      <td>Vallès Occidental</td>\n",
       "      <td>78000</td>\n",
       "      <td>0.0</td>\n",
       "      <td>1</td>\n",
       "      <td>2007.0</td>\n",
       "      <td>0</td>\n",
       "      <td>None</td>\n",
       "      <td>Bajo exterior</td>\n",
       "      <td>NaN</td>\n",
       "      <td>48</td>\n",
       "      <td>Segunda mano/buen estado</td>\n",
       "      <td>0</td>\n",
       "      <td>0</td>\n",
       "      <td>0</td>\n",
       "      <td>0</td>\n",
       "      <td>0</td>\n",
       "      <td>1</td>\n",
       "      <td>0</td>\n",
       "    </tr>\n",
       "    <tr>\n",
       "      <th>67</th>\n",
       "      <td>Casa o chalet en venta en carretera de Monistrol</td>\n",
       "      <td>Sant Llorenç Savall</td>\n",
       "      <td>176300</td>\n",
       "      <td>NaN</td>\n",
       "      <td>2</td>\n",
       "      <td>1973.0</td>\n",
       "      <td>0</td>\n",
       "      <td>None</td>\n",
       "      <td>None</td>\n",
       "      <td>4.0</td>\n",
       "      <td>329</td>\n",
       "      <td>Segunda mano/buen estado</td>\n",
       "      <td>0</td>\n",
       "      <td>0</td>\n",
       "      <td>0</td>\n",
       "      <td>0</td>\n",
       "      <td>0</td>\n",
       "      <td>0</td>\n",
       "      <td>0</td>\n",
       "    </tr>\n",
       "    <tr>\n",
       "      <th>68</th>\n",
       "      <td>Casa o chalet en venta en calle del Romani</td>\n",
       "      <td>Sant Llorenç Savall</td>\n",
       "      <td>181100</td>\n",
       "      <td>NaN</td>\n",
       "      <td>1</td>\n",
       "      <td>1983.0</td>\n",
       "      <td>0</td>\n",
       "      <td>None</td>\n",
       "      <td>None</td>\n",
       "      <td>2.0</td>\n",
       "      <td>63</td>\n",
       "      <td>Segunda mano/buen estado</td>\n",
       "      <td>1</td>\n",
       "      <td>0</td>\n",
       "      <td>0</td>\n",
       "      <td>0</td>\n",
       "      <td>0</td>\n",
       "      <td>0</td>\n",
       "      <td>0</td>\n",
       "    </tr>\n",
       "  </tbody>\n",
       "</table>\n",
       "<p>69 rows × 19 columns</p>\n",
       "</div>"
      ],
      "text/plain": [
       "                                               Titulo         Localización  \\\n",
       "0            Chalet pareado en venta en Josep Albages  Sant Llorenç Savall   \n",
       "1            Chalet pareado en venta en Josep Albages  Sant Llorenç Savall   \n",
       "2                Casa de pueblo en venta en calle Nou  Sant Llorenç Savall   \n",
       "3       Casa o chalet independiente en venta en Avets  Sant Llorenç Savall   \n",
       "4    Casa o chalet independiente en venta en aveni...  Sant Llorenç Savall   \n",
       "..                                                ...                  ...   \n",
       "64      Casa de pueblo en venta en calle Barcelona, 9  Sant Llorenç Savall   \n",
       "65   Finca rústica en venta en carretera de sant f...  Sant Llorenç Savall   \n",
       "66            Estudio en venta en Sant Llorenç Savall    Vallès Occidental   \n",
       "67   Casa o chalet en venta en carretera de Monistrol  Sant Llorenç Savall   \n",
       "68         Casa o chalet en venta en calle del Romani  Sant Llorenç Savall   \n",
       "\n",
       "    precio  ascensor  baños     año  trastero orientación           piso  \\\n",
       "0   269000       NaN      4  1995.0         1         sur      3 plantas   \n",
       "1   269000       NaN      4  1995.0         1         sur      3 plantas   \n",
       "2    92000       NaN      1     NaN         1        este      4 plantas   \n",
       "3   245000       NaN      3  1995.0         1        este      2 plantas   \n",
       "4   360000       NaN      5  1975.0         1        None       1 planta   \n",
       "..     ...       ...    ...     ...       ...         ...            ...   \n",
       "64  260000       NaN      2     NaN         1        None      3 plantas   \n",
       "65  400000       NaN      3     NaN         0        None       1 planta   \n",
       "66   78000       0.0      1  2007.0         0        None  Bajo exterior   \n",
       "67  176300       NaN      2  1973.0         0        None           None   \n",
       "68  181100       NaN      1  1983.0         0        None           None   \n",
       "\n",
       "    habitaciones  metros reales                   condición  \\\n",
       "0            5.0            254    Segunda mano/buen estado   \n",
       "1            5.0            254    Segunda mano/buen estado   \n",
       "2            4.0            241  Segunda mano/para reformar   \n",
       "3            3.0            249    Segunda mano/buen estado   \n",
       "4            4.0            241    Segunda mano/buen estado   \n",
       "..           ...            ...                         ...   \n",
       "64           2.0            160    Segunda mano/buen estado   \n",
       "65           5.0            400  Segunda mano/para reformar   \n",
       "66           NaN             48    Segunda mano/buen estado   \n",
       "67           4.0            329    Segunda mano/buen estado   \n",
       "68           2.0             63    Segunda mano/buen estado   \n",
       "\n",
       "    armarios empotrados  terraza  balcón  jardín  garaje  calefacción  \\\n",
       "0                     1        1       1       0       1            1   \n",
       "1                     1        1       1       0       1            1   \n",
       "2                     0        1       1       0       0            1   \n",
       "3                     0        1       0       0       0            1   \n",
       "4                     1        1       1       0       0            1   \n",
       "..                  ...      ...     ...     ...     ...          ...   \n",
       "64                    0        1       1       0       0            1   \n",
       "65                    0        1       0       0       0            0   \n",
       "66                    0        0       0       0       0            1   \n",
       "67                    0        0       0       0       0            0   \n",
       "68                    1        0       0       0       0            0   \n",
       "\n",
       "    aire acondicionado  \n",
       "0                    0  \n",
       "1                    0  \n",
       "2                    0  \n",
       "3                    0  \n",
       "4                    0  \n",
       "..                 ...  \n",
       "64                   0  \n",
       "65                   0  \n",
       "66                   0  \n",
       "67                   0  \n",
       "68                   0  \n",
       "\n",
       "[69 rows x 19 columns]"
      ]
     },
     "execution_count": 702,
     "metadata": {},
     "output_type": "execute_result"
    }
   ],
   "source": [
    "df_casas_1"
   ]
  },
  {
   "cell_type": "code",
   "execution_count": 703,
   "metadata": {},
   "outputs": [],
   "source": [
    "df_casas_1.to_csv(\"02_casas_idealista_limpio.csv\", index = False, sep = \";\", encoding = \"utf-16\")"
   ]
  },
  {
   "cell_type": "markdown",
   "metadata": {},
   "source": [
    "# Analisis exploratorio (EDA)"
   ]
  },
  {
   "cell_type": "code",
   "execution_count": 704,
   "metadata": {},
   "outputs": [],
   "source": [
    "import matplotlib.pyplot as plt\n",
    "import seaborn as sns"
   ]
  },
  {
   "cell_type": "code",
   "execution_count": 705,
   "metadata": {},
   "outputs": [
    {
     "data": {
      "text/html": [
       "<div>\n",
       "<style scoped>\n",
       "    .dataframe tbody tr th:only-of-type {\n",
       "        vertical-align: middle;\n",
       "    }\n",
       "\n",
       "    .dataframe tbody tr th {\n",
       "        vertical-align: top;\n",
       "    }\n",
       "\n",
       "    .dataframe thead th {\n",
       "        text-align: right;\n",
       "    }\n",
       "</style>\n",
       "<table border=\"1\" class=\"dataframe\">\n",
       "  <thead>\n",
       "    <tr style=\"text-align: right;\">\n",
       "      <th></th>\n",
       "      <th>precio</th>\n",
       "      <th>ascensor</th>\n",
       "      <th>baños</th>\n",
       "      <th>año</th>\n",
       "      <th>trastero</th>\n",
       "      <th>habitaciones</th>\n",
       "      <th>metros reales</th>\n",
       "      <th>armarios empotrados</th>\n",
       "      <th>terraza</th>\n",
       "      <th>balcón</th>\n",
       "      <th>jardín</th>\n",
       "      <th>garaje</th>\n",
       "      <th>calefacción</th>\n",
       "      <th>aire acondicionado</th>\n",
       "    </tr>\n",
       "  </thead>\n",
       "  <tbody>\n",
       "    <tr>\n",
       "      <th>count</th>\n",
       "      <td>69.000000</td>\n",
       "      <td>5.000000</td>\n",
       "      <td>69.000000</td>\n",
       "      <td>46.000000</td>\n",
       "      <td>69.000000</td>\n",
       "      <td>67.000000</td>\n",
       "      <td>69.000000</td>\n",
       "      <td>69.000000</td>\n",
       "      <td>69.000000</td>\n",
       "      <td>69.000000</td>\n",
       "      <td>69.0</td>\n",
       "      <td>69.000000</td>\n",
       "      <td>69.000000</td>\n",
       "      <td>69.000000</td>\n",
       "    </tr>\n",
       "    <tr>\n",
       "      <th>mean</th>\n",
       "      <td>241708.695652</td>\n",
       "      <td>0.200000</td>\n",
       "      <td>2.637681</td>\n",
       "      <td>1980.391304</td>\n",
       "      <td>0.362319</td>\n",
       "      <td>4.358209</td>\n",
       "      <td>272.985507</td>\n",
       "      <td>0.333333</td>\n",
       "      <td>0.521739</td>\n",
       "      <td>0.246377</td>\n",
       "      <td>0.0</td>\n",
       "      <td>0.333333</td>\n",
       "      <td>0.710145</td>\n",
       "      <td>0.028986</td>\n",
       "    </tr>\n",
       "    <tr>\n",
       "      <th>std</th>\n",
       "      <td>137807.070743</td>\n",
       "      <td>0.447214</td>\n",
       "      <td>2.930424</td>\n",
       "      <td>20.793672</td>\n",
       "      <td>0.484192</td>\n",
       "      <td>2.988369</td>\n",
       "      <td>318.735530</td>\n",
       "      <td>0.474858</td>\n",
       "      <td>0.503187</td>\n",
       "      <td>0.434057</td>\n",
       "      <td>0.0</td>\n",
       "      <td>0.474858</td>\n",
       "      <td>0.457019</td>\n",
       "      <td>0.168995</td>\n",
       "    </tr>\n",
       "    <tr>\n",
       "      <th>min</th>\n",
       "      <td>72700.000000</td>\n",
       "      <td>0.000000</td>\n",
       "      <td>1.000000</td>\n",
       "      <td>1945.000000</td>\n",
       "      <td>0.000000</td>\n",
       "      <td>2.000000</td>\n",
       "      <td>48.000000</td>\n",
       "      <td>0.000000</td>\n",
       "      <td>0.000000</td>\n",
       "      <td>0.000000</td>\n",
       "      <td>0.0</td>\n",
       "      <td>0.000000</td>\n",
       "      <td>0.000000</td>\n",
       "      <td>0.000000</td>\n",
       "    </tr>\n",
       "    <tr>\n",
       "      <th>25%</th>\n",
       "      <td>147000.000000</td>\n",
       "      <td>0.000000</td>\n",
       "      <td>1.000000</td>\n",
       "      <td>1967.000000</td>\n",
       "      <td>0.000000</td>\n",
       "      <td>3.000000</td>\n",
       "      <td>150.000000</td>\n",
       "      <td>0.000000</td>\n",
       "      <td>0.000000</td>\n",
       "      <td>0.000000</td>\n",
       "      <td>0.0</td>\n",
       "      <td>0.000000</td>\n",
       "      <td>0.000000</td>\n",
       "      <td>0.000000</td>\n",
       "    </tr>\n",
       "    <tr>\n",
       "      <th>50%</th>\n",
       "      <td>245000.000000</td>\n",
       "      <td>0.000000</td>\n",
       "      <td>2.000000</td>\n",
       "      <td>1979.000000</td>\n",
       "      <td>0.000000</td>\n",
       "      <td>4.000000</td>\n",
       "      <td>241.000000</td>\n",
       "      <td>0.000000</td>\n",
       "      <td>1.000000</td>\n",
       "      <td>0.000000</td>\n",
       "      <td>0.0</td>\n",
       "      <td>0.000000</td>\n",
       "      <td>1.000000</td>\n",
       "      <td>0.000000</td>\n",
       "    </tr>\n",
       "    <tr>\n",
       "      <th>75%</th>\n",
       "      <td>279000.000000</td>\n",
       "      <td>0.000000</td>\n",
       "      <td>3.000000</td>\n",
       "      <td>1995.000000</td>\n",
       "      <td>1.000000</td>\n",
       "      <td>5.000000</td>\n",
       "      <td>272.000000</td>\n",
       "      <td>1.000000</td>\n",
       "      <td>1.000000</td>\n",
       "      <td>0.000000</td>\n",
       "      <td>0.0</td>\n",
       "      <td>1.000000</td>\n",
       "      <td>1.000000</td>\n",
       "      <td>0.000000</td>\n",
       "    </tr>\n",
       "    <tr>\n",
       "      <th>max</th>\n",
       "      <td>950000.000000</td>\n",
       "      <td>1.000000</td>\n",
       "      <td>24.000000</td>\n",
       "      <td>2010.000000</td>\n",
       "      <td>1.000000</td>\n",
       "      <td>24.000000</td>\n",
       "      <td>2700.000000</td>\n",
       "      <td>1.000000</td>\n",
       "      <td>1.000000</td>\n",
       "      <td>1.000000</td>\n",
       "      <td>0.0</td>\n",
       "      <td>1.000000</td>\n",
       "      <td>1.000000</td>\n",
       "      <td>1.000000</td>\n",
       "    </tr>\n",
       "  </tbody>\n",
       "</table>\n",
       "</div>"
      ],
      "text/plain": [
       "              precio  ascensor      baños          año   trastero  \\\n",
       "count      69.000000  5.000000  69.000000    46.000000  69.000000   \n",
       "mean   241708.695652  0.200000   2.637681  1980.391304   0.362319   \n",
       "std    137807.070743  0.447214   2.930424    20.793672   0.484192   \n",
       "min     72700.000000  0.000000   1.000000  1945.000000   0.000000   \n",
       "25%    147000.000000  0.000000   1.000000  1967.000000   0.000000   \n",
       "50%    245000.000000  0.000000   2.000000  1979.000000   0.000000   \n",
       "75%    279000.000000  0.000000   3.000000  1995.000000   1.000000   \n",
       "max    950000.000000  1.000000  24.000000  2010.000000   1.000000   \n",
       "\n",
       "       habitaciones  metros reales  armarios empotrados    terraza     balcón  \\\n",
       "count     67.000000      69.000000            69.000000  69.000000  69.000000   \n",
       "mean       4.358209     272.985507             0.333333   0.521739   0.246377   \n",
       "std        2.988369     318.735530             0.474858   0.503187   0.434057   \n",
       "min        2.000000      48.000000             0.000000   0.000000   0.000000   \n",
       "25%        3.000000     150.000000             0.000000   0.000000   0.000000   \n",
       "50%        4.000000     241.000000             0.000000   1.000000   0.000000   \n",
       "75%        5.000000     272.000000             1.000000   1.000000   0.000000   \n",
       "max       24.000000    2700.000000             1.000000   1.000000   1.000000   \n",
       "\n",
       "       jardín     garaje  calefacción  aire acondicionado  \n",
       "count    69.0  69.000000    69.000000           69.000000  \n",
       "mean      0.0   0.333333     0.710145            0.028986  \n",
       "std       0.0   0.474858     0.457019            0.168995  \n",
       "min       0.0   0.000000     0.000000            0.000000  \n",
       "25%       0.0   0.000000     0.000000            0.000000  \n",
       "50%       0.0   0.000000     1.000000            0.000000  \n",
       "75%       0.0   1.000000     1.000000            0.000000  \n",
       "max       0.0   1.000000     1.000000            1.000000  "
      ]
     },
     "execution_count": 705,
     "metadata": {},
     "output_type": "execute_result"
    }
   ],
   "source": [
    "df_casas_1.describe()"
   ]
  },
  {
   "cell_type": "code",
   "execution_count": 706,
   "metadata": {},
   "outputs": [],
   "source": [
    "variables_1 = [\"ascensor\", \"baños\", \"trastero\", \"habitaciones\", \"metros reales\", \"armarios empotrados\"] + [\"precio\"]\n",
    "variables_2 = [\"terraza\", \"balcón\", \"jardín\", \"garaje\", \"calefacción\", \"aire acondicionado\"] + [\"precio\"]"
   ]
  },
  {
   "cell_type": "code",
   "execution_count": 707,
   "metadata": {},
   "outputs": [
    {
     "name": "stderr",
     "output_type": "stream",
     "text": [
      "c:\\Users\\mateo\\anaconda3\\Lib\\site-packages\\seaborn\\axisgrid.py:118: UserWarning: The figure layout has changed to tight\n",
      "  self._figure.tight_layout(*args, **kwargs)\n"
     ]
    },
    {
     "data": {
      "image/png": "[encoded data removed]",
      "text/plain": [
       "<Figure size 1750x1750 with 56 Axes>"
      ]
     },
     "metadata": {},
     "output_type": "display_data"
    }
   ],
   "source": [
    "pair_plot = sns.pairplot(df_casas_1[variables_1])\n",
    "plt.show()"
   ]
  },
  {
   "cell_type": "code",
   "execution_count": 708,
   "metadata": {},
   "outputs": [
    {
     "name": "stderr",
     "output_type": "stream",
     "text": [
      "c:\\Users\\mateo\\anaconda3\\Lib\\site-packages\\seaborn\\axisgrid.py:118: UserWarning: The figure layout has changed to tight\n",
      "  self._figure.tight_layout(*args, **kwargs)\n"
     ]
    },
    {
     "data": {
      "image/png": "[encoded data removed]",
      "text/plain": [
       "<Figure size 1750x1750 with 56 Axes>"
      ]
     },
     "metadata": {},
     "output_type": "display_data"
    }
   ],
   "source": [
    "pair_plot = sns.pairplot(df_casas_1[variables_2])\n",
    "plt.show()"
   ]
  },
  {
   "cell_type": "markdown",
   "metadata": {},
   "source": [
    "# Precio"
   ]
  },
  {
   "cell_type": "code",
   "execution_count": 709,
   "metadata": {},
   "outputs": [
    {
     "data": {
      "text/plain": [
       "<Axes: xlabel='precio', ylabel='Count'>"
      ]
     },
     "execution_count": 709,
     "metadata": {},
     "output_type": "execute_result"
    },
    {
     "data": {
      "image/png": "[encoded data removed]",
      "text/plain": [
       "<Figure size 640x480 with 1 Axes>"
      ]
     },
     "metadata": {},
     "output_type": "display_data"
    }
   ],
   "source": [
    "'''Pareciera que solo tenemos dos casas que toman valores muy altos respecto a las otras, tal vez se puedan tratar como outlayers'''\n",
    "sns.histplot(data = df_casas_1[\"precio\"])"
   ]
  },
  {
   "cell_type": "code",
   "execution_count": 710,
   "metadata": {},
   "outputs": [
    {
     "data": {
      "text/html": [
       "<div>\n",
       "<style scoped>\n",
       "    .dataframe tbody tr th:only-of-type {\n",
       "        vertical-align: middle;\n",
       "    }\n",
       "\n",
       "    .dataframe tbody tr th {\n",
       "        vertical-align: top;\n",
       "    }\n",
       "\n",
       "    .dataframe thead th {\n",
       "        text-align: right;\n",
       "    }\n",
       "</style>\n",
       "<table border=\"1\" class=\"dataframe\">\n",
       "  <thead>\n",
       "    <tr style=\"text-align: right;\">\n",
       "      <th></th>\n",
       "      <th>Titulo</th>\n",
       "      <th>Localización</th>\n",
       "      <th>precio</th>\n",
       "      <th>ascensor</th>\n",
       "      <th>baños</th>\n",
       "      <th>año</th>\n",
       "      <th>trastero</th>\n",
       "      <th>orientación</th>\n",
       "      <th>piso</th>\n",
       "      <th>habitaciones</th>\n",
       "      <th>metros reales</th>\n",
       "      <th>condición</th>\n",
       "      <th>armarios empotrados</th>\n",
       "      <th>terraza</th>\n",
       "      <th>balcón</th>\n",
       "      <th>jardín</th>\n",
       "      <th>garaje</th>\n",
       "      <th>calefacción</th>\n",
       "      <th>aire acondicionado</th>\n",
       "    </tr>\n",
       "  </thead>\n",
       "  <tbody>\n",
       "    <tr>\n",
       "      <th>5</th>\n",
       "      <td>Masía en venta en avenida de Sant Llorenç</td>\n",
       "      <td>Sant Llorenç Savall</td>\n",
       "      <td>950000</td>\n",
       "      <td>NaN</td>\n",
       "      <td>24</td>\n",
       "      <td>NaN</td>\n",
       "      <td>0</td>\n",
       "      <td>None</td>\n",
       "      <td>3 plantas</td>\n",
       "      <td>24.0</td>\n",
       "      <td>2700</td>\n",
       "      <td>Segunda mano/buen estado</td>\n",
       "      <td>1</td>\n",
       "      <td>0</td>\n",
       "      <td>0</td>\n",
       "      <td>0</td>\n",
       "      <td>0</td>\n",
       "      <td>0</td>\n",
       "      <td>0</td>\n",
       "    </tr>\n",
       "    <tr>\n",
       "      <th>38</th>\n",
       "      <td>Casa o chalet independiente en venta en Sant ...</td>\n",
       "      <td>Vallès Occidental</td>\n",
       "      <td>750000</td>\n",
       "      <td>NaN</td>\n",
       "      <td>3</td>\n",
       "      <td>NaN</td>\n",
       "      <td>1</td>\n",
       "      <td>None</td>\n",
       "      <td>None</td>\n",
       "      <td>12.0</td>\n",
       "      <td>450</td>\n",
       "      <td>Segunda mano/buen estado</td>\n",
       "      <td>1</td>\n",
       "      <td>1</td>\n",
       "      <td>0</td>\n",
       "      <td>0</td>\n",
       "      <td>1</td>\n",
       "      <td>1</td>\n",
       "      <td>0</td>\n",
       "    </tr>\n",
       "  </tbody>\n",
       "</table>\n",
       "</div>"
      ],
      "text/plain": [
       "                                               Titulo         Localización  \\\n",
       "5           Masía en venta en avenida de Sant Llorenç  Sant Llorenç Savall   \n",
       "38   Casa o chalet independiente en venta en Sant ...    Vallès Occidental   \n",
       "\n",
       "    precio  ascensor  baños  año  trastero orientación       piso  \\\n",
       "5   950000       NaN     24  NaN         0        None  3 plantas   \n",
       "38  750000       NaN      3  NaN         1        None       None   \n",
       "\n",
       "    habitaciones  metros reales                 condición  \\\n",
       "5           24.0           2700  Segunda mano/buen estado   \n",
       "38          12.0            450  Segunda mano/buen estado   \n",
       "\n",
       "    armarios empotrados  terraza  balcón  jardín  garaje  calefacción  \\\n",
       "5                     1        0       0       0       0            0   \n",
       "38                    1        1       0       0       1            1   \n",
       "\n",
       "    aire acondicionado  \n",
       "5                    0  \n",
       "38                   0  "
      ]
     },
     "execution_count": 710,
     "metadata": {},
     "output_type": "execute_result"
    }
   ],
   "source": [
    "'''Identificar los outlayers'''\n",
    "df_casas_1.loc[df_casas_1[\"precio\"]>600000]"
   ]
  },
  {
   "cell_type": "code",
   "execution_count": 711,
   "metadata": {},
   "outputs": [
    {
     "data": {
      "text/html": [
       "<div>\n",
       "<style scoped>\n",
       "    .dataframe tbody tr th:only-of-type {\n",
       "        vertical-align: middle;\n",
       "    }\n",
       "\n",
       "    .dataframe tbody tr th {\n",
       "        vertical-align: top;\n",
       "    }\n",
       "\n",
       "    .dataframe thead th {\n",
       "        text-align: right;\n",
       "    }\n",
       "</style>\n",
       "<table border=\"1\" class=\"dataframe\">\n",
       "  <thead>\n",
       "    <tr style=\"text-align: right;\">\n",
       "      <th></th>\n",
       "      <th>Titulo</th>\n",
       "      <th>Localización</th>\n",
       "      <th>precio</th>\n",
       "      <th>ascensor</th>\n",
       "      <th>baños</th>\n",
       "      <th>año</th>\n",
       "      <th>trastero</th>\n",
       "      <th>orientación</th>\n",
       "      <th>piso</th>\n",
       "      <th>habitaciones</th>\n",
       "      <th>metros reales</th>\n",
       "      <th>condición</th>\n",
       "      <th>armarios empotrados</th>\n",
       "      <th>terraza</th>\n",
       "      <th>balcón</th>\n",
       "      <th>jardín</th>\n",
       "      <th>garaje</th>\n",
       "      <th>calefacción</th>\n",
       "      <th>aire acondicionado</th>\n",
       "    </tr>\n",
       "  </thead>\n",
       "  <tbody>\n",
       "    <tr>\n",
       "      <th>0</th>\n",
       "      <td>Chalet pareado en venta en Josep Albages</td>\n",
       "      <td>Sant Llorenç Savall</td>\n",
       "      <td>269000</td>\n",
       "      <td>NaN</td>\n",
       "      <td>4</td>\n",
       "      <td>1995.0</td>\n",
       "      <td>1</td>\n",
       "      <td>sur</td>\n",
       "      <td>3 plantas</td>\n",
       "      <td>5.0</td>\n",
       "      <td>254</td>\n",
       "      <td>Segunda mano/buen estado</td>\n",
       "      <td>1</td>\n",
       "      <td>1</td>\n",
       "      <td>1</td>\n",
       "      <td>0</td>\n",
       "      <td>1</td>\n",
       "      <td>1</td>\n",
       "      <td>0</td>\n",
       "    </tr>\n",
       "    <tr>\n",
       "      <th>1</th>\n",
       "      <td>Chalet pareado en venta en Josep Albages</td>\n",
       "      <td>Sant Llorenç Savall</td>\n",
       "      <td>269000</td>\n",
       "      <td>NaN</td>\n",
       "      <td>4</td>\n",
       "      <td>1995.0</td>\n",
       "      <td>1</td>\n",
       "      <td>sur</td>\n",
       "      <td>3 plantas</td>\n",
       "      <td>5.0</td>\n",
       "      <td>254</td>\n",
       "      <td>Segunda mano/buen estado</td>\n",
       "      <td>1</td>\n",
       "      <td>1</td>\n",
       "      <td>1</td>\n",
       "      <td>0</td>\n",
       "      <td>1</td>\n",
       "      <td>1</td>\n",
       "      <td>0</td>\n",
       "    </tr>\n",
       "    <tr>\n",
       "      <th>2</th>\n",
       "      <td>Casa de pueblo en venta en calle Nou</td>\n",
       "      <td>Sant Llorenç Savall</td>\n",
       "      <td>92000</td>\n",
       "      <td>NaN</td>\n",
       "      <td>1</td>\n",
       "      <td>NaN</td>\n",
       "      <td>1</td>\n",
       "      <td>este</td>\n",
       "      <td>4 plantas</td>\n",
       "      <td>4.0</td>\n",
       "      <td>241</td>\n",
       "      <td>Segunda mano/para reformar</td>\n",
       "      <td>0</td>\n",
       "      <td>1</td>\n",
       "      <td>1</td>\n",
       "      <td>0</td>\n",
       "      <td>0</td>\n",
       "      <td>1</td>\n",
       "      <td>0</td>\n",
       "    </tr>\n",
       "    <tr>\n",
       "      <th>3</th>\n",
       "      <td>Casa o chalet independiente en venta en Avets</td>\n",
       "      <td>Sant Llorenç Savall</td>\n",
       "      <td>245000</td>\n",
       "      <td>NaN</td>\n",
       "      <td>3</td>\n",
       "      <td>1995.0</td>\n",
       "      <td>1</td>\n",
       "      <td>este</td>\n",
       "      <td>2 plantas</td>\n",
       "      <td>3.0</td>\n",
       "      <td>249</td>\n",
       "      <td>Segunda mano/buen estado</td>\n",
       "      <td>0</td>\n",
       "      <td>1</td>\n",
       "      <td>0</td>\n",
       "      <td>0</td>\n",
       "      <td>0</td>\n",
       "      <td>1</td>\n",
       "      <td>0</td>\n",
       "    </tr>\n",
       "    <tr>\n",
       "      <th>4</th>\n",
       "      <td>Casa o chalet independiente en venta en aveni...</td>\n",
       "      <td>Sant Llorenç Savall</td>\n",
       "      <td>360000</td>\n",
       "      <td>NaN</td>\n",
       "      <td>5</td>\n",
       "      <td>1975.0</td>\n",
       "      <td>1</td>\n",
       "      <td>None</td>\n",
       "      <td>1 planta</td>\n",
       "      <td>4.0</td>\n",
       "      <td>241</td>\n",
       "      <td>Segunda mano/buen estado</td>\n",
       "      <td>1</td>\n",
       "      <td>1</td>\n",
       "      <td>1</td>\n",
       "      <td>0</td>\n",
       "      <td>0</td>\n",
       "      <td>1</td>\n",
       "      <td>0</td>\n",
       "    </tr>\n",
       "    <tr>\n",
       "      <th>...</th>\n",
       "      <td>...</td>\n",
       "      <td>...</td>\n",
       "      <td>...</td>\n",
       "      <td>...</td>\n",
       "      <td>...</td>\n",
       "      <td>...</td>\n",
       "      <td>...</td>\n",
       "      <td>...</td>\n",
       "      <td>...</td>\n",
       "      <td>...</td>\n",
       "      <td>...</td>\n",
       "      <td>...</td>\n",
       "      <td>...</td>\n",
       "      <td>...</td>\n",
       "      <td>...</td>\n",
       "      <td>...</td>\n",
       "      <td>...</td>\n",
       "      <td>...</td>\n",
       "      <td>...</td>\n",
       "    </tr>\n",
       "    <tr>\n",
       "      <th>64</th>\n",
       "      <td>Casa de pueblo en venta en calle Barcelona, 9</td>\n",
       "      <td>Sant Llorenç Savall</td>\n",
       "      <td>260000</td>\n",
       "      <td>NaN</td>\n",
       "      <td>2</td>\n",
       "      <td>NaN</td>\n",
       "      <td>1</td>\n",
       "      <td>None</td>\n",
       "      <td>3 plantas</td>\n",
       "      <td>2.0</td>\n",
       "      <td>160</td>\n",
       "      <td>Segunda mano/buen estado</td>\n",
       "      <td>0</td>\n",
       "      <td>1</td>\n",
       "      <td>1</td>\n",
       "      <td>0</td>\n",
       "      <td>0</td>\n",
       "      <td>1</td>\n",
       "      <td>0</td>\n",
       "    </tr>\n",
       "    <tr>\n",
       "      <th>65</th>\n",
       "      <td>Finca rústica en venta en carretera de sant f...</td>\n",
       "      <td>Sant Llorenç Savall</td>\n",
       "      <td>400000</td>\n",
       "      <td>NaN</td>\n",
       "      <td>3</td>\n",
       "      <td>NaN</td>\n",
       "      <td>0</td>\n",
       "      <td>None</td>\n",
       "      <td>1 planta</td>\n",
       "      <td>5.0</td>\n",
       "      <td>400</td>\n",
       "      <td>Segunda mano/para reformar</td>\n",
       "      <td>0</td>\n",
       "      <td>1</td>\n",
       "      <td>0</td>\n",
       "      <td>0</td>\n",
       "      <td>0</td>\n",
       "      <td>0</td>\n",
       "      <td>0</td>\n",
       "    </tr>\n",
       "    <tr>\n",
       "      <th>66</th>\n",
       "      <td>Estudio en venta en Sant Llorenç Savall</td>\n",
       "      <td>Vallès Occidental</td>\n",
       "      <td>78000</td>\n",
       "      <td>0.0</td>\n",
       "      <td>1</td>\n",
       "      <td>2007.0</td>\n",
       "      <td>0</td>\n",
       "      <td>None</td>\n",
       "      <td>Bajo exterior</td>\n",
       "      <td>NaN</td>\n",
       "      <td>48</td>\n",
       "      <td>Segunda mano/buen estado</td>\n",
       "      <td>0</td>\n",
       "      <td>0</td>\n",
       "      <td>0</td>\n",
       "      <td>0</td>\n",
       "      <td>0</td>\n",
       "      <td>1</td>\n",
       "      <td>0</td>\n",
       "    </tr>\n",
       "    <tr>\n",
       "      <th>67</th>\n",
       "      <td>Casa o chalet en venta en carretera de Monistrol</td>\n",
       "      <td>Sant Llorenç Savall</td>\n",
       "      <td>176300</td>\n",
       "      <td>NaN</td>\n",
       "      <td>2</td>\n",
       "      <td>1973.0</td>\n",
       "      <td>0</td>\n",
       "      <td>None</td>\n",
       "      <td>None</td>\n",
       "      <td>4.0</td>\n",
       "      <td>329</td>\n",
       "      <td>Segunda mano/buen estado</td>\n",
       "      <td>0</td>\n",
       "      <td>0</td>\n",
       "      <td>0</td>\n",
       "      <td>0</td>\n",
       "      <td>0</td>\n",
       "      <td>0</td>\n",
       "      <td>0</td>\n",
       "    </tr>\n",
       "    <tr>\n",
       "      <th>68</th>\n",
       "      <td>Casa o chalet en venta en calle del Romani</td>\n",
       "      <td>Sant Llorenç Savall</td>\n",
       "      <td>181100</td>\n",
       "      <td>NaN</td>\n",
       "      <td>1</td>\n",
       "      <td>1983.0</td>\n",
       "      <td>0</td>\n",
       "      <td>None</td>\n",
       "      <td>None</td>\n",
       "      <td>2.0</td>\n",
       "      <td>63</td>\n",
       "      <td>Segunda mano/buen estado</td>\n",
       "      <td>1</td>\n",
       "      <td>0</td>\n",
       "      <td>0</td>\n",
       "      <td>0</td>\n",
       "      <td>0</td>\n",
       "      <td>0</td>\n",
       "      <td>0</td>\n",
       "    </tr>\n",
       "  </tbody>\n",
       "</table>\n",
       "<p>67 rows × 19 columns</p>\n",
       "</div>"
      ],
      "text/plain": [
       "                                               Titulo         Localización  \\\n",
       "0            Chalet pareado en venta en Josep Albages  Sant Llorenç Savall   \n",
       "1            Chalet pareado en venta en Josep Albages  Sant Llorenç Savall   \n",
       "2                Casa de pueblo en venta en calle Nou  Sant Llorenç Savall   \n",
       "3       Casa o chalet independiente en venta en Avets  Sant Llorenç Savall   \n",
       "4    Casa o chalet independiente en venta en aveni...  Sant Llorenç Savall   \n",
       "..                                                ...                  ...   \n",
       "64      Casa de pueblo en venta en calle Barcelona, 9  Sant Llorenç Savall   \n",
       "65   Finca rústica en venta en carretera de sant f...  Sant Llorenç Savall   \n",
       "66            Estudio en venta en Sant Llorenç Savall    Vallès Occidental   \n",
       "67   Casa o chalet en venta en carretera de Monistrol  Sant Llorenç Savall   \n",
       "68         Casa o chalet en venta en calle del Romani  Sant Llorenç Savall   \n",
       "\n",
       "    precio  ascensor  baños     año  trastero orientación           piso  \\\n",
       "0   269000       NaN      4  1995.0         1         sur      3 plantas   \n",
       "1   269000       NaN      4  1995.0         1         sur      3 plantas   \n",
       "2    92000       NaN      1     NaN         1        este      4 plantas   \n",
       "3   245000       NaN      3  1995.0         1        este      2 plantas   \n",
       "4   360000       NaN      5  1975.0         1        None       1 planta   \n",
       "..     ...       ...    ...     ...       ...         ...            ...   \n",
       "64  260000       NaN      2     NaN         1        None      3 plantas   \n",
       "65  400000       NaN      3     NaN         0        None       1 planta   \n",
       "66   78000       0.0      1  2007.0         0        None  Bajo exterior   \n",
       "67  176300       NaN      2  1973.0         0        None           None   \n",
       "68  181100       NaN      1  1983.0         0        None           None   \n",
       "\n",
       "    habitaciones  metros reales                   condición  \\\n",
       "0            5.0            254    Segunda mano/buen estado   \n",
       "1            5.0            254    Segunda mano/buen estado   \n",
       "2            4.0            241  Segunda mano/para reformar   \n",
       "3            3.0            249    Segunda mano/buen estado   \n",
       "4            4.0            241    Segunda mano/buen estado   \n",
       "..           ...            ...                         ...   \n",
       "64           2.0            160    Segunda mano/buen estado   \n",
       "65           5.0            400  Segunda mano/para reformar   \n",
       "66           NaN             48    Segunda mano/buen estado   \n",
       "67           4.0            329    Segunda mano/buen estado   \n",
       "68           2.0             63    Segunda mano/buen estado   \n",
       "\n",
       "    armarios empotrados  terraza  balcón  jardín  garaje  calefacción  \\\n",
       "0                     1        1       1       0       1            1   \n",
       "1                     1        1       1       0       1            1   \n",
       "2                     0        1       1       0       0            1   \n",
       "3                     0        1       0       0       0            1   \n",
       "4                     1        1       1       0       0            1   \n",
       "..                  ...      ...     ...     ...     ...          ...   \n",
       "64                    0        1       1       0       0            1   \n",
       "65                    0        1       0       0       0            0   \n",
       "66                    0        0       0       0       0            1   \n",
       "67                    0        0       0       0       0            0   \n",
       "68                    1        0       0       0       0            0   \n",
       "\n",
       "    aire acondicionado  \n",
       "0                    0  \n",
       "1                    0  \n",
       "2                    0  \n",
       "3                    0  \n",
       "4                    0  \n",
       "..                 ...  \n",
       "64                   0  \n",
       "65                   0  \n",
       "66                   0  \n",
       "67                   0  \n",
       "68                   0  \n",
       "\n",
       "[67 rows x 19 columns]"
      ]
     },
     "execution_count": 711,
     "metadata": {},
     "output_type": "execute_result"
    }
   ],
   "source": [
    "'''identificar los outlayers'''\n",
    "df_casas_1.loc[df_casas_1[\"precio\"]<600000]"
   ]
  },
  {
   "cell_type": "code",
   "execution_count": 712,
   "metadata": {},
   "outputs": [
    {
     "data": {
      "text/html": [
       "<div>\n",
       "<style scoped>\n",
       "    .dataframe tbody tr th:only-of-type {\n",
       "        vertical-align: middle;\n",
       "    }\n",
       "\n",
       "    .dataframe tbody tr th {\n",
       "        vertical-align: top;\n",
       "    }\n",
       "\n",
       "    .dataframe thead th {\n",
       "        text-align: right;\n",
       "    }\n",
       "</style>\n",
       "<table border=\"1\" class=\"dataframe\">\n",
       "  <thead>\n",
       "    <tr style=\"text-align: right;\">\n",
       "      <th></th>\n",
       "      <th>Titulo</th>\n",
       "      <th>Localización</th>\n",
       "      <th>precio</th>\n",
       "      <th>ascensor</th>\n",
       "      <th>baños</th>\n",
       "      <th>año</th>\n",
       "      <th>trastero</th>\n",
       "      <th>orientación</th>\n",
       "      <th>piso</th>\n",
       "      <th>habitaciones</th>\n",
       "      <th>metros reales</th>\n",
       "      <th>condición</th>\n",
       "      <th>armarios empotrados</th>\n",
       "      <th>terraza</th>\n",
       "      <th>balcón</th>\n",
       "      <th>jardín</th>\n",
       "      <th>garaje</th>\n",
       "      <th>calefacción</th>\n",
       "      <th>aire acondicionado</th>\n",
       "    </tr>\n",
       "  </thead>\n",
       "  <tbody>\n",
       "    <tr>\n",
       "      <th>0</th>\n",
       "      <td>Chalet pareado en venta en Josep Albages</td>\n",
       "      <td>Sant Llorenç Savall</td>\n",
       "      <td>269000</td>\n",
       "      <td>NaN</td>\n",
       "      <td>4</td>\n",
       "      <td>1995.0</td>\n",
       "      <td>1</td>\n",
       "      <td>sur</td>\n",
       "      <td>3 plantas</td>\n",
       "      <td>5.0</td>\n",
       "      <td>254</td>\n",
       "      <td>Segunda mano/buen estado</td>\n",
       "      <td>1</td>\n",
       "      <td>1</td>\n",
       "      <td>1</td>\n",
       "      <td>0</td>\n",
       "      <td>1</td>\n",
       "      <td>1</td>\n",
       "      <td>0</td>\n",
       "    </tr>\n",
       "    <tr>\n",
       "      <th>1</th>\n",
       "      <td>Chalet pareado en venta en Josep Albages</td>\n",
       "      <td>Sant Llorenç Savall</td>\n",
       "      <td>269000</td>\n",
       "      <td>NaN</td>\n",
       "      <td>4</td>\n",
       "      <td>1995.0</td>\n",
       "      <td>1</td>\n",
       "      <td>sur</td>\n",
       "      <td>3 plantas</td>\n",
       "      <td>5.0</td>\n",
       "      <td>254</td>\n",
       "      <td>Segunda mano/buen estado</td>\n",
       "      <td>1</td>\n",
       "      <td>1</td>\n",
       "      <td>1</td>\n",
       "      <td>0</td>\n",
       "      <td>1</td>\n",
       "      <td>1</td>\n",
       "      <td>0</td>\n",
       "    </tr>\n",
       "    <tr>\n",
       "      <th>2</th>\n",
       "      <td>Casa de pueblo en venta en calle Nou</td>\n",
       "      <td>Sant Llorenç Savall</td>\n",
       "      <td>92000</td>\n",
       "      <td>NaN</td>\n",
       "      <td>1</td>\n",
       "      <td>NaN</td>\n",
       "      <td>1</td>\n",
       "      <td>este</td>\n",
       "      <td>4 plantas</td>\n",
       "      <td>4.0</td>\n",
       "      <td>241</td>\n",
       "      <td>Segunda mano/para reformar</td>\n",
       "      <td>0</td>\n",
       "      <td>1</td>\n",
       "      <td>1</td>\n",
       "      <td>0</td>\n",
       "      <td>0</td>\n",
       "      <td>1</td>\n",
       "      <td>0</td>\n",
       "    </tr>\n",
       "    <tr>\n",
       "      <th>3</th>\n",
       "      <td>Casa o chalet independiente en venta en Avets</td>\n",
       "      <td>Sant Llorenç Savall</td>\n",
       "      <td>245000</td>\n",
       "      <td>NaN</td>\n",
       "      <td>3</td>\n",
       "      <td>1995.0</td>\n",
       "      <td>1</td>\n",
       "      <td>este</td>\n",
       "      <td>2 plantas</td>\n",
       "      <td>3.0</td>\n",
       "      <td>249</td>\n",
       "      <td>Segunda mano/buen estado</td>\n",
       "      <td>0</td>\n",
       "      <td>1</td>\n",
       "      <td>0</td>\n",
       "      <td>0</td>\n",
       "      <td>0</td>\n",
       "      <td>1</td>\n",
       "      <td>0</td>\n",
       "    </tr>\n",
       "    <tr>\n",
       "      <th>4</th>\n",
       "      <td>Casa o chalet independiente en venta en aveni...</td>\n",
       "      <td>Sant Llorenç Savall</td>\n",
       "      <td>360000</td>\n",
       "      <td>NaN</td>\n",
       "      <td>5</td>\n",
       "      <td>1975.0</td>\n",
       "      <td>1</td>\n",
       "      <td>None</td>\n",
       "      <td>1 planta</td>\n",
       "      <td>4.0</td>\n",
       "      <td>241</td>\n",
       "      <td>Segunda mano/buen estado</td>\n",
       "      <td>1</td>\n",
       "      <td>1</td>\n",
       "      <td>1</td>\n",
       "      <td>0</td>\n",
       "      <td>0</td>\n",
       "      <td>1</td>\n",
       "      <td>0</td>\n",
       "    </tr>\n",
       "    <tr>\n",
       "      <th>...</th>\n",
       "      <td>...</td>\n",
       "      <td>...</td>\n",
       "      <td>...</td>\n",
       "      <td>...</td>\n",
       "      <td>...</td>\n",
       "      <td>...</td>\n",
       "      <td>...</td>\n",
       "      <td>...</td>\n",
       "      <td>...</td>\n",
       "      <td>...</td>\n",
       "      <td>...</td>\n",
       "      <td>...</td>\n",
       "      <td>...</td>\n",
       "      <td>...</td>\n",
       "      <td>...</td>\n",
       "      <td>...</td>\n",
       "      <td>...</td>\n",
       "      <td>...</td>\n",
       "      <td>...</td>\n",
       "    </tr>\n",
       "    <tr>\n",
       "      <th>64</th>\n",
       "      <td>Casa de pueblo en venta en calle Barcelona, 9</td>\n",
       "      <td>Sant Llorenç Savall</td>\n",
       "      <td>260000</td>\n",
       "      <td>NaN</td>\n",
       "      <td>2</td>\n",
       "      <td>NaN</td>\n",
       "      <td>1</td>\n",
       "      <td>None</td>\n",
       "      <td>3 plantas</td>\n",
       "      <td>2.0</td>\n",
       "      <td>160</td>\n",
       "      <td>Segunda mano/buen estado</td>\n",
       "      <td>0</td>\n",
       "      <td>1</td>\n",
       "      <td>1</td>\n",
       "      <td>0</td>\n",
       "      <td>0</td>\n",
       "      <td>1</td>\n",
       "      <td>0</td>\n",
       "    </tr>\n",
       "    <tr>\n",
       "      <th>65</th>\n",
       "      <td>Finca rústica en venta en carretera de sant f...</td>\n",
       "      <td>Sant Llorenç Savall</td>\n",
       "      <td>400000</td>\n",
       "      <td>NaN</td>\n",
       "      <td>3</td>\n",
       "      <td>NaN</td>\n",
       "      <td>0</td>\n",
       "      <td>None</td>\n",
       "      <td>1 planta</td>\n",
       "      <td>5.0</td>\n",
       "      <td>400</td>\n",
       "      <td>Segunda mano/para reformar</td>\n",
       "      <td>0</td>\n",
       "      <td>1</td>\n",
       "      <td>0</td>\n",
       "      <td>0</td>\n",
       "      <td>0</td>\n",
       "      <td>0</td>\n",
       "      <td>0</td>\n",
       "    </tr>\n",
       "    <tr>\n",
       "      <th>66</th>\n",
       "      <td>Estudio en venta en Sant Llorenç Savall</td>\n",
       "      <td>Vallès Occidental</td>\n",
       "      <td>78000</td>\n",
       "      <td>0.0</td>\n",
       "      <td>1</td>\n",
       "      <td>2007.0</td>\n",
       "      <td>0</td>\n",
       "      <td>None</td>\n",
       "      <td>Bajo exterior</td>\n",
       "      <td>NaN</td>\n",
       "      <td>48</td>\n",
       "      <td>Segunda mano/buen estado</td>\n",
       "      <td>0</td>\n",
       "      <td>0</td>\n",
       "      <td>0</td>\n",
       "      <td>0</td>\n",
       "      <td>0</td>\n",
       "      <td>1</td>\n",
       "      <td>0</td>\n",
       "    </tr>\n",
       "    <tr>\n",
       "      <th>67</th>\n",
       "      <td>Casa o chalet en venta en carretera de Monistrol</td>\n",
       "      <td>Sant Llorenç Savall</td>\n",
       "      <td>176300</td>\n",
       "      <td>NaN</td>\n",
       "      <td>2</td>\n",
       "      <td>1973.0</td>\n",
       "      <td>0</td>\n",
       "      <td>None</td>\n",
       "      <td>None</td>\n",
       "      <td>4.0</td>\n",
       "      <td>329</td>\n",
       "      <td>Segunda mano/buen estado</td>\n",
       "      <td>0</td>\n",
       "      <td>0</td>\n",
       "      <td>0</td>\n",
       "      <td>0</td>\n",
       "      <td>0</td>\n",
       "      <td>0</td>\n",
       "      <td>0</td>\n",
       "    </tr>\n",
       "    <tr>\n",
       "      <th>68</th>\n",
       "      <td>Casa o chalet en venta en calle del Romani</td>\n",
       "      <td>Sant Llorenç Savall</td>\n",
       "      <td>181100</td>\n",
       "      <td>NaN</td>\n",
       "      <td>1</td>\n",
       "      <td>1983.0</td>\n",
       "      <td>0</td>\n",
       "      <td>None</td>\n",
       "      <td>None</td>\n",
       "      <td>2.0</td>\n",
       "      <td>63</td>\n",
       "      <td>Segunda mano/buen estado</td>\n",
       "      <td>1</td>\n",
       "      <td>0</td>\n",
       "      <td>0</td>\n",
       "      <td>0</td>\n",
       "      <td>0</td>\n",
       "      <td>0</td>\n",
       "      <td>0</td>\n",
       "    </tr>\n",
       "  </tbody>\n",
       "</table>\n",
       "<p>67 rows × 19 columns</p>\n",
       "</div>"
      ],
      "text/plain": [
       "                                               Titulo         Localización  \\\n",
       "0            Chalet pareado en venta en Josep Albages  Sant Llorenç Savall   \n",
       "1            Chalet pareado en venta en Josep Albages  Sant Llorenç Savall   \n",
       "2                Casa de pueblo en venta en calle Nou  Sant Llorenç Savall   \n",
       "3       Casa o chalet independiente en venta en Avets  Sant Llorenç Savall   \n",
       "4    Casa o chalet independiente en venta en aveni...  Sant Llorenç Savall   \n",
       "..                                                ...                  ...   \n",
       "64      Casa de pueblo en venta en calle Barcelona, 9  Sant Llorenç Savall   \n",
       "65   Finca rústica en venta en carretera de sant f...  Sant Llorenç Savall   \n",
       "66            Estudio en venta en Sant Llorenç Savall    Vallès Occidental   \n",
       "67   Casa o chalet en venta en carretera de Monistrol  Sant Llorenç Savall   \n",
       "68         Casa o chalet en venta en calle del Romani  Sant Llorenç Savall   \n",
       "\n",
       "    precio  ascensor  baños     año  trastero orientación           piso  \\\n",
       "0   269000       NaN      4  1995.0         1         sur      3 plantas   \n",
       "1   269000       NaN      4  1995.0         1         sur      3 plantas   \n",
       "2    92000       NaN      1     NaN         1        este      4 plantas   \n",
       "3   245000       NaN      3  1995.0         1        este      2 plantas   \n",
       "4   360000       NaN      5  1975.0         1        None       1 planta   \n",
       "..     ...       ...    ...     ...       ...         ...            ...   \n",
       "64  260000       NaN      2     NaN         1        None      3 plantas   \n",
       "65  400000       NaN      3     NaN         0        None       1 planta   \n",
       "66   78000       0.0      1  2007.0         0        None  Bajo exterior   \n",
       "67  176300       NaN      2  1973.0         0        None           None   \n",
       "68  181100       NaN      1  1983.0         0        None           None   \n",
       "\n",
       "    habitaciones  metros reales                   condición  \\\n",
       "0            5.0            254    Segunda mano/buen estado   \n",
       "1            5.0            254    Segunda mano/buen estado   \n",
       "2            4.0            241  Segunda mano/para reformar   \n",
       "3            3.0            249    Segunda mano/buen estado   \n",
       "4            4.0            241    Segunda mano/buen estado   \n",
       "..           ...            ...                         ...   \n",
       "64           2.0            160    Segunda mano/buen estado   \n",
       "65           5.0            400  Segunda mano/para reformar   \n",
       "66           NaN             48    Segunda mano/buen estado   \n",
       "67           4.0            329    Segunda mano/buen estado   \n",
       "68           2.0             63    Segunda mano/buen estado   \n",
       "\n",
       "    armarios empotrados  terraza  balcón  jardín  garaje  calefacción  \\\n",
       "0                     1        1       1       0       1            1   \n",
       "1                     1        1       1       0       1            1   \n",
       "2                     0        1       1       0       0            1   \n",
       "3                     0        1       0       0       0            1   \n",
       "4                     1        1       1       0       0            1   \n",
       "..                  ...      ...     ...     ...     ...          ...   \n",
       "64                    0        1       1       0       0            1   \n",
       "65                    0        1       0       0       0            0   \n",
       "66                    0        0       0       0       0            1   \n",
       "67                    0        0       0       0       0            0   \n",
       "68                    1        0       0       0       0            0   \n",
       "\n",
       "    aire acondicionado  \n",
       "0                    0  \n",
       "1                    0  \n",
       "2                    0  \n",
       "3                    0  \n",
       "4                    0  \n",
       "..                 ...  \n",
       "64                   0  \n",
       "65                   0  \n",
       "66                   0  \n",
       "67                   0  \n",
       "68                   0  \n",
       "\n",
       "[67 rows x 19 columns]"
      ]
     },
     "execution_count": 712,
     "metadata": {},
     "output_type": "execute_result"
    }
   ],
   "source": [
    "'''Quitar lo outlayers'''\n",
    "df_casas_1 = df_casas_1[df_casas_1[\"precio\"] < 600000]\n",
    "df_casas_1"
   ]
  },
  {
   "cell_type": "markdown",
   "metadata": {},
   "source": [
    "# Exploración por cada variable\n",
    "\n",
    "# Ascensor"
   ]
  },
  {
   "cell_type": "code",
   "execution_count": 713,
   "metadata": {},
   "outputs": [
    {
     "data": {
      "text/plain": [
       "ascensor\n",
       "0.0    4\n",
       "1.0    1\n",
       "Name: count, dtype: int64"
      ]
     },
     "execution_count": 713,
     "metadata": {},
     "output_type": "execute_result"
    }
   ],
   "source": [
    "'''La variable ascensor apenas son 5 datos de 67 entonces la voy a quitar'''\n",
    "df_casas_1[\"ascensor\"].value_counts()"
   ]
  },
  {
   "cell_type": "code",
   "execution_count": 714,
   "metadata": {},
   "outputs": [
    {
     "data": {
      "text/plain": [
       "62"
      ]
     },
     "execution_count": 714,
     "metadata": {},
     "output_type": "execute_result"
    }
   ],
   "source": [
    "'''el resto de datos son nulos'''\n",
    "sum(df_casas_1[\"ascensor\"].isna())"
   ]
  },
  {
   "cell_type": "code",
   "execution_count": 715,
   "metadata": {},
   "outputs": [],
   "source": [
    "'''Se pueden reemplazar por 0 los nulos pero no va a ser útil'''\n",
    "df_casas_1.loc[df_casas_1[\"ascensor\"].isna(), \"ascensor\"] = 0"
   ]
  },
  {
   "cell_type": "code",
   "execution_count": 716,
   "metadata": {},
   "outputs": [
    {
     "name": "stderr",
     "output_type": "stream",
     "text": [
      "C:\\Users\\mateo\\AppData\\Local\\Temp\\ipykernel_5544\\1613589546.py:2: SettingWithCopyWarning: \n",
      "A value is trying to be set on a copy of a slice from a DataFrame\n",
      "\n",
      "See the caveats in the documentation: https://pandas.pydata.org/pandas-docs/stable/user_guide/indexing.html#returning-a-view-versus-a-copy\n",
      "  df_casas_1.drop(columns = [\"ascensor\"], inplace = True)\n"
     ]
    }
   ],
   "source": [
    "'''Removemos la columna'''\n",
    "df_casas_1.drop(columns = [\"ascensor\"], inplace = True)"
   ]
  },
  {
   "cell_type": "markdown",
   "metadata": {},
   "source": [
    "# Año"
   ]
  },
  {
   "cell_type": "code",
   "execution_count": 717,
   "metadata": {},
   "outputs": [
    {
     "data": {
      "text/plain": [
       "'No debería eliminarse'"
      ]
     },
     "execution_count": 717,
     "metadata": {},
     "output_type": "execute_result"
    }
   ],
   "source": [
    "'''Identificar la cantidad de nulos'''\n",
    "df_casas_1[\"año\"].isna().sum()\n",
    "\n",
    "'''No debería eliminarse'''\n",
    "#df_casas_1.drop(columns = [\"año\"], inplace = True)"
   ]
  },
  {
   "cell_type": "markdown",
   "metadata": {},
   "source": [
    "# Trastero"
   ]
  },
  {
   "cell_type": "code",
   "execution_count": 718,
   "metadata": {},
   "outputs": [
    {
     "data": {
      "text/plain": [
       "trastero\n",
       "0    43\n",
       "1    24\n",
       "Name: count, dtype: int64"
      ]
     },
     "execution_count": 718,
     "metadata": {},
     "output_type": "execute_result"
    }
   ],
   "source": [
    "df_casas_1[\"trastero\"].value_counts()"
   ]
  },
  {
   "cell_type": "markdown",
   "metadata": {},
   "source": [
    "# Orientación"
   ]
  },
  {
   "cell_type": "code",
   "execution_count": 719,
   "metadata": {},
   "outputs": [
    {
     "data": {
      "text/plain": [
       "orientación\n",
       "sur      7\n",
       "este     5\n",
       "norte    2\n",
       "Name: count, dtype: int64"
      ]
     },
     "execution_count": 719,
     "metadata": {},
     "output_type": "execute_result"
    }
   ],
   "source": [
    "df_casas_1[\"orientación\"].value_counts()"
   ]
  },
  {
   "cell_type": "code",
   "execution_count": 720,
   "metadata": {},
   "outputs": [
    {
     "name": "stderr",
     "output_type": "stream",
     "text": [
      "C:\\Users\\mateo\\AppData\\Local\\Temp\\ipykernel_5544\\3970431.py:2: SettingWithCopyWarning: \n",
      "A value is trying to be set on a copy of a slice from a DataFrame.\n",
      "Try using .loc[row_indexer,col_indexer] = value instead\n",
      "\n",
      "See the caveats in the documentation: https://pandas.pydata.org/pandas-docs/stable/user_guide/indexing.html#returning-a-view-versus-a-copy\n",
      "  df_casas_1[\"orientación\"] = df_casas_1[\"orientación\"].fillna(\"None\")\n"
     ]
    }
   ],
   "source": [
    "'''Vamos a agregarle otro elemento llamado None a los nulos en la columna orientación'''\n",
    "df_casas_1[\"orientación\"] = df_casas_1[\"orientación\"].fillna(\"None\")"
   ]
  },
  {
   "cell_type": "code",
   "execution_count": 721,
   "metadata": {},
   "outputs": [
    {
     "name": "stderr",
     "output_type": "stream",
     "text": [
      "c:\\Users\\mateo\\anaconda3\\Lib\\site-packages\\seaborn\\axisgrid.py:118: UserWarning: The figure layout has changed to tight\n",
      "  self._figure.tight_layout(*args, **kwargs)\n"
     ]
    },
    {
     "data": {
      "text/plain": [
       "<seaborn.axisgrid.FacetGrid at 0x16da4f0d850>"
      ]
     },
     "execution_count": 721,
     "metadata": {},
     "output_type": "execute_result"
    },
    {
     "data": {
      "image/png": "[encoded data removed]",
      "text/plain": [
       "<Figure size 500x500 with 1 Axes>"
      ]
     },
     "metadata": {},
     "output_type": "display_data"
    }
   ],
   "source": [
    "'''Plot del precio vs orientación:\n",
    "\n",
    "La mayoria de valores son None y no se ve una relación que aporte buena información.'''\n",
    "\n",
    "sns.catplot(x = \"orientación\", y= \"precio\", data = df_casas_1)"
   ]
  },
  {
   "cell_type": "code",
   "execution_count": 722,
   "metadata": {},
   "outputs": [
    {
     "data": {
      "text/html": [
       "<div>\n",
       "<style scoped>\n",
       "    .dataframe tbody tr th:only-of-type {\n",
       "        vertical-align: middle;\n",
       "    }\n",
       "\n",
       "    .dataframe tbody tr th {\n",
       "        vertical-align: top;\n",
       "    }\n",
       "\n",
       "    .dataframe thead th {\n",
       "        text-align: right;\n",
       "    }\n",
       "</style>\n",
       "<table border=\"1\" class=\"dataframe\">\n",
       "  <thead>\n",
       "    <tr style=\"text-align: right;\">\n",
       "      <th></th>\n",
       "      <th>Titulo</th>\n",
       "      <th>Localización</th>\n",
       "      <th>precio</th>\n",
       "      <th>baños</th>\n",
       "      <th>año</th>\n",
       "      <th>trastero</th>\n",
       "      <th>piso</th>\n",
       "      <th>habitaciones</th>\n",
       "      <th>metros reales</th>\n",
       "      <th>condición</th>\n",
       "      <th>armarios empotrados</th>\n",
       "      <th>terraza</th>\n",
       "      <th>balcón</th>\n",
       "      <th>jardín</th>\n",
       "      <th>garaje</th>\n",
       "      <th>calefacción</th>\n",
       "      <th>aire acondicionado</th>\n",
       "    </tr>\n",
       "  </thead>\n",
       "  <tbody>\n",
       "    <tr>\n",
       "      <th>0</th>\n",
       "      <td>Chalet pareado en venta en Josep Albages</td>\n",
       "      <td>Sant Llorenç Savall</td>\n",
       "      <td>269000</td>\n",
       "      <td>4</td>\n",
       "      <td>1995.0</td>\n",
       "      <td>1</td>\n",
       "      <td>3 plantas</td>\n",
       "      <td>5.0</td>\n",
       "      <td>254</td>\n",
       "      <td>Segunda mano/buen estado</td>\n",
       "      <td>1</td>\n",
       "      <td>1</td>\n",
       "      <td>1</td>\n",
       "      <td>0</td>\n",
       "      <td>1</td>\n",
       "      <td>1</td>\n",
       "      <td>0</td>\n",
       "    </tr>\n",
       "    <tr>\n",
       "      <th>1</th>\n",
       "      <td>Chalet pareado en venta en Josep Albages</td>\n",
       "      <td>Sant Llorenç Savall</td>\n",
       "      <td>269000</td>\n",
       "      <td>4</td>\n",
       "      <td>1995.0</td>\n",
       "      <td>1</td>\n",
       "      <td>3 plantas</td>\n",
       "      <td>5.0</td>\n",
       "      <td>254</td>\n",
       "      <td>Segunda mano/buen estado</td>\n",
       "      <td>1</td>\n",
       "      <td>1</td>\n",
       "      <td>1</td>\n",
       "      <td>0</td>\n",
       "      <td>1</td>\n",
       "      <td>1</td>\n",
       "      <td>0</td>\n",
       "    </tr>\n",
       "    <tr>\n",
       "      <th>2</th>\n",
       "      <td>Casa de pueblo en venta en calle Nou</td>\n",
       "      <td>Sant Llorenç Savall</td>\n",
       "      <td>92000</td>\n",
       "      <td>1</td>\n",
       "      <td>NaN</td>\n",
       "      <td>1</td>\n",
       "      <td>4 plantas</td>\n",
       "      <td>4.0</td>\n",
       "      <td>241</td>\n",
       "      <td>Segunda mano/para reformar</td>\n",
       "      <td>0</td>\n",
       "      <td>1</td>\n",
       "      <td>1</td>\n",
       "      <td>0</td>\n",
       "      <td>0</td>\n",
       "      <td>1</td>\n",
       "      <td>0</td>\n",
       "    </tr>\n",
       "    <tr>\n",
       "      <th>3</th>\n",
       "      <td>Casa o chalet independiente en venta en Avets</td>\n",
       "      <td>Sant Llorenç Savall</td>\n",
       "      <td>245000</td>\n",
       "      <td>3</td>\n",
       "      <td>1995.0</td>\n",
       "      <td>1</td>\n",
       "      <td>2 plantas</td>\n",
       "      <td>3.0</td>\n",
       "      <td>249</td>\n",
       "      <td>Segunda mano/buen estado</td>\n",
       "      <td>0</td>\n",
       "      <td>1</td>\n",
       "      <td>0</td>\n",
       "      <td>0</td>\n",
       "      <td>0</td>\n",
       "      <td>1</td>\n",
       "      <td>0</td>\n",
       "    </tr>\n",
       "    <tr>\n",
       "      <th>4</th>\n",
       "      <td>Casa o chalet independiente en venta en aveni...</td>\n",
       "      <td>Sant Llorenç Savall</td>\n",
       "      <td>360000</td>\n",
       "      <td>5</td>\n",
       "      <td>1975.0</td>\n",
       "      <td>1</td>\n",
       "      <td>1 planta</td>\n",
       "      <td>4.0</td>\n",
       "      <td>241</td>\n",
       "      <td>Segunda mano/buen estado</td>\n",
       "      <td>1</td>\n",
       "      <td>1</td>\n",
       "      <td>1</td>\n",
       "      <td>0</td>\n",
       "      <td>0</td>\n",
       "      <td>1</td>\n",
       "      <td>0</td>\n",
       "    </tr>\n",
       "    <tr>\n",
       "      <th>...</th>\n",
       "      <td>...</td>\n",
       "      <td>...</td>\n",
       "      <td>...</td>\n",
       "      <td>...</td>\n",
       "      <td>...</td>\n",
       "      <td>...</td>\n",
       "      <td>...</td>\n",
       "      <td>...</td>\n",
       "      <td>...</td>\n",
       "      <td>...</td>\n",
       "      <td>...</td>\n",
       "      <td>...</td>\n",
       "      <td>...</td>\n",
       "      <td>...</td>\n",
       "      <td>...</td>\n",
       "      <td>...</td>\n",
       "      <td>...</td>\n",
       "    </tr>\n",
       "    <tr>\n",
       "      <th>64</th>\n",
       "      <td>Casa de pueblo en venta en calle Barcelona, 9</td>\n",
       "      <td>Sant Llorenç Savall</td>\n",
       "      <td>260000</td>\n",
       "      <td>2</td>\n",
       "      <td>NaN</td>\n",
       "      <td>1</td>\n",
       "      <td>3 plantas</td>\n",
       "      <td>2.0</td>\n",
       "      <td>160</td>\n",
       "      <td>Segunda mano/buen estado</td>\n",
       "      <td>0</td>\n",
       "      <td>1</td>\n",
       "      <td>1</td>\n",
       "      <td>0</td>\n",
       "      <td>0</td>\n",
       "      <td>1</td>\n",
       "      <td>0</td>\n",
       "    </tr>\n",
       "    <tr>\n",
       "      <th>65</th>\n",
       "      <td>Finca rústica en venta en carretera de sant f...</td>\n",
       "      <td>Sant Llorenç Savall</td>\n",
       "      <td>400000</td>\n",
       "      <td>3</td>\n",
       "      <td>NaN</td>\n",
       "      <td>0</td>\n",
       "      <td>1 planta</td>\n",
       "      <td>5.0</td>\n",
       "      <td>400</td>\n",
       "      <td>Segunda mano/para reformar</td>\n",
       "      <td>0</td>\n",
       "      <td>1</td>\n",
       "      <td>0</td>\n",
       "      <td>0</td>\n",
       "      <td>0</td>\n",
       "      <td>0</td>\n",
       "      <td>0</td>\n",
       "    </tr>\n",
       "    <tr>\n",
       "      <th>66</th>\n",
       "      <td>Estudio en venta en Sant Llorenç Savall</td>\n",
       "      <td>Vallès Occidental</td>\n",
       "      <td>78000</td>\n",
       "      <td>1</td>\n",
       "      <td>2007.0</td>\n",
       "      <td>0</td>\n",
       "      <td>Bajo exterior</td>\n",
       "      <td>NaN</td>\n",
       "      <td>48</td>\n",
       "      <td>Segunda mano/buen estado</td>\n",
       "      <td>0</td>\n",
       "      <td>0</td>\n",
       "      <td>0</td>\n",
       "      <td>0</td>\n",
       "      <td>0</td>\n",
       "      <td>1</td>\n",
       "      <td>0</td>\n",
       "    </tr>\n",
       "    <tr>\n",
       "      <th>67</th>\n",
       "      <td>Casa o chalet en venta en carretera de Monistrol</td>\n",
       "      <td>Sant Llorenç Savall</td>\n",
       "      <td>176300</td>\n",
       "      <td>2</td>\n",
       "      <td>1973.0</td>\n",
       "      <td>0</td>\n",
       "      <td>None</td>\n",
       "      <td>4.0</td>\n",
       "      <td>329</td>\n",
       "      <td>Segunda mano/buen estado</td>\n",
       "      <td>0</td>\n",
       "      <td>0</td>\n",
       "      <td>0</td>\n",
       "      <td>0</td>\n",
       "      <td>0</td>\n",
       "      <td>0</td>\n",
       "      <td>0</td>\n",
       "    </tr>\n",
       "    <tr>\n",
       "      <th>68</th>\n",
       "      <td>Casa o chalet en venta en calle del Romani</td>\n",
       "      <td>Sant Llorenç Savall</td>\n",
       "      <td>181100</td>\n",
       "      <td>1</td>\n",
       "      <td>1983.0</td>\n",
       "      <td>0</td>\n",
       "      <td>None</td>\n",
       "      <td>2.0</td>\n",
       "      <td>63</td>\n",
       "      <td>Segunda mano/buen estado</td>\n",
       "      <td>1</td>\n",
       "      <td>0</td>\n",
       "      <td>0</td>\n",
       "      <td>0</td>\n",
       "      <td>0</td>\n",
       "      <td>0</td>\n",
       "      <td>0</td>\n",
       "    </tr>\n",
       "  </tbody>\n",
       "</table>\n",
       "<p>67 rows × 17 columns</p>\n",
       "</div>"
      ],
      "text/plain": [
       "                                               Titulo         Localización  \\\n",
       "0            Chalet pareado en venta en Josep Albages  Sant Llorenç Savall   \n",
       "1            Chalet pareado en venta en Josep Albages  Sant Llorenç Savall   \n",
       "2                Casa de pueblo en venta en calle Nou  Sant Llorenç Savall   \n",
       "3       Casa o chalet independiente en venta en Avets  Sant Llorenç Savall   \n",
       "4    Casa o chalet independiente en venta en aveni...  Sant Llorenç Savall   \n",
       "..                                                ...                  ...   \n",
       "64      Casa de pueblo en venta en calle Barcelona, 9  Sant Llorenç Savall   \n",
       "65   Finca rústica en venta en carretera de sant f...  Sant Llorenç Savall   \n",
       "66            Estudio en venta en Sant Llorenç Savall    Vallès Occidental   \n",
       "67   Casa o chalet en venta en carretera de Monistrol  Sant Llorenç Savall   \n",
       "68         Casa o chalet en venta en calle del Romani  Sant Llorenç Savall   \n",
       "\n",
       "    precio  baños     año  trastero           piso  habitaciones  \\\n",
       "0   269000      4  1995.0         1      3 plantas           5.0   \n",
       "1   269000      4  1995.0         1      3 plantas           5.0   \n",
       "2    92000      1     NaN         1      4 plantas           4.0   \n",
       "3   245000      3  1995.0         1      2 plantas           3.0   \n",
       "4   360000      5  1975.0         1       1 planta           4.0   \n",
       "..     ...    ...     ...       ...            ...           ...   \n",
       "64  260000      2     NaN         1      3 plantas           2.0   \n",
       "65  400000      3     NaN         0       1 planta           5.0   \n",
       "66   78000      1  2007.0         0  Bajo exterior           NaN   \n",
       "67  176300      2  1973.0         0           None           4.0   \n",
       "68  181100      1  1983.0         0           None           2.0   \n",
       "\n",
       "    metros reales                   condición  armarios empotrados  terraza  \\\n",
       "0             254    Segunda mano/buen estado                    1        1   \n",
       "1             254    Segunda mano/buen estado                    1        1   \n",
       "2             241  Segunda mano/para reformar                    0        1   \n",
       "3             249    Segunda mano/buen estado                    0        1   \n",
       "4             241    Segunda mano/buen estado                    1        1   \n",
       "..            ...                         ...                  ...      ...   \n",
       "64            160    Segunda mano/buen estado                    0        1   \n",
       "65            400  Segunda mano/para reformar                    0        1   \n",
       "66             48    Segunda mano/buen estado                    0        0   \n",
       "67            329    Segunda mano/buen estado                    0        0   \n",
       "68             63    Segunda mano/buen estado                    1        0   \n",
       "\n",
       "    balcón  jardín  garaje  calefacción  aire acondicionado  \n",
       "0        1       0       1            1                   0  \n",
       "1        1       0       1            1                   0  \n",
       "2        1       0       0            1                   0  \n",
       "3        0       0       0            1                   0  \n",
       "4        1       0       0            1                   0  \n",
       "..     ...     ...     ...          ...                 ...  \n",
       "64       1       0       0            1                   0  \n",
       "65       0       0       0            0                   0  \n",
       "66       0       0       0            1                   0  \n",
       "67       0       0       0            0                   0  \n",
       "68       0       0       0            0                   0  \n",
       "\n",
       "[67 rows x 17 columns]"
      ]
     },
     "execution_count": 722,
     "metadata": {},
     "output_type": "execute_result"
    }
   ],
   "source": [
    "'''Eliminar la columna orientación'''\n",
    "df_casas_1.drop(columns = [\"orientación\"])"
   ]
  },
  {
   "cell_type": "markdown",
   "metadata": {},
   "source": [
    "# Pisos"
   ]
  },
  {
   "cell_type": "code",
   "execution_count": 723,
   "metadata": {},
   "outputs": [
    {
     "data": {
      "text/plain": [
       "piso\n",
       "1 planta         24\n",
       "2 plantas        12\n",
       "3 plantas         5\n",
       "4 plantas         5\n",
       "Bajo exterior     2\n",
       "Planta 1ª         2\n",
       "Planta 3ª         1\n",
       "Name: count, dtype: int64"
      ]
     },
     "execution_count": 723,
     "metadata": {},
     "output_type": "execute_result"
    }
   ],
   "source": [
    "df_casas_1[\"piso\"].value_counts()"
   ]
  },
  {
   "cell_type": "code",
   "execution_count": 724,
   "metadata": {},
   "outputs": [
    {
     "name": "stdout",
     "output_type": "stream",
     "text": [
      "piso\n",
      "1 planta     28\n",
      "2 plantas    12\n",
      "3 plantas     6\n",
      "4 plantas     5\n",
      "Name: count, dtype: int64\n"
     ]
    },
    {
     "name": "stderr",
     "output_type": "stream",
     "text": [
      "C:\\Users\\mateo\\AppData\\Local\\Temp\\ipykernel_5544\\1060232913.py:9: SettingWithCopyWarning: \n",
      "A value is trying to be set on a copy of a slice from a DataFrame.\n",
      "Try using .loc[row_indexer,col_indexer] = value instead\n",
      "\n",
      "See the caveats in the documentation: https://pandas.pydata.org/pandas-docs/stable/user_guide/indexing.html#returning-a-view-versus-a-copy\n",
      "  df_casas_1[\"piso\"] = df_casas_1[\"piso\"].replace(mapeo)\n"
     ]
    }
   ],
   "source": [
    "mapeo = {\n",
    "    'Bajo exterior': '1 planta',\n",
    "    'Planta 1ª': '1 planta',\n",
    "    'Planta 3ª': '3 plantas',\n",
    "    # Agrega más mapeos si es necesario\n",
    "}\n",
    "\n",
    "# Aplicar el mapeo utilizando la función replace\n",
    "df_casas_1[\"piso\"] = df_casas_1[\"piso\"].replace(mapeo)\n",
    "\n",
    "# Verificar los resultados\n",
    "print(df_casas_1[\"piso\"].value_counts())"
   ]
  },
  {
   "cell_type": "code",
   "execution_count": 725,
   "metadata": {},
   "outputs": [
    {
     "data": {
      "text/html": [
       "<div>\n",
       "<style scoped>\n",
       "    .dataframe tbody tr th:only-of-type {\n",
       "        vertical-align: middle;\n",
       "    }\n",
       "\n",
       "    .dataframe tbody tr th {\n",
       "        vertical-align: top;\n",
       "    }\n",
       "\n",
       "    .dataframe thead th {\n",
       "        text-align: right;\n",
       "    }\n",
       "</style>\n",
       "<table border=\"1\" class=\"dataframe\">\n",
       "  <thead>\n",
       "    <tr style=\"text-align: right;\">\n",
       "      <th></th>\n",
       "      <th>Titulo</th>\n",
       "      <th>Localización</th>\n",
       "      <th>precio</th>\n",
       "      <th>baños</th>\n",
       "      <th>año</th>\n",
       "      <th>trastero</th>\n",
       "      <th>orientación</th>\n",
       "      <th>piso</th>\n",
       "      <th>habitaciones</th>\n",
       "      <th>metros reales</th>\n",
       "      <th>condición</th>\n",
       "      <th>armarios empotrados</th>\n",
       "      <th>terraza</th>\n",
       "      <th>balcón</th>\n",
       "      <th>jardín</th>\n",
       "      <th>garaje</th>\n",
       "      <th>calefacción</th>\n",
       "      <th>aire acondicionado</th>\n",
       "    </tr>\n",
       "  </thead>\n",
       "  <tbody>\n",
       "    <tr>\n",
       "      <th>16</th>\n",
       "      <td>Casa o chalet independiente en venta en aveni...</td>\n",
       "      <td>Sant Llorenç Savall</td>\n",
       "      <td>360000</td>\n",
       "      <td>5</td>\n",
       "      <td>1975.0</td>\n",
       "      <td>0</td>\n",
       "      <td>None</td>\n",
       "      <td>None</td>\n",
       "      <td>4.0</td>\n",
       "      <td>241</td>\n",
       "      <td>Segunda mano/buen estado</td>\n",
       "      <td>0</td>\n",
       "      <td>1</td>\n",
       "      <td>0</td>\n",
       "      <td>0</td>\n",
       "      <td>1</td>\n",
       "      <td>1</td>\n",
       "      <td>0</td>\n",
       "    </tr>\n",
       "    <tr>\n",
       "      <th>22</th>\n",
       "      <td>Casa o chalet en venta en calle de les Roses</td>\n",
       "      <td>Sant Llorenç Savall</td>\n",
       "      <td>279000</td>\n",
       "      <td>2</td>\n",
       "      <td>1999.0</td>\n",
       "      <td>0</td>\n",
       "      <td>None</td>\n",
       "      <td>None</td>\n",
       "      <td>4.0</td>\n",
       "      <td>279</td>\n",
       "      <td>Segunda mano/buen estado</td>\n",
       "      <td>0</td>\n",
       "      <td>0</td>\n",
       "      <td>0</td>\n",
       "      <td>0</td>\n",
       "      <td>0</td>\n",
       "      <td>0</td>\n",
       "      <td>0</td>\n",
       "    </tr>\n",
       "    <tr>\n",
       "      <th>27</th>\n",
       "      <td>Casa o chalet en venta en calle del Bisbe Solà</td>\n",
       "      <td>Sant Llorenç Savall</td>\n",
       "      <td>190000</td>\n",
       "      <td>2</td>\n",
       "      <td>1960.0</td>\n",
       "      <td>0</td>\n",
       "      <td>None</td>\n",
       "      <td>None</td>\n",
       "      <td>5.0</td>\n",
       "      <td>611</td>\n",
       "      <td>Segunda mano/buen estado</td>\n",
       "      <td>0</td>\n",
       "      <td>1</td>\n",
       "      <td>0</td>\n",
       "      <td>0</td>\n",
       "      <td>0</td>\n",
       "      <td>1</td>\n",
       "      <td>0</td>\n",
       "    </tr>\n",
       "    <tr>\n",
       "      <th>31</th>\n",
       "      <td>Casa o chalet en venta en Sant Llorenç Savall</td>\n",
       "      <td>Vallès Occidental</td>\n",
       "      <td>360000</td>\n",
       "      <td>4</td>\n",
       "      <td>1975.0</td>\n",
       "      <td>1</td>\n",
       "      <td>None</td>\n",
       "      <td>None</td>\n",
       "      <td>4.0</td>\n",
       "      <td>241</td>\n",
       "      <td>Segunda mano/buen estado</td>\n",
       "      <td>0</td>\n",
       "      <td>0</td>\n",
       "      <td>0</td>\n",
       "      <td>0</td>\n",
       "      <td>1</td>\n",
       "      <td>0</td>\n",
       "      <td>0</td>\n",
       "    </tr>\n",
       "    <tr>\n",
       "      <th>40</th>\n",
       "      <td>Piso en venta en calle de Josep Albagés s/n</td>\n",
       "      <td>Sant Llorenç Savall</td>\n",
       "      <td>135000</td>\n",
       "      <td>2</td>\n",
       "      <td>NaN</td>\n",
       "      <td>0</td>\n",
       "      <td>None</td>\n",
       "      <td>None</td>\n",
       "      <td>3.0</td>\n",
       "      <td>127</td>\n",
       "      <td>Segunda mano/buen estado</td>\n",
       "      <td>0</td>\n",
       "      <td>0</td>\n",
       "      <td>0</td>\n",
       "      <td>0</td>\n",
       "      <td>0</td>\n",
       "      <td>0</td>\n",
       "      <td>0</td>\n",
       "    </tr>\n",
       "    <tr>\n",
       "      <th>44</th>\n",
       "      <td>Casa o chalet en venta en Sant Llorenç Savall</td>\n",
       "      <td>Vallès Occidental</td>\n",
       "      <td>248000</td>\n",
       "      <td>4</td>\n",
       "      <td>NaN</td>\n",
       "      <td>1</td>\n",
       "      <td>None</td>\n",
       "      <td>None</td>\n",
       "      <td>3.0</td>\n",
       "      <td>220</td>\n",
       "      <td>Segunda mano/buen estado</td>\n",
       "      <td>0</td>\n",
       "      <td>0</td>\n",
       "      <td>0</td>\n",
       "      <td>0</td>\n",
       "      <td>1</td>\n",
       "      <td>0</td>\n",
       "      <td>0</td>\n",
       "    </tr>\n",
       "    <tr>\n",
       "      <th>46</th>\n",
       "      <td>Casa o chalet independiente en venta en calle...</td>\n",
       "      <td>Sant Llorenç Savall</td>\n",
       "      <td>147000</td>\n",
       "      <td>1</td>\n",
       "      <td>NaN</td>\n",
       "      <td>0</td>\n",
       "      <td>None</td>\n",
       "      <td>None</td>\n",
       "      <td>4.0</td>\n",
       "      <td>288</td>\n",
       "      <td>Segunda mano/para reformar</td>\n",
       "      <td>0</td>\n",
       "      <td>0</td>\n",
       "      <td>0</td>\n",
       "      <td>0</td>\n",
       "      <td>0</td>\n",
       "      <td>0</td>\n",
       "      <td>0</td>\n",
       "    </tr>\n",
       "    <tr>\n",
       "      <th>55</th>\n",
       "      <td>Casa o chalet en venta en calle dels Lliris</td>\n",
       "      <td>Sant Llorenç Savall</td>\n",
       "      <td>187900</td>\n",
       "      <td>1</td>\n",
       "      <td>1994.0</td>\n",
       "      <td>0</td>\n",
       "      <td>None</td>\n",
       "      <td>None</td>\n",
       "      <td>4.0</td>\n",
       "      <td>197</td>\n",
       "      <td>Segunda mano/buen estado</td>\n",
       "      <td>0</td>\n",
       "      <td>0</td>\n",
       "      <td>0</td>\n",
       "      <td>0</td>\n",
       "      <td>0</td>\n",
       "      <td>0</td>\n",
       "      <td>0</td>\n",
       "    </tr>\n",
       "    <tr>\n",
       "      <th>57</th>\n",
       "      <td>Casa o chalet independiente en venta en calle...</td>\n",
       "      <td>Sant Llorenç Savall</td>\n",
       "      <td>301200</td>\n",
       "      <td>2</td>\n",
       "      <td>NaN</td>\n",
       "      <td>0</td>\n",
       "      <td>None</td>\n",
       "      <td>None</td>\n",
       "      <td>4.0</td>\n",
       "      <td>280</td>\n",
       "      <td>Segunda mano/buen estado</td>\n",
       "      <td>0</td>\n",
       "      <td>0</td>\n",
       "      <td>0</td>\n",
       "      <td>0</td>\n",
       "      <td>0</td>\n",
       "      <td>0</td>\n",
       "      <td>0</td>\n",
       "    </tr>\n",
       "    <tr>\n",
       "      <th>58</th>\n",
       "      <td>Casa o chalet independiente en venta en calle...</td>\n",
       "      <td>Sant Llorenç Savall</td>\n",
       "      <td>198600</td>\n",
       "      <td>2</td>\n",
       "      <td>NaN</td>\n",
       "      <td>0</td>\n",
       "      <td>None</td>\n",
       "      <td>None</td>\n",
       "      <td>5.0</td>\n",
       "      <td>280</td>\n",
       "      <td>Segunda mano/buen estado</td>\n",
       "      <td>0</td>\n",
       "      <td>0</td>\n",
       "      <td>0</td>\n",
       "      <td>0</td>\n",
       "      <td>0</td>\n",
       "      <td>0</td>\n",
       "      <td>0</td>\n",
       "    </tr>\n",
       "    <tr>\n",
       "      <th>59</th>\n",
       "      <td>Casa o chalet en venta en calle del Romani</td>\n",
       "      <td>Sant Llorenç Savall</td>\n",
       "      <td>198600</td>\n",
       "      <td>2</td>\n",
       "      <td>2009.0</td>\n",
       "      <td>0</td>\n",
       "      <td>None</td>\n",
       "      <td>None</td>\n",
       "      <td>5.0</td>\n",
       "      <td>286</td>\n",
       "      <td>Segunda mano/buen estado</td>\n",
       "      <td>0</td>\n",
       "      <td>0</td>\n",
       "      <td>0</td>\n",
       "      <td>0</td>\n",
       "      <td>0</td>\n",
       "      <td>0</td>\n",
       "      <td>0</td>\n",
       "    </tr>\n",
       "    <tr>\n",
       "      <th>61</th>\n",
       "      <td>Casa o chalet en venta en Sant Llorenç Savall</td>\n",
       "      <td>Vallès Occidental</td>\n",
       "      <td>135000</td>\n",
       "      <td>1</td>\n",
       "      <td>1995.0</td>\n",
       "      <td>0</td>\n",
       "      <td>None</td>\n",
       "      <td>None</td>\n",
       "      <td>3.0</td>\n",
       "      <td>127</td>\n",
       "      <td>Segunda mano/para reformar</td>\n",
       "      <td>0</td>\n",
       "      <td>0</td>\n",
       "      <td>0</td>\n",
       "      <td>0</td>\n",
       "      <td>1</td>\n",
       "      <td>1</td>\n",
       "      <td>0</td>\n",
       "    </tr>\n",
       "    <tr>\n",
       "      <th>62</th>\n",
       "      <td>Casa o chalet en venta en Urb. C/ Baixada de ...</td>\n",
       "      <td>Vallès Occidental</td>\n",
       "      <td>183800</td>\n",
       "      <td>1</td>\n",
       "      <td>NaN</td>\n",
       "      <td>0</td>\n",
       "      <td>None</td>\n",
       "      <td>None</td>\n",
       "      <td>NaN</td>\n",
       "      <td>252</td>\n",
       "      <td>Segunda mano/buen estado</td>\n",
       "      <td>0</td>\n",
       "      <td>0</td>\n",
       "      <td>0</td>\n",
       "      <td>0</td>\n",
       "      <td>0</td>\n",
       "      <td>0</td>\n",
       "      <td>0</td>\n",
       "    </tr>\n",
       "    <tr>\n",
       "      <th>63</th>\n",
       "      <td>Casa o chalet independiente en venta en Sant ...</td>\n",
       "      <td>Vallès Occidental</td>\n",
       "      <td>279000</td>\n",
       "      <td>1</td>\n",
       "      <td>NaN</td>\n",
       "      <td>0</td>\n",
       "      <td>None</td>\n",
       "      <td>None</td>\n",
       "      <td>3.0</td>\n",
       "      <td>150</td>\n",
       "      <td>Segunda mano/buen estado</td>\n",
       "      <td>0</td>\n",
       "      <td>0</td>\n",
       "      <td>0</td>\n",
       "      <td>0</td>\n",
       "      <td>0</td>\n",
       "      <td>0</td>\n",
       "      <td>0</td>\n",
       "    </tr>\n",
       "    <tr>\n",
       "      <th>67</th>\n",
       "      <td>Casa o chalet en venta en carretera de Monistrol</td>\n",
       "      <td>Sant Llorenç Savall</td>\n",
       "      <td>176300</td>\n",
       "      <td>2</td>\n",
       "      <td>1973.0</td>\n",
       "      <td>0</td>\n",
       "      <td>None</td>\n",
       "      <td>None</td>\n",
       "      <td>4.0</td>\n",
       "      <td>329</td>\n",
       "      <td>Segunda mano/buen estado</td>\n",
       "      <td>0</td>\n",
       "      <td>0</td>\n",
       "      <td>0</td>\n",
       "      <td>0</td>\n",
       "      <td>0</td>\n",
       "      <td>0</td>\n",
       "      <td>0</td>\n",
       "    </tr>\n",
       "    <tr>\n",
       "      <th>68</th>\n",
       "      <td>Casa o chalet en venta en calle del Romani</td>\n",
       "      <td>Sant Llorenç Savall</td>\n",
       "      <td>181100</td>\n",
       "      <td>1</td>\n",
       "      <td>1983.0</td>\n",
       "      <td>0</td>\n",
       "      <td>None</td>\n",
       "      <td>None</td>\n",
       "      <td>2.0</td>\n",
       "      <td>63</td>\n",
       "      <td>Segunda mano/buen estado</td>\n",
       "      <td>1</td>\n",
       "      <td>0</td>\n",
       "      <td>0</td>\n",
       "      <td>0</td>\n",
       "      <td>0</td>\n",
       "      <td>0</td>\n",
       "      <td>0</td>\n",
       "    </tr>\n",
       "  </tbody>\n",
       "</table>\n",
       "</div>"
      ],
      "text/plain": [
       "                                               Titulo         Localización  \\\n",
       "16   Casa o chalet independiente en venta en aveni...  Sant Llorenç Savall   \n",
       "22       Casa o chalet en venta en calle de les Roses  Sant Llorenç Savall   \n",
       "27     Casa o chalet en venta en calle del Bisbe Solà  Sant Llorenç Savall   \n",
       "31      Casa o chalet en venta en Sant Llorenç Savall    Vallès Occidental   \n",
       "40        Piso en venta en calle de Josep Albagés s/n  Sant Llorenç Savall   \n",
       "44      Casa o chalet en venta en Sant Llorenç Savall    Vallès Occidental   \n",
       "46   Casa o chalet independiente en venta en calle...  Sant Llorenç Savall   \n",
       "55        Casa o chalet en venta en calle dels Lliris  Sant Llorenç Savall   \n",
       "57   Casa o chalet independiente en venta en calle...  Sant Llorenç Savall   \n",
       "58   Casa o chalet independiente en venta en calle...  Sant Llorenç Savall   \n",
       "59         Casa o chalet en venta en calle del Romani  Sant Llorenç Savall   \n",
       "61      Casa o chalet en venta en Sant Llorenç Savall    Vallès Occidental   \n",
       "62   Casa o chalet en venta en Urb. C/ Baixada de ...    Vallès Occidental   \n",
       "63   Casa o chalet independiente en venta en Sant ...    Vallès Occidental   \n",
       "67   Casa o chalet en venta en carretera de Monistrol  Sant Llorenç Savall   \n",
       "68         Casa o chalet en venta en calle del Romani  Sant Llorenç Savall   \n",
       "\n",
       "    precio  baños     año  trastero orientación  piso  habitaciones  \\\n",
       "16  360000      5  1975.0         0        None  None           4.0   \n",
       "22  279000      2  1999.0         0        None  None           4.0   \n",
       "27  190000      2  1960.0         0        None  None           5.0   \n",
       "31  360000      4  1975.0         1        None  None           4.0   \n",
       "40  135000      2     NaN         0        None  None           3.0   \n",
       "44  248000      4     NaN         1        None  None           3.0   \n",
       "46  147000      1     NaN         0        None  None           4.0   \n",
       "55  187900      1  1994.0         0        None  None           4.0   \n",
       "57  301200      2     NaN         0        None  None           4.0   \n",
       "58  198600      2     NaN         0        None  None           5.0   \n",
       "59  198600      2  2009.0         0        None  None           5.0   \n",
       "61  135000      1  1995.0         0        None  None           3.0   \n",
       "62  183800      1     NaN         0        None  None           NaN   \n",
       "63  279000      1     NaN         0        None  None           3.0   \n",
       "67  176300      2  1973.0         0        None  None           4.0   \n",
       "68  181100      1  1983.0         0        None  None           2.0   \n",
       "\n",
       "    metros reales                   condición  armarios empotrados  terraza  \\\n",
       "16            241    Segunda mano/buen estado                    0        1   \n",
       "22            279    Segunda mano/buen estado                    0        0   \n",
       "27            611    Segunda mano/buen estado                    0        1   \n",
       "31            241    Segunda mano/buen estado                    0        0   \n",
       "40            127    Segunda mano/buen estado                    0        0   \n",
       "44            220    Segunda mano/buen estado                    0        0   \n",
       "46            288  Segunda mano/para reformar                    0        0   \n",
       "55            197    Segunda mano/buen estado                    0        0   \n",
       "57            280    Segunda mano/buen estado                    0        0   \n",
       "58            280    Segunda mano/buen estado                    0        0   \n",
       "59            286    Segunda mano/buen estado                    0        0   \n",
       "61            127  Segunda mano/para reformar                    0        0   \n",
       "62            252    Segunda mano/buen estado                    0        0   \n",
       "63            150    Segunda mano/buen estado                    0        0   \n",
       "67            329    Segunda mano/buen estado                    0        0   \n",
       "68             63    Segunda mano/buen estado                    1        0   \n",
       "\n",
       "    balcón  jardín  garaje  calefacción  aire acondicionado  \n",
       "16       0       0       1            1                   0  \n",
       "22       0       0       0            0                   0  \n",
       "27       0       0       0            1                   0  \n",
       "31       0       0       1            0                   0  \n",
       "40       0       0       0            0                   0  \n",
       "44       0       0       1            0                   0  \n",
       "46       0       0       0            0                   0  \n",
       "55       0       0       0            0                   0  \n",
       "57       0       0       0            0                   0  \n",
       "58       0       0       0            0                   0  \n",
       "59       0       0       0            0                   0  \n",
       "61       0       0       1            1                   0  \n",
       "62       0       0       0            0                   0  \n",
       "63       0       0       0            0                   0  \n",
       "67       0       0       0            0                   0  \n",
       "68       0       0       0            0                   0  "
      ]
     },
     "execution_count": 725,
     "metadata": {},
     "output_type": "execute_result"
    }
   ],
   "source": [
    "df_casas_1[df_casas_1[\"piso\"].isna()]"
   ]
  },
  {
   "cell_type": "code",
   "execution_count": 726,
   "metadata": {},
   "outputs": [],
   "source": [
    "'''Busco en la pagina de idealista para corregir la información que falta (no la tenían en la pagina y el script no la cogió)'''\n",
    "\n",
    "df_casas_1.loc[16, \"piso\"] = \"1 planta\"\n",
    "df_casas_1.loc[22, \"piso\"] = \"2 plantas\"\n",
    "df_casas_1.loc[27, \"piso\"] = \"4 plantas\"\n",
    "df_casas_1.loc[31, \"piso\"] = \"1 planta\"\n",
    "#df_casas_1.loc[38, \"piso\"] = \"3 plantas\"\n",
    "df_casas_1.loc[40, \"piso\"] = \"2 plantas\"\n",
    "df_casas_1.loc[44, \"piso\"] = \"1 planta\"\n",
    "df_casas_1.loc[55, \"piso\"] = \"1 planta\"\n",
    "df_casas_1.loc[57, \"piso\"] = \"2 plantas\"\n",
    "df_casas_1.loc[58, \"piso\"] = \"1 planta\"\n",
    "df_casas_1.loc[59, \"piso\"] = \"1 planta\"\n",
    "df_casas_1.loc[61, \"piso\"] = \"1 planta\"\n",
    "df_casas_1.loc[62, \"piso\"] = \"1 planta\"\n",
    "df_casas_1.loc[63, \"piso\"] = \"2 plantas\"\n",
    "df_casas_1.loc[67, \"piso\"] = \"1 planta\"\n",
    "df_casas_1.loc[68, \"piso\"] = \"1 planta\""
   ]
  },
  {
   "cell_type": "code",
   "execution_count": 727,
   "metadata": {},
   "outputs": [
    {
     "name": "stderr",
     "output_type": "stream",
     "text": [
      "c:\\Users\\mateo\\anaconda3\\Lib\\site-packages\\seaborn\\axisgrid.py:118: UserWarning: The figure layout has changed to tight\n",
      "  self._figure.tight_layout(*args, **kwargs)\n"
     ]
    },
    {
     "data": {
      "text/plain": [
       "<seaborn.axisgrid.FacetGrid at 0x16da26dd210>"
      ]
     },
     "execution_count": 727,
     "metadata": {},
     "output_type": "execute_result"
    },
    {
     "data": {
      "image/png": "[encoded data removed]",
      "text/plain": [
       "<Figure size 500x500 with 1 Axes>"
      ]
     },
     "metadata": {},
     "output_type": "display_data"
    }
   ],
   "source": [
    "'''Exploración visual'''\n",
    "sns.catplot(x=\"piso\",y=\"precio\",data=df_casas_1)"
   ]
  },
  {
   "cell_type": "markdown",
   "metadata": {},
   "source": [
    "# Habitaciones"
   ]
  },
  {
   "cell_type": "code",
   "execution_count": 728,
   "metadata": {},
   "outputs": [
    {
     "data": {
      "text/plain": [
       "habitaciones\n",
       "3.0    22\n",
       "4.0    21\n",
       "5.0    11\n",
       "2.0     6\n",
       "7.0     3\n",
       "9.0     2\n",
       "Name: count, dtype: int64"
      ]
     },
     "execution_count": 728,
     "metadata": {},
     "output_type": "execute_result"
    }
   ],
   "source": [
    "'''Exploración de datos de habitaciones'''\n",
    "df_casas_1[\"habitaciones\"].value_counts()"
   ]
  },
  {
   "cell_type": "code",
   "execution_count": 729,
   "metadata": {},
   "outputs": [
    {
     "name": "stderr",
     "output_type": "stream",
     "text": [
      "c:\\Users\\mateo\\anaconda3\\Lib\\site-packages\\seaborn\\axisgrid.py:118: UserWarning: The figure layout has changed to tight\n",
      "  self._figure.tight_layout(*args, **kwargs)\n"
     ]
    },
    {
     "data": {
      "text/plain": [
       "<seaborn.axisgrid.FacetGrid at 0x16d9c272650>"
      ]
     },
     "execution_count": 729,
     "metadata": {},
     "output_type": "execute_result"
    },
    {
     "data": {
      "image/png": "[encoded data removed]",
      "text/plain": [
       "<Figure size 500x500 with 1 Axes>"
      ]
     },
     "metadata": {},
     "output_type": "display_data"
    }
   ],
   "source": [
    "'''Exploración visual'''\n",
    "sns.catplot(x=\"habitaciones\",y=\"precio\",data=df_casas_1)"
   ]
  },
  {
   "cell_type": "code",
   "execution_count": 730,
   "metadata": {},
   "outputs": [
    {
     "data": {
      "text/html": [
       "<div>\n",
       "<style scoped>\n",
       "    .dataframe tbody tr th:only-of-type {\n",
       "        vertical-align: middle;\n",
       "    }\n",
       "\n",
       "    .dataframe tbody tr th {\n",
       "        vertical-align: top;\n",
       "    }\n",
       "\n",
       "    .dataframe thead th {\n",
       "        text-align: right;\n",
       "    }\n",
       "</style>\n",
       "<table border=\"1\" class=\"dataframe\">\n",
       "  <thead>\n",
       "    <tr style=\"text-align: right;\">\n",
       "      <th></th>\n",
       "      <th>Titulo</th>\n",
       "      <th>Localización</th>\n",
       "      <th>precio</th>\n",
       "      <th>baños</th>\n",
       "      <th>año</th>\n",
       "      <th>trastero</th>\n",
       "      <th>orientación</th>\n",
       "      <th>piso</th>\n",
       "      <th>habitaciones</th>\n",
       "      <th>metros reales</th>\n",
       "      <th>condición</th>\n",
       "      <th>armarios empotrados</th>\n",
       "      <th>terraza</th>\n",
       "      <th>balcón</th>\n",
       "      <th>jardín</th>\n",
       "      <th>garaje</th>\n",
       "      <th>calefacción</th>\n",
       "      <th>aire acondicionado</th>\n",
       "    </tr>\n",
       "  </thead>\n",
       "  <tbody>\n",
       "    <tr>\n",
       "      <th>62</th>\n",
       "      <td>Casa o chalet en venta en Urb. C/ Baixada de ...</td>\n",
       "      <td>Vallès Occidental</td>\n",
       "      <td>183800</td>\n",
       "      <td>1</td>\n",
       "      <td>NaN</td>\n",
       "      <td>0</td>\n",
       "      <td>None</td>\n",
       "      <td>1 planta</td>\n",
       "      <td>NaN</td>\n",
       "      <td>252</td>\n",
       "      <td>Segunda mano/buen estado</td>\n",
       "      <td>0</td>\n",
       "      <td>0</td>\n",
       "      <td>0</td>\n",
       "      <td>0</td>\n",
       "      <td>0</td>\n",
       "      <td>0</td>\n",
       "      <td>0</td>\n",
       "    </tr>\n",
       "    <tr>\n",
       "      <th>66</th>\n",
       "      <td>Estudio en venta en Sant Llorenç Savall</td>\n",
       "      <td>Vallès Occidental</td>\n",
       "      <td>78000</td>\n",
       "      <td>1</td>\n",
       "      <td>2007.0</td>\n",
       "      <td>0</td>\n",
       "      <td>None</td>\n",
       "      <td>1 planta</td>\n",
       "      <td>NaN</td>\n",
       "      <td>48</td>\n",
       "      <td>Segunda mano/buen estado</td>\n",
       "      <td>0</td>\n",
       "      <td>0</td>\n",
       "      <td>0</td>\n",
       "      <td>0</td>\n",
       "      <td>0</td>\n",
       "      <td>1</td>\n",
       "      <td>0</td>\n",
       "    </tr>\n",
       "  </tbody>\n",
       "</table>\n",
       "</div>"
      ],
      "text/plain": [
       "                                               Titulo       Localización  \\\n",
       "62   Casa o chalet en venta en Urb. C/ Baixada de ...  Vallès Occidental   \n",
       "66            Estudio en venta en Sant Llorenç Savall  Vallès Occidental   \n",
       "\n",
       "    precio  baños     año  trastero orientación      piso  habitaciones  \\\n",
       "62  183800      1     NaN         0        None  1 planta           NaN   \n",
       "66   78000      1  2007.0         0        None  1 planta           NaN   \n",
       "\n",
       "    metros reales                 condición  armarios empotrados  terraza  \\\n",
       "62            252  Segunda mano/buen estado                    0        0   \n",
       "66             48  Segunda mano/buen estado                    0        0   \n",
       "\n",
       "    balcón  jardín  garaje  calefacción  aire acondicionado  \n",
       "62       0       0       0            0                   0  \n",
       "66       0       0       0            1                   0  "
      ]
     },
     "execution_count": 730,
     "metadata": {},
     "output_type": "execute_result"
    }
   ],
   "source": [
    "df_casas_1[df_casas_1[\"habitaciones\"].isna()]"
   ]
  },
  {
   "cell_type": "code",
   "execution_count": 731,
   "metadata": {},
   "outputs": [],
   "source": [
    "'''Busco en la pagina idealista y corrijo los Nann'''\n",
    "df_casas_1.loc[62, \"habitaciones\"] = int(1)\n",
    "df_casas_1.loc[66, \"habitaciones\"] = int(1)"
   ]
  },
  {
   "cell_type": "markdown",
   "metadata": {},
   "source": [
    "# Metros reales"
   ]
  },
  {
   "cell_type": "code",
   "execution_count": 732,
   "metadata": {},
   "outputs": [
    {
     "data": {
      "text/plain": [
       "count     67.000000\n",
       "mean     234.119403\n",
       "std      115.819677\n",
       "min       48.000000\n",
       "25%      147.000000\n",
       "50%      241.000000\n",
       "75%      272.000000\n",
       "max      611.000000\n",
       "Name: metros reales, dtype: float64"
      ]
     },
     "execution_count": 732,
     "metadata": {},
     "output_type": "execute_result"
    }
   ],
   "source": [
    "'''Exploración de datos de metros reales'''\n",
    "df_casas_1[\"metros reales\"].describe()"
   ]
  },
  {
   "cell_type": "code",
   "execution_count": 733,
   "metadata": {},
   "outputs": [
    {
     "data": {
      "text/html": [
       "<div>\n",
       "<style scoped>\n",
       "    .dataframe tbody tr th:only-of-type {\n",
       "        vertical-align: middle;\n",
       "    }\n",
       "\n",
       "    .dataframe tbody tr th {\n",
       "        vertical-align: top;\n",
       "    }\n",
       "\n",
       "    .dataframe thead th {\n",
       "        text-align: right;\n",
       "    }\n",
       "</style>\n",
       "<table border=\"1\" class=\"dataframe\">\n",
       "  <thead>\n",
       "    <tr style=\"text-align: right;\">\n",
       "      <th></th>\n",
       "      <th>Titulo</th>\n",
       "      <th>Localización</th>\n",
       "      <th>precio</th>\n",
       "      <th>baños</th>\n",
       "      <th>año</th>\n",
       "      <th>trastero</th>\n",
       "      <th>orientación</th>\n",
       "      <th>piso</th>\n",
       "      <th>habitaciones</th>\n",
       "      <th>metros reales</th>\n",
       "      <th>condición</th>\n",
       "      <th>armarios empotrados</th>\n",
       "      <th>terraza</th>\n",
       "      <th>balcón</th>\n",
       "      <th>jardín</th>\n",
       "      <th>garaje</th>\n",
       "      <th>calefacción</th>\n",
       "      <th>aire acondicionado</th>\n",
       "    </tr>\n",
       "  </thead>\n",
       "  <tbody>\n",
       "  </tbody>\n",
       "</table>\n",
       "</div>"
      ],
      "text/plain": [
       "Empty DataFrame\n",
       "Columns: [Titulo, Localización, precio, baños, año, trastero, orientación, piso, habitaciones, metros reales, condición, armarios empotrados, terraza, balcón, jardín, garaje, calefacción, aire acondicionado]\n",
       "Index: []"
      ]
     },
     "execution_count": 733,
     "metadata": {},
     "output_type": "execute_result"
    }
   ],
   "source": [
    "df_casas_1[df_casas_1[\"metros reales\"].isna()]"
   ]
  },
  {
   "cell_type": "code",
   "execution_count": 734,
   "metadata": {},
   "outputs": [
    {
     "name": "stderr",
     "output_type": "stream",
     "text": [
      "c:\\Users\\mateo\\anaconda3\\Lib\\site-packages\\seaborn\\axisgrid.py:118: UserWarning: The figure layout has changed to tight\n",
      "  self._figure.tight_layout(*args, **kwargs)\n"
     ]
    },
    {
     "data": {
      "text/plain": [
       "<seaborn.axisgrid.PairGrid at 0x16da31fc510>"
      ]
     },
     "execution_count": 734,
     "metadata": {},
     "output_type": "execute_result"
    },
    {
     "data": {
      "image/png": "[encoded data removed]",
      "text/plain": [
       "<Figure size 500x500 with 6 Axes>"
      ]
     },
     "metadata": {},
     "output_type": "display_data"
    }
   ],
   "source": [
    "'''Exploración visual:\n",
    "a más metros, mayor el precio'''\n",
    "sns.pairplot(df_casas_1[[\"metros reales\", \"precio\"]])"
   ]
  },
  {
   "cell_type": "markdown",
   "metadata": {},
   "source": [
    "# Condición"
   ]
  },
  {
   "cell_type": "code",
   "execution_count": 735,
   "metadata": {},
   "outputs": [
    {
     "data": {
      "text/plain": [
       "condición\n",
       "Segunda mano/buen estado      53\n",
       "Segunda mano/para reformar    14\n",
       "Name: count, dtype: int64"
      ]
     },
     "execution_count": 735,
     "metadata": {},
     "output_type": "execute_result"
    }
   ],
   "source": [
    "'''Exploración de datos de condición'''\n",
    "df_casas_1[\"condición\"].value_counts()"
   ]
  },
  {
   "cell_type": "markdown",
   "metadata": {},
   "source": [
    "# Armarios empotrados"
   ]
  },
  {
   "cell_type": "code",
   "execution_count": 736,
   "metadata": {},
   "outputs": [
    {
     "data": {
      "text/plain": [
       "armarios empotrados\n",
       "0    46\n",
       "1    21\n",
       "Name: count, dtype: int64"
      ]
     },
     "execution_count": 736,
     "metadata": {},
     "output_type": "execute_result"
    }
   ],
   "source": [
    "'''Exploración de datos de armarios empotrados'''\n",
    "df_casas_1[\"armarios empotrados\"].value_counts()"
   ]
  },
  {
   "cell_type": "markdown",
   "metadata": {},
   "source": [
    "# Terraza"
   ]
  },
  {
   "cell_type": "code",
   "execution_count": 737,
   "metadata": {},
   "outputs": [
    {
     "data": {
      "text/plain": [
       "terraza\n",
       "1    35\n",
       "0    32\n",
       "Name: count, dtype: int64"
      ]
     },
     "execution_count": 737,
     "metadata": {},
     "output_type": "execute_result"
    }
   ],
   "source": [
    "'''Exploración de datos de terraza'''\n",
    "df_casas_1[\"terraza\"].value_counts()"
   ]
  },
  {
   "cell_type": "markdown",
   "metadata": {},
   "source": [
    "# Balcón"
   ]
  },
  {
   "cell_type": "code",
   "execution_count": 738,
   "metadata": {},
   "outputs": [
    {
     "data": {
      "text/plain": [
       "balcón\n",
       "0    50\n",
       "1    17\n",
       "Name: count, dtype: int64"
      ]
     },
     "execution_count": 738,
     "metadata": {},
     "output_type": "execute_result"
    }
   ],
   "source": [
    "'''Exploración de datos de balcón'''\n",
    "df_casas_1[\"balcón\"].value_counts()"
   ]
  },
  {
   "cell_type": "markdown",
   "metadata": {},
   "source": [
    "# Jardín"
   ]
  },
  {
   "cell_type": "code",
   "execution_count": 739,
   "metadata": {},
   "outputs": [
    {
     "data": {
      "text/plain": [
       "jardín\n",
       "0    67\n",
       "Name: count, dtype: int64"
      ]
     },
     "execution_count": 739,
     "metadata": {},
     "output_type": "execute_result"
    }
   ],
   "source": [
    "'''Exploración de datos de jardín'''\n",
    "df_casas_1[\"jardín\"].value_counts()"
   ]
  },
  {
   "cell_type": "markdown",
   "metadata": {},
   "source": [
    "# Garaje"
   ]
  },
  {
   "cell_type": "code",
   "execution_count": 740,
   "metadata": {},
   "outputs": [
    {
     "data": {
      "text/plain": [
       "garaje\n",
       "0    45\n",
       "1    22\n",
       "Name: count, dtype: int64"
      ]
     },
     "execution_count": 740,
     "metadata": {},
     "output_type": "execute_result"
    }
   ],
   "source": [
    "'''Exploración de datos de garaje'''\n",
    "df_casas_1[\"garaje\"].value_counts()"
   ]
  },
  {
   "cell_type": "markdown",
   "metadata": {},
   "source": [
    "# Calefacción"
   ]
  },
  {
   "cell_type": "code",
   "execution_count": 741,
   "metadata": {},
   "outputs": [
    {
     "data": {
      "text/plain": [
       "calefacción\n",
       "1    48\n",
       "0    19\n",
       "Name: count, dtype: int64"
      ]
     },
     "execution_count": 741,
     "metadata": {},
     "output_type": "execute_result"
    }
   ],
   "source": [
    "'''Exploración de datos de calefacción'''\n",
    "df_casas_1[\"calefacción\"].value_counts()"
   ]
  },
  {
   "cell_type": "markdown",
   "metadata": {},
   "source": [
    "# Aire acondicionado"
   ]
  },
  {
   "cell_type": "code",
   "execution_count": 742,
   "metadata": {},
   "outputs": [
    {
     "data": {
      "text/plain": [
       "aire acondicionado\n",
       "0    65\n",
       "1     2\n",
       "Name: count, dtype: int64"
      ]
     },
     "execution_count": 742,
     "metadata": {},
     "output_type": "execute_result"
    }
   ],
   "source": [
    "'''Exploración de datos de aire acondicionado'''\n",
    "df_casas_1[\"aire acondicionado\"].value_counts()"
   ]
  },
  {
   "cell_type": "markdown",
   "metadata": {},
   "source": [
    "# Guardar DataFrame"
   ]
  },
  {
   "cell_type": "code",
   "execution_count": 743,
   "metadata": {},
   "outputs": [],
   "source": [
    "df_casas_1.to_csv(\"03_casas_idealista_filtrado.csv\", index = False, sep = \";\", encoding = \"utf-16\")"
   ]
  }
 ],
 "metadata": {
  "kernelspec": {
   "display_name": "base",
   "language": "python",
   "name": "python3"
  },
  "language_info": {
   "codemirror_mode": {
    "name": "ipython",
    "version": 3
   },
   "file_extension": ".py",
   "mimetype": "text/x-python",
   "name": "python",
   "nbconvert_exporter": "python",
   "pygments_lexer": "ipython3",
   "version": "3.11.5"
  }
 },
 "nbformat": 4,
 "nbformat_minor": 2
}

{
 "cells": [
  {
   "cell_type": "markdown",
   "metadata": {},
   "source": [
    "# Librerías"
   ]
  },
  {
   "cell_type": "code",
   "execution_count": 1,
   "metadata": {},
   "outputs": [],
   "source": [
    "import pandas as pd\n",
    "import numpy as np\n",
    "from ast import literal_eval  # Para convertir str a una lista organizada\n",
    "import re"
   ]
  },
  {
   "cell_type": "markdown",
   "metadata": {},
   "source": [
    "# Lectura de base de datos"
   ]
  },
  {
   "cell_type": "code",
   "execution_count": 2,
   "metadata": {},
   "outputs": [
    {
     "data": {
      "text/html": [
       "<div>\n",
       "<style scoped>\n",
       "    .dataframe tbody tr th:only-of-type {\n",
       "        vertical-align: middle;\n",
       "    }\n",
       "\n",
       "    .dataframe tbody tr th {\n",
       "        vertical-align: top;\n",
       "    }\n",
       "\n",
       "    .dataframe thead th {\n",
       "        text-align: right;\n",
       "    }\n",
       "</style>\n",
       "<table border=\"1\" class=\"dataframe\">\n",
       "  <thead>\n",
       "    <tr style=\"text-align: right;\">\n",
       "      <th></th>\n",
       "      <th>Titulo</th>\n",
       "      <th>Localización</th>\n",
       "      <th>precio</th>\n",
       "      <th>caracteristicas básicas</th>\n",
       "      <th>Equipamento</th>\n",
       "    </tr>\n",
       "  </thead>\n",
       "  <tbody>\n",
       "    <tr>\n",
       "      <th>0</th>\n",
       "      <td>Chalet pareado en venta en Josep Albages</td>\n",
       "      <td>Sant Llorenç Savall</td>\n",
       "      <td>269000</td>\n",
       "      <td>['Chalet pareado', '3 plantas', '254 m² constr...</td>\n",
       "      <td>['Jardín', 'Consumo: \\n174 kWh/m² año', 'Emisi...</td>\n",
       "    </tr>\n",
       "    <tr>\n",
       "      <th>1</th>\n",
       "      <td>Chalet pareado en venta en Josep Albages</td>\n",
       "      <td>Sant Llorenç Savall</td>\n",
       "      <td>269000</td>\n",
       "      <td>['Chalet pareado', '3 plantas', '254 m² constr...</td>\n",
       "      <td>['Jardín', 'Consumo: \\n174 kWh/m² año', 'Emisi...</td>\n",
       "    </tr>\n",
       "    <tr>\n",
       "      <th>2</th>\n",
       "      <td>Casa de pueblo en venta en calle Nou</td>\n",
       "      <td>Sant Llorenç Savall</td>\n",
       "      <td>92000</td>\n",
       "      <td>['Casa de pueblo', '4 plantas', '241 m² constr...</td>\n",
       "      <td>['Consumo: \\n208 kWh/m² año', 'Emisiones: \\n43...</td>\n",
       "    </tr>\n",
       "    <tr>\n",
       "      <th>3</th>\n",
       "      <td>Casa o chalet independiente en venta en Avets</td>\n",
       "      <td>Sant Llorenç Savall</td>\n",
       "      <td>245000</td>\n",
       "      <td>['Casa o chalet independiente', '2 plantas', '...</td>\n",
       "      <td>['Piscina', 'Jardín', 'Consumo: \\n174 kWh/m² a...</td>\n",
       "    </tr>\n",
       "    <tr>\n",
       "      <th>4</th>\n",
       "      <td>Casa o chalet independiente en venta en aveni...</td>\n",
       "      <td>Sant Llorenç Savall</td>\n",
       "      <td>360000</td>\n",
       "      <td>['Casa o chalet independiente', '1 planta', '2...</td>\n",
       "      <td>['Piscina', 'Jardín', 'Consumo: \\n99 kWh/m² añ...</td>\n",
       "    </tr>\n",
       "  </tbody>\n",
       "</table>\n",
       "</div>"
      ],
      "text/plain": [
       "                                              Titulo         Localización  \\\n",
       "0           Chalet pareado en venta en Josep Albages  Sant Llorenç Savall   \n",
       "1           Chalet pareado en venta en Josep Albages  Sant Llorenç Savall   \n",
       "2               Casa de pueblo en venta en calle Nou  Sant Llorenç Savall   \n",
       "3      Casa o chalet independiente en venta en Avets  Sant Llorenç Savall   \n",
       "4   Casa o chalet independiente en venta en aveni...  Sant Llorenç Savall   \n",
       "\n",
       "   precio                            caracteristicas básicas  \\\n",
       "0  269000  ['Chalet pareado', '3 plantas', '254 m² constr...   \n",
       "1  269000  ['Chalet pareado', '3 plantas', '254 m² constr...   \n",
       "2   92000  ['Casa de pueblo', '4 plantas', '241 m² constr...   \n",
       "3  245000  ['Casa o chalet independiente', '2 plantas', '...   \n",
       "4  360000  ['Casa o chalet independiente', '1 planta', '2...   \n",
       "\n",
       "                                         Equipamento  \n",
       "0  ['Jardín', 'Consumo: \\n174 kWh/m² año', 'Emisi...  \n",
       "1  ['Jardín', 'Consumo: \\n174 kWh/m² año', 'Emisi...  \n",
       "2  ['Consumo: \\n208 kWh/m² año', 'Emisiones: \\n43...  \n",
       "3  ['Piscina', 'Jardín', 'Consumo: \\n174 kWh/m² a...  \n",
       "4  ['Piscina', 'Jardín', 'Consumo: \\n99 kWh/m² añ...  "
      ]
     },
     "execution_count": 2,
     "metadata": {},
     "output_type": "execute_result"
    }
   ],
   "source": [
    "df_casas = pd.read_csv(\"casas_idealista.csv\", encoding = \"utf-16\", sep=\";\")\n",
    "df_casas.head()"
   ]
  },
  {
   "cell_type": "code",
   "execution_count": 3,
   "metadata": {},
   "outputs": [
    {
     "data": {
      "text/plain": [
       "\"['Chalet pareado', '3 plantas', '254 m² construidos, 165 m² útiles', '5 habitaciones', '4 baños', 'Parcela de 268 m²', 'Terraza y balcón', 'Plaza de garaje incluida en el precio', 'Segunda mano/buen estado', 'Armarios empotrados', 'Trastero', 'Orientación sur, este', 'Construido en 1995', 'Calefacción individual']\""
      ]
     },
     "execution_count": 3,
     "metadata": {},
     "output_type": "execute_result"
    }
   ],
   "source": [
    "df_casas[\"caracteristicas básicas\"][0]"
   ]
  },
  {
   "cell_type": "markdown",
   "metadata": {},
   "source": [
    "# Convertir str a una lista organizada\n",
    "En nuestra base de datos tenemos que las columnas de \"Caracteristicas básicas\" y \"Equipamento\" tienen datos str pero que en realidad son listas, las tenemos que convertir de str a unas listas organizadas más faciles de manejar"
   ]
  },
  {
   "cell_type": "code",
   "execution_count": 4,
   "metadata": {},
   "outputs": [
    {
     "data": {
      "text/html": [
       "<div>\n",
       "<style scoped>\n",
       "    .dataframe tbody tr th:only-of-type {\n",
       "        vertical-align: middle;\n",
       "    }\n",
       "\n",
       "    .dataframe tbody tr th {\n",
       "        vertical-align: top;\n",
       "    }\n",
       "\n",
       "    .dataframe thead th {\n",
       "        text-align: right;\n",
       "    }\n",
       "</style>\n",
       "<table border=\"1\" class=\"dataframe\">\n",
       "  <thead>\n",
       "    <tr style=\"text-align: right;\">\n",
       "      <th></th>\n",
       "      <th>Titulo</th>\n",
       "      <th>Localización</th>\n",
       "      <th>precio</th>\n",
       "      <th>caracteristicas básicas</th>\n",
       "      <th>Equipamento</th>\n",
       "    </tr>\n",
       "  </thead>\n",
       "  <tbody>\n",
       "    <tr>\n",
       "      <th>0</th>\n",
       "      <td>Chalet pareado en venta en Josep Albages</td>\n",
       "      <td>Sant Llorenç Savall</td>\n",
       "      <td>269000</td>\n",
       "      <td>[Chalet pareado, 3 plantas, 254 m² construidos...</td>\n",
       "      <td>[Jardín, Consumo: \\n174 kWh/m² año, Emisiones:...</td>\n",
       "    </tr>\n",
       "    <tr>\n",
       "      <th>1</th>\n",
       "      <td>Chalet pareado en venta en Josep Albages</td>\n",
       "      <td>Sant Llorenç Savall</td>\n",
       "      <td>269000</td>\n",
       "      <td>[Chalet pareado, 3 plantas, 254 m² construidos...</td>\n",
       "      <td>[Jardín, Consumo: \\n174 kWh/m² año, Emisiones:...</td>\n",
       "    </tr>\n",
       "    <tr>\n",
       "      <th>2</th>\n",
       "      <td>Casa de pueblo en venta en calle Nou</td>\n",
       "      <td>Sant Llorenç Savall</td>\n",
       "      <td>92000</td>\n",
       "      <td>[Casa de pueblo, 4 plantas, 241 m² construidos...</td>\n",
       "      <td>[Consumo: \\n208 kWh/m² año, Emisiones: \\n43 kg...</td>\n",
       "    </tr>\n",
       "    <tr>\n",
       "      <th>3</th>\n",
       "      <td>Casa o chalet independiente en venta en Avets</td>\n",
       "      <td>Sant Llorenç Savall</td>\n",
       "      <td>245000</td>\n",
       "      <td>[Casa o chalet independiente, 2 plantas, 249 m...</td>\n",
       "      <td>[Piscina, Jardín, Consumo: \\n174 kWh/m² año, E...</td>\n",
       "    </tr>\n",
       "    <tr>\n",
       "      <th>4</th>\n",
       "      <td>Casa o chalet independiente en venta en aveni...</td>\n",
       "      <td>Sant Llorenç Savall</td>\n",
       "      <td>360000</td>\n",
       "      <td>[Casa o chalet independiente, 1 planta, 241 m²...</td>\n",
       "      <td>[Piscina, Jardín, Consumo: \\n99 kWh/m² año, Em...</td>\n",
       "    </tr>\n",
       "  </tbody>\n",
       "</table>\n",
       "</div>"
      ],
      "text/plain": [
       "                                              Titulo         Localización  \\\n",
       "0           Chalet pareado en venta en Josep Albages  Sant Llorenç Savall   \n",
       "1           Chalet pareado en venta en Josep Albages  Sant Llorenç Savall   \n",
       "2               Casa de pueblo en venta en calle Nou  Sant Llorenç Savall   \n",
       "3      Casa o chalet independiente en venta en Avets  Sant Llorenç Savall   \n",
       "4   Casa o chalet independiente en venta en aveni...  Sant Llorenç Savall   \n",
       "\n",
       "   precio                            caracteristicas básicas  \\\n",
       "0  269000  [Chalet pareado, 3 plantas, 254 m² construidos...   \n",
       "1  269000  [Chalet pareado, 3 plantas, 254 m² construidos...   \n",
       "2   92000  [Casa de pueblo, 4 plantas, 241 m² construidos...   \n",
       "3  245000  [Casa o chalet independiente, 2 plantas, 249 m...   \n",
       "4  360000  [Casa o chalet independiente, 1 planta, 241 m²...   \n",
       "\n",
       "                                         Equipamento  \n",
       "0  [Jardín, Consumo: \\n174 kWh/m² año, Emisiones:...  \n",
       "1  [Jardín, Consumo: \\n174 kWh/m² año, Emisiones:...  \n",
       "2  [Consumo: \\n208 kWh/m² año, Emisiones: \\n43 kg...  \n",
       "3  [Piscina, Jardín, Consumo: \\n174 kWh/m² año, E...  \n",
       "4  [Piscina, Jardín, Consumo: \\n99 kWh/m² año, Em...  "
      ]
     },
     "execution_count": 4,
     "metadata": {},
     "output_type": "execute_result"
    }
   ],
   "source": [
    "df_casas = pd.read_csv(\"casas_idealista.csv\", encoding = \"utf-16\", sep=\";\", converters={\"caracteristicas básicas\": literal_eval, \"Equipamento\": literal_eval})\n",
    "df_casas.head()"
   ]
  },
  {
   "cell_type": "code",
   "execution_count": 5,
   "metadata": {},
   "outputs": [
    {
     "data": {
      "text/plain": [
       "['Chalet pareado',\n",
       " '3 plantas',\n",
       " '254 m² construidos, 165 m² útiles',\n",
       " '5 habitaciones',\n",
       " '4 baños',\n",
       " 'Parcela de 268 m²',\n",
       " 'Terraza y balcón',\n",
       " 'Plaza de garaje incluida en el precio',\n",
       " 'Segunda mano/buen estado',\n",
       " 'Armarios empotrados',\n",
       " 'Trastero',\n",
       " 'Orientación sur, este',\n",
       " 'Construido en 1995',\n",
       " 'Calefacción individual']"
      ]
     },
     "execution_count": 5,
     "metadata": {},
     "output_type": "execute_result"
    }
   ],
   "source": [
    "df_casas[\"caracteristicas básicas\"][0]"
   ]
  },
  {
   "cell_type": "markdown",
   "metadata": {},
   "source": [
    "# Definición de funciones\n",
    "\n",
    "# 1. Match_property"
   ]
  },
  {
   "cell_type": "code",
   "execution_count": 12,
   "metadata": {},
   "outputs": [],
   "source": [
    "'''property --> se refiere a la propiedad en la que quiero buscar alguna palabra, en este caso \"con trastero\"\n",
    "   patterns --> se refiere a la palabra que quiero buscar dentro de la propeidad, en este caso \"con\" y será una lista '''\n",
    "\n",
    "def match_property(property, patterns):\n",
    "    for pat in patterns:\n",
    "        match_prop = re.search(pat, property) # Buscar el patrón en el property que le estoy dando\n",
    "        \n",
    "        if match_prop:                        # \"if match_prop\": quiere decir, si match_prop es verdad entonces, dame un True, sino un False\n",
    "            return True\n",
    "    return False"
   ]
  },
  {
   "cell_type": "code",
   "execution_count": 13,
   "metadata": {},
   "outputs": [
    {
     "data": {
      "text/plain": [
       "True"
      ]
     },
     "execution_count": 13,
     "metadata": {},
     "output_type": "execute_result"
    }
   ],
   "source": [
    "'''Prueba de la función creada\n",
    "   ¿Está \"con\" en \"con trastero?\" en caso de estar imprimir True, sino imprimir False'''\n",
    "\n",
    "match_property(\"con trastero\", [\"con\"])"
   ]
  },
  {
   "cell_type": "markdown",
   "metadata": {},
   "source": [
    "Esta función será util ya que si le proporciono una lista con varios elementos le puedo decir, cuando encuentres la palabra \"con\" en esta lista, acá debes actuar\n",
    "\n",
    "# 2. Check_property --> cumple la misma función que match_property pero me arroja 0 o 1"
   ]
  },
  {
   "cell_type": "code",
   "execution_count": 16,
   "metadata": {},
   "outputs": [],
   "source": [
    "def check_property(property, patterns):\n",
    "    for pat in patterns:\n",
    "        check = re.search(pat, property) # Buscar el patrón en el property que le estoy dando\n",
    "        \n",
    "        if check:                        # \"if check\": quiere decir, si check es verdad entonces, dame un 1, sino un 0\n",
    "            return 1\n",
    "    return 0"
   ]
  },
  {
   "cell_type": "code",
   "execution_count": 17,
   "metadata": {},
   "outputs": [
    {
     "data": {
      "text/plain": [
       "1"
      ]
     },
     "execution_count": 17,
     "metadata": {},
     "output_type": "execute_result"
    }
   ],
   "source": [
    "'''Prueba de la función creada\n",
    "   ¿Está \"con\" en \"con trastero?\" en caso de estar imprimir 1 si no imprimir 0'''\n",
    "\n",
    "check_property(\"con trastero\", [\"con\"])"
   ]
  },
  {
   "cell_type": "markdown",
   "metadata": {},
   "source": [
    "# 3. Get_number --> Me busca los numeros en un str"
   ]
  },
  {
   "cell_type": "code",
   "execution_count": 7,
   "metadata": {},
   "outputs": [],
   "source": [
    "def get_number(property):\n",
    "    nums = re.findall(r\"\\d+\", property)\n",
    "    if len(nums) == 2:\n",
    "        return int(nums[0]+nums[1])  # \"40.000\" -> \"40\" + \"000\" -> \"40000\" -> 40000\n",
    "    else:\n",
    "        return int(nums[0])"
   ]
  },
  {
   "cell_type": "code",
   "execution_count": 8,
   "metadata": {},
   "outputs": [
    {
     "data": {
      "text/plain": [
       "['2']"
      ]
     },
     "execution_count": 8,
     "metadata": {},
     "output_type": "execute_result"
    }
   ],
   "source": [
    "re.findall(r\"\\d+\", \"2 baños\")"
   ]
  },
  {
   "cell_type": "code",
   "execution_count": 9,
   "metadata": {},
   "outputs": [
    {
     "data": {
      "text/plain": [
       "2"
      ]
     },
     "execution_count": 9,
     "metadata": {},
     "output_type": "execute_result"
    }
   ],
   "source": [
    "get_number(\"2 baños\")"
   ]
  },
  {
   "cell_type": "code",
   "execution_count": 10,
   "metadata": {},
   "outputs": [
    {
     "data": {
      "text/plain": [
       "40000"
      ]
     },
     "execution_count": 10,
     "metadata": {},
     "output_type": "execute_result"
    }
   ],
   "source": [
    "get_number(\"40.000 de precio\")"
   ]
  },
  {
   "cell_type": "markdown",
   "metadata": {},
   "source": [
    "# 4. Get_ascensor"
   ]
  },
  {
   "cell_type": "code",
   "execution_count": 20,
   "metadata": {},
   "outputs": [],
   "source": [
    "'''Features --> es la lista de caracteristica que le voy dar a mi función'''\n",
    "\n",
    "def get_ascensor(features):\n",
    "    for prop in features:\n",
    "        \n",
    "        '''.lower() --> lo hace todo minuscula\n",
    "           .strip() --> le quita los espacios\n",
    "           \n",
    "           Primero estoy buscando donde aparece con ascensor, si aparece voy a activarlo y voy a buscar que tenga un \"con\", si lo tiene me\n",
    "           pone un 1 y si no tiene con me aparece un 0 \n",
    "           \n",
    "           Resumen: Si el elemento prop en minus y sin espacios coincide con \"ascensor\" aplicar check_property'''\n",
    "           \n",
    "        if match_property(prop.lower().strip(), [\"ascensor\"]):   \n",
    "            return(check_property(prop.lower().strip(), [\"con\"]))"
   ]
  },
  {
   "cell_type": "code",
   "execution_count": 21,
   "metadata": {},
   "outputs": [
    {
     "data": {
      "text/plain": [
       "True"
      ]
     },
     "execution_count": 21,
     "metadata": {},
     "output_type": "execute_result"
    }
   ],
   "source": [
    "'''Buscamos si aparece la palabra \"ascensor\" en minuscula y sin espacios, si aparece True, sino False'''\n",
    "match_property(\"con ascensor\".lower().strip(), [\"ascensor\"])"
   ]
  },
  {
   "cell_type": "code",
   "execution_count": 22,
   "metadata": {},
   "outputs": [
    {
     "data": {
      "text/plain": [
       "1"
      ]
     },
     "execution_count": 22,
     "metadata": {},
     "output_type": "execute_result"
    }
   ],
   "source": [
    "'''Luego Buscamos si aparece la palabra \"con\" en minuscula y sin espacios, si aparece 1, sino 0'''\n",
    "check_property(\"con ascensor\".lower().strip(), [\"con\"])"
   ]
  },
  {
   "cell_type": "code",
   "execution_count": 28,
   "metadata": {},
   "outputs": [
    {
     "name": "stdout",
     "output_type": "stream",
     "text": [
      "con ascensor de dar 1\n",
      "sin ascensor de dar 0\n"
     ]
    }
   ],
   "source": [
    "var_1 = get_ascensor([\"con ascensor\"])\n",
    "var_2 = get_ascensor([\"sin ascensor\"])\n",
    "print(\"con ascensor de dar \" + str(var_1))\n",
    "print(\"sin ascensor de dar \" + str(var_2))"
   ]
  },
  {
   "cell_type": "markdown",
   "metadata": {},
   "source": [
    "# 5. Get_baños\n",
    "\n",
    "Esta función nos sirve para lo mismo pero nos va a devolver el numero que esté en un str, entonces si el str es 2 baños, vamos a obtener el numero 2"
   ]
  },
  {
   "cell_type": "code",
   "execution_count": null,
   "metadata": {},
   "outputs": [],
   "source": [
    "def get_baños(features):\n",
    "    for pror in features:\n",
    "        if match_property "
   ]
  },
  {
   "cell_type": "markdown",
   "metadata": {},
   "source": []
  }
 ],
 "metadata": {
  "kernelspec": {
   "display_name": "base",
   "language": "python",
   "name": "python3"
  },
  "language_info": {
   "codemirror_mode": {
    "name": "ipython",
    "version": 3
   },
   "file_extension": ".py",
   "mimetype": "text/x-python",
   "name": "python",
   "nbconvert_exporter": "python",
   "pygments_lexer": "ipython3",
   "version": "3.11.5"
  }
 },
 "nbformat": 4,
 "nbformat_minor": 2
}
